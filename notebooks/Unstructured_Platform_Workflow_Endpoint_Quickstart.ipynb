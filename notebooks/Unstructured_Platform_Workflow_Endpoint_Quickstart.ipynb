{
  "nbformat": 4,
  "nbformat_minor": 0,
  "metadata": {
    "colab": {
      "provenance": []
    },
    "kernelspec": {
      "name": "python3",
      "display_name": "Python 3"
    },
    "language_info": {
      "name": "python"
    }
  },
  "cells": [
    {
      "cell_type": "markdown",
      "source": [
        "# Unstructured Workflow Endpoint Quickstart"
      ],
      "metadata": {
        "id": "Z8AvLcpmv8rE"
      }
    },
    {
      "cell_type": "markdown",
      "source": [
        "## What this notebook does\n",
        "\n",
        "This notebook uses the [Unstructured Workflow Endpoint](https://docs.unstructured.io/api-reference/workflow/overview) to have Unstructured process your source files stored in an Amazon S3 bucket, writing data about the processed files as a series of corresponding JSON files to a separate location in the same S3 bucket.\n",
        "\n",
        "You can modify this notebook to use different sources and destinations. Unstructured supports various storage, database, and vector store providers. [Learn more](https://docs.unstructured.io/api-reference/overview)."
      ],
      "metadata": {
        "id": "5wNPAx2QwCGG"
      }
    },
    {
      "cell_type": "markdown",
      "source": [
        "## What you'll need to get started\n",
        "\n",
        "1. An Unstructured API key. [Learn how to get one](https://docs.unstructured.io/platform-api/api/overview).\n",
        "2. An Amazon Web Services (AWS) account, along with your AWS secret key and AWS secret access key for authentication. You'll also need Amazon S3 bucket with the correct access settings applied, and two child folders inside of this S3 bucket with the folder names of `input` and `output`. [Learn how to set up all of this](https://docs.unstructured.io/platform-api/api/sources/s3).\n",
        "3. One or more files uploaded to the `input` folder in the S3 bucket. These are the files that Unstructured will process, sending the processed data into the `output` folder. If you don't have any files readily available to upload into the `input` folder, you can grab some from the [example-docs](https://github.com/Unstructured-IO/unstructured-ingest/tree/main/example-docs) folder in the `Unstructured-IO/unstructured-ingest` repository in GitHub."
      ],
      "metadata": {
        "id": "hgI9-3XowHgu"
      }
    },
    {
      "cell_type": "markdown",
      "source": [
        "## Step 1: Install the Unstructured API package\n",
        "\n",
        "Run the following cell to give the notebook access to the Unstructured Workflow Endpoint and to bring in the `datetime` library for assigning unique asset names in Unstructured."
      ],
      "metadata": {
        "id": "E5CL5iVB0oIF"
      }
    },
    {
      "cell_type": "code",
      "source": [
        "!pip install -U \"unstructured-client>=0.31.1\" datetime"
      ],
      "metadata": {
        "id": "zp8T30s300Ky"
      },
      "execution_count": null,
      "outputs": []
    },
    {
      "cell_type": "markdown",
      "source": [
        "## Step 2: Set variables\n",
        "\n",
        "In the following cell, replace the following placeholders, and then run the cell:\n",
        "\n",
        "1. Replace `<unstrucured-api-key>` with the value of your Unstructured API key.\n",
        "2. Replace `<bucket-name>` with the name of your S3 bucket.\n",
        "3. Replace `<aws-access-key>` with the value of your AWS secret key.\n",
        "4. Replace `<aws-secret-access-key>` with the value of your AWS secret access key."
      ],
      "metadata": {
        "id": "PSLM5_I6wN2g"
      }
    },
    {
      "cell_type": "code",
      "source": [
        "unstructured_api_key = \"<unstructured-api-key>\"\n",
        "bucket_uri = \"s3://<bucket-name>\"\n",
        "aws_access_key = \"<aws-access-key>\"\n",
        "aws_secret_access_key = \"<aws-secret-access-key>\""
      ],
      "metadata": {
        "id": "iKEkEUBW0G2K"
      },
      "execution_count": null,
      "outputs": []
    },
    {
      "cell_type": "markdown",
      "source": [
        "## Step 3: Initialize the endpoint and helper function\n",
        "\n",
        "Run the following cell to initialize the Unstructured Workflow Endpoint and to create a helper function that Unstructured can use to print information in a more readable format."
      ],
      "metadata": {
        "id": "rIWxGFOm1CSz"
      }
    },
    {
      "cell_type": "code",
      "source": [
        "from unstructured_client import UnstructuredClient\n",
        "\n",
        "unstructured_client = UnstructuredClient(api_key_auth=unstructured_api_key)\n",
        "\n",
        "def pretty_print_model(response_model):\n",
        "    print(response_model.model_dump_json(indent=4))"
      ],
      "metadata": {
        "id": "lNbpG7N01NW_"
      },
      "execution_count": null,
      "outputs": []
    },
    {
      "cell_type": "markdown",
      "source": [
        "## Step 4: Create the source connector\n",
        "\n",
        "Run the following cell to create the source connector. If successful, Unstructured prints information about the newly created source connector."
      ],
      "metadata": {
        "id": "78gSZnm3wVfw"
      }
    },
    {
      "cell_type": "code",
      "source": [
        "from unstructured_client.models.operations import CreateSourceRequest\n",
        "from unstructured_client.models.shared import S3SourceConnectorConfigInput, CreateSourceConnector, SourceConnectorType\n",
        "from datetime import datetime\n",
        "\n",
        "source_connector_config = S3SourceConnectorConfigInput(\n",
        "    remote_url=f\"{bucket_uri}/input\",\n",
        "    key=aws_access_key,\n",
        "    secret=aws_secret_access_key\n",
        ")\n",
        "\n",
        "unique_source_connector_suffix = datetime.now().strftime(\"%Y-%m-%d-%H-%M-%S\")\n",
        "\n",
        "response = unstructured_client.sources.create_source(\n",
        "    request=CreateSourceRequest(\n",
        "        create_source_connector=CreateSourceConnector(\n",
        "            name=f\"s3-source-{unique_source_connector_suffix}\",\n",
        "            type=SourceConnectorType.S3,\n",
        "            config=source_connector_config,\n",
        "        )\n",
        "    )\n",
        ")\n",
        "\n",
        "source_connector_id = response.source_connector_information.id\n",
        "pretty_print_model(response.source_connector_information)"
      ],
      "metadata": {
        "id": "RylyDdc90aWG"
      },
      "execution_count": null,
      "outputs": []
    },
    {
      "cell_type": "markdown",
      "source": [
        "## Step 5: Create the destination connector\n",
        "\n",
        "Run the following cell to create the destination connector. If successful, Unstructured prints information about the newly created destination connector."
      ],
      "metadata": {
        "id": "LFaaWfdawZKQ"
      }
    },
    {
      "cell_type": "code",
      "source": [
        "from unstructured_client.models.operations import CreateDestinationRequest\n",
        "from unstructured_client.models.shared import S3DestinationConnectorConfigInput, CreateDestinationConnector, DestinationConnectorType\n",
        "\n",
        "destination_connector_config = S3DestinationConnectorConfigInput(\n",
        "    remote_url=f\"{bucket_uri}/output\",\n",
        "    key=aws_access_key,\n",
        "    secret=aws_secret_access_key\n",
        ")\n",
        "\n",
        "unique_destination_connector_suffix = datetime.now().strftime(\"%Y-%m-%d-%H-%M-%S\")\n",
        "\n",
        "response = unstructured_client.destinations.create_destination(\n",
        "    request=CreateDestinationRequest(\n",
        "        create_destination_connector=CreateDestinationConnector(\n",
        "            name=f\"s3-destination-{unique_source_connector_suffix}\",\n",
        "            type=DestinationConnectorType.S3,\n",
        "            config=destination_connector_config,\n",
        "        )\n",
        "    )\n",
        ")\n",
        "\n",
        "destination_connector_id = response.destination_connector_information.id\n",
        "pretty_print_model(response.destination_connector_information)"
      ],
      "metadata": {
        "id": "BP9f4ttwIIsp"
      },
      "execution_count": null,
      "outputs": []
    },
    {
      "cell_type": "markdown",
      "source": [
        "## Step 6: Create the workflow\n",
        "\n",
        "Run the following cell to create the workflow. If successful, Unstructured prints information about the newly created workflow."
      ],
      "metadata": {
        "id": "pCEO1jxjwb30"
      }
    },
    {
      "cell_type": "code",
      "source": [
        "from unstructured_client.models.shared import (\n",
        "    WorkflowNode,\n",
        "    WorkflowType,\n",
        "    Schedule\n",
        ")\n",
        "\n",
        "# Partition the content by using a vision language model (VLM).\n",
        "parition_node = WorkflowNode(\n",
        "    name=\"Partitioner\",\n",
        "    subtype=\"vlm\",\n",
        "    type=\"partition\",\n",
        "    settings={\n",
        "        \"provider\": \"anthropic\",\n",
        "        \"provider_api_key\": None,\n",
        "        \"model\": \"claude-3-5-sonnet-20241022\",\n",
        "        \"output_format\": \"text/html\",\n",
        "        \"user_prompt\": None,\n",
        "        \"format_html\": True,\n",
        "        \"unique_element_ids\": True,\n",
        "        \"is_dynamic\": True,\n",
        "        \"allow_fast\": True\n",
        "    }\n",
        ")\n",
        "\n",
        "# Summarize each detected image.\n",
        "image_summarizer_node = WorkflowNode(\n",
        "    name=\"Image summarizer\",\n",
        "    subtype=\"openai_image_description\",\n",
        "    type=\"prompter\",\n",
        "    settings={}\n",
        ")\n",
        "\n",
        "# Summarize each detected table.\n",
        "table_summarizer_node = WorkflowNode(\n",
        "    name=\"Table summarizer\",\n",
        "    subtype=\"anthropic_table_description\",\n",
        "    type=\"prompter\",\n",
        "    settings={}\n",
        ")\n",
        "\n",
        "# Label each recognized named entity.\n",
        "named_entity_recognizer_node = WorkflowNode(\n",
        "    name=\"Named entity recognizer\",\n",
        "    subtype=\"openai_ner\",\n",
        "    type=\"prompter\",\n",
        "    settings={\n",
        "        \"prompt_interface_overrides\": None\n",
        "    }\n",
        ")\n",
        "\n",
        "# Chunk the partitioned content.\n",
        "chunk_node = WorkflowNode(\n",
        "    name=\"Chunker\",\n",
        "    subtype=\"chunk_by_title\",\n",
        "    type=\"chunk\",\n",
        "    settings={\n",
        "        \"unstructured_api_url\": None,\n",
        "        \"unstructured_api_key\": None,\n",
        "        \"multipage_sections\": False,\n",
        "        \"combine_text_under_n_chars\": 0,\n",
        "        \"include_orig_elements\": True,\n",
        "        \"new_after_n_chars\": 1500,\n",
        "        \"max_characters\": 2048,\n",
        "        \"overlap\": 160,\n",
        "        \"overlap_all\": False,\n",
        "        \"contextual_chunking_strategy\": None\n",
        "    }\n",
        ")\n",
        "\n",
        "# Generate vector embeddings.\n",
        "embed_node = WorkflowNode(\n",
        "    name=\"Embedder\",\n",
        "    subtype=\"azure_openai\",\n",
        "    type=\"embed\",\n",
        "    settings={\n",
        "        \"model_name\": \"text-embedding-3-large\"\n",
        "    }\n",
        ")\n",
        "\n",
        "unique_workflow_suffix = datetime.now().strftime(\"%Y-%m-%d-%H-%M-%S\")\n",
        "\n",
        "response = unstructured_client.workflows.create_workflow(\n",
        "    request={\n",
        "        \"create_workflow\": {\n",
        "            \"name\": f\"s3-to-s3-custom-workflow-{unique_workflow_suffix}\",\n",
        "            \"source_id\": source_connector_id,\n",
        "            \"destination_id\": destination_connector_id,\n",
        "            \"workflow_type\": WorkflowType.CUSTOM,\n",
        "            \"workflow_nodes\": [\n",
        "                parition_node,\n",
        "                image_summarizer_node,\n",
        "                table_summarizer_node,\n",
        "                named_entity_recognizer_node,\n",
        "                chunk_node,\n",
        "                embed_node\n",
        "            ],\n",
        "            \"schedule\": Schedule(\"monthly\")\n",
        "        }\n",
        "    }\n",
        ")\n",
        "\n",
        "workflow_id = response.workflow_information.id\n",
        "pretty_print_model(response.workflow_information)"
      ],
      "metadata": {
        "id": "IGnCgfH2I2L8"
      },
      "execution_count": null,
      "outputs": []
    },
    {
      "cell_type": "markdown",
      "source": [
        "## Step 7: Run the workflow\n",
        "\n",
        "Run the following cell to start running the workflow. Unstructured will begin processing the files in the `input` folder, sending the processed data into the `output` folder. If successful, Unstructured prints information about the workflow that is running."
      ],
      "metadata": {
        "id": "tOIkt9GOwf6i"
      }
    },
    {
      "cell_type": "code",
      "source": [
        "res = unstructured_client.workflows.run_workflow(\n",
        "    request={\n",
        "        \"workflow_id\": workflow_id,\n",
        "    }\n",
        ")\n",
        "\n",
        "pretty_print_model(res.job_information)"
      ],
      "metadata": {
        "id": "7QLgPRt-JNYD"
      },
      "execution_count": null,
      "outputs": []
    },
    {
      "cell_type": "markdown",
      "source": [
        "## Step 8: Get the workflow run's job ID\n",
        "\n",
        "Run the following cell to get the workflow run's job ID, which is needed to poll for job completion later. If successful, Unstructured prints the job's ID."
      ],
      "metadata": {
        "id": "ObIv1fHfwigb"
      }
    },
    {
      "cell_type": "code",
      "source": [
        "response = unstructured_client.jobs.list_jobs(\n",
        "    request={\n",
        "        \"workflow_id\": workflow_id\n",
        "    }\n",
        ")\n",
        "\n",
        "last_job = response.response_list_jobs[0]\n",
        "job_id = last_job.id\n",
        "print(f\"job_id: {job_id}\")"
      ],
      "metadata": {
        "id": "LP5ZPuQJJgQp"
      },
      "execution_count": null,
      "outputs": []
    },
    {
      "cell_type": "markdown",
      "source": [
        "## Step 9: Poll for job completion\n",
        "\n",
        "Run the following cell to confirm the job has finished running. If successful, Unstructured prints `\"status\": \"COMPLETED\"` within the information about the job."
      ],
      "metadata": {
        "id": "hJoLbPwLJupD"
      }
    },
    {
      "cell_type": "code",
      "source": [
        "import time\n",
        "\n",
        "def poll_job_status(job_id):\n",
        "    while True:\n",
        "        response = unstructured_client.jobs.get_job(\n",
        "            request={\n",
        "                \"job_id\": job_id\n",
        "            }\n",
        "        )\n",
        "\n",
        "        job = response.job_information\n",
        "\n",
        "        if job.status == \"SCHEDULED\":\n",
        "            print(\"Job is scheduled, polling again in 10 seconds...\")\n",
        "            time.sleep(10)\n",
        "        elif job.status == \"IN_PROGRESS\":\n",
        "            print(\"Job is in progress, polling again in 10 seconds...\")\n",
        "            time.sleep(10)\n",
        "        else:\n",
        "            print(\"Job is completed\")\n",
        "            break\n",
        "\n",
        "    return job\n",
        "\n",
        "job = poll_job_status(job_id)\n",
        "pretty_print_model(job)"
      ],
      "metadata": {
        "id": "nEfi8Q_SJzuh"
      },
      "execution_count": null,
      "outputs": []
    },
    {
      "cell_type": "markdown",
      "source": [
        "## Step 10: View the processed data\n",
        "\n",
        "After the job has successfully completed, look in your S3 bucket's `output` folder for the processed data."
      ],
      "metadata": {
        "id": "pGSIi33eJ_MC"
      }
    },
    {
      "cell_type": "markdown",
      "source": [
        "## Learn more\n",
        "\n",
        "Learn more about the:\n",
        "\n",
        "- [Unstructured Workflow Endpoint](https://docs.unstructured.io/api-reference/workflow/overview)\n",
        "- [Unstructured user interface (UI)](https://docs.unstructured.io/ui/overview)"
      ],
      "metadata": {
        "id": "HR7hsOdUwm9d"
      }
    }
  ]
}