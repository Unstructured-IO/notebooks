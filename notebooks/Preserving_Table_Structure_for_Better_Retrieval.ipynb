{
  "nbformat": 4,
  "nbformat_minor": 0,
  "metadata": {
    "colab": {
      "provenance": []
    },
    "kernelspec": {
      "name": "python3",
      "display_name": "Python 3"
    },
    "language_info": {
      "name": "python"
    }
  },
  "cells": [
    {
      "cell_type": "markdown",
      "source": [
        "## 📄 Preserving Table Structure for Better Retrieval\n",
        "\n",
        "Financial documents like 10-Qs and earnings releases often contain important data inside tables. These tables are usually embedded in PDFs, which makes them hard to extract and even harder to query later.\n",
        "\n",
        "In this notebook, we'll build a pipeline to process those documents and preserve the tabular structure in a way that's usable by downstream applications.\n",
        "\n",
        "Specifically, we'll:\n",
        "\n",
        "- Use **Unstructured** to extract tables from PDFs and represent them as HTML\n",
        "- Store the structured HTML chunks in **AstraDB** with OpenAI embeddings\n",
        "- Run semantic queries to fetch tables related to a question\n",
        "- Display the tables as HTML to preserve layout and formatting\n",
        "\n",
        "The goal here is not generation or summarization, it's to keep the table structure intact so it can be used by other systems, agents, or UI components later on.\n",
        "\n",
        "This approach is useful when working with data where much of the critical information is stored in tables, and structure needs to be preserved for any downstream use.\n"
      ],
      "metadata": {
        "id": "q6YEKxii0WgP"
      }
    },
    {
      "cell_type": "markdown",
      "source": [
        "#Preparing the Data\n",
        "To prepare data for retrieval, we need to first break down the raw PDFs into structured chunks. This step is foundational for any RAG pipeline, and it’s where [Unstructured](https://unstructured.io) comes in.\n",
        "\n",
        "The Unstructured API lets us:\n",
        "- Extract clean, structured content from any document.\n",
        "- Generates metadata, chunk text, and prep it for downstream applications."
      ],
      "metadata": {
        "id": "Liy5kmr7DKp7"
      }
    },
    {
      "cell_type": "markdown",
      "source": [
        "## Setting Up the Unstructured Client\n",
        "\n",
        "Before we can begin parsing documents, we need to set up access to the [Unstructured platform](https://unstructured.io). The Unstructured Platform API allows us to programmatically process documents, extract structured elements, and prepare them for chunking and embedding, all from within this notebook.\n",
        "\n",
        "[Contact us](https://unstructured.io/enterprise) to get access or log in if you're already a user.\n"
      ],
      "metadata": {
        "id": "-IDg_hZ-Dqzo"
      }
    },
    {
      "cell_type": "code",
      "execution_count": null,
      "metadata": {
        "colab": {
          "base_uri": "https://localhost:8080/"
        },
        "id": "1yEFnvkQGcSV",
        "outputId": "0e12201d-b3d2-47fd-a71e-c0dcd43349ba",
        "collapsed": true
      },
      "outputs": [
        {
          "output_type": "stream",
          "name": "stdout",
          "text": [
            "Collecting unstructured-client\n",
            "  Downloading unstructured_client-0.42.1-py3-none-any.whl.metadata (23 kB)\n",
            "Requirement already satisfied: aiofiles>=24.1.0 in /usr/local/lib/python3.11/dist-packages (from unstructured-client) (24.1.0)\n",
            "Requirement already satisfied: cryptography>=3.1 in /usr/local/lib/python3.11/dist-packages (from unstructured-client) (43.0.3)\n",
            "Requirement already satisfied: httpcore>=1.0.9 in /usr/local/lib/python3.11/dist-packages (from unstructured-client) (1.0.9)\n",
            "Requirement already satisfied: httpx>=0.27.0 in /usr/local/lib/python3.11/dist-packages (from unstructured-client) (0.28.1)\n",
            "Requirement already satisfied: pydantic>=2.11.2 in /usr/local/lib/python3.11/dist-packages (from unstructured-client) (2.11.7)\n",
            "Collecting pypdf>=4.0 (from unstructured-client)\n",
            "  Downloading pypdf-5.9.0-py3-none-any.whl.metadata (7.1 kB)\n",
            "Requirement already satisfied: requests-toolbelt>=1.0.0 in /usr/local/lib/python3.11/dist-packages (from unstructured-client) (1.0.0)\n",
            "Requirement already satisfied: cffi>=1.12 in /usr/local/lib/python3.11/dist-packages (from cryptography>=3.1->unstructured-client) (1.17.1)\n",
            "Requirement already satisfied: certifi in /usr/local/lib/python3.11/dist-packages (from httpcore>=1.0.9->unstructured-client) (2025.7.14)\n",
            "Requirement already satisfied: h11>=0.16 in /usr/local/lib/python3.11/dist-packages (from httpcore>=1.0.9->unstructured-client) (0.16.0)\n",
            "Requirement already satisfied: anyio in /usr/local/lib/python3.11/dist-packages (from httpx>=0.27.0->unstructured-client) (4.9.0)\n",
            "Requirement already satisfied: idna in /usr/local/lib/python3.11/dist-packages (from httpx>=0.27.0->unstructured-client) (3.10)\n",
            "Requirement already satisfied: annotated-types>=0.6.0 in /usr/local/lib/python3.11/dist-packages (from pydantic>=2.11.2->unstructured-client) (0.7.0)\n",
            "Requirement already satisfied: pydantic-core==2.33.2 in /usr/local/lib/python3.11/dist-packages (from pydantic>=2.11.2->unstructured-client) (2.33.2)\n",
            "Requirement already satisfied: typing-extensions>=4.12.2 in /usr/local/lib/python3.11/dist-packages (from pydantic>=2.11.2->unstructured-client) (4.14.1)\n",
            "Requirement already satisfied: typing-inspection>=0.4.0 in /usr/local/lib/python3.11/dist-packages (from pydantic>=2.11.2->unstructured-client) (0.4.1)\n",
            "Requirement already satisfied: requests<3.0.0,>=2.0.1 in /usr/local/lib/python3.11/dist-packages (from requests-toolbelt>=1.0.0->unstructured-client) (2.32.3)\n",
            "Requirement already satisfied: pycparser in /usr/local/lib/python3.11/dist-packages (from cffi>=1.12->cryptography>=3.1->unstructured-client) (2.22)\n",
            "Requirement already satisfied: charset-normalizer<4,>=2 in /usr/local/lib/python3.11/dist-packages (from requests<3.0.0,>=2.0.1->requests-toolbelt>=1.0.0->unstructured-client) (3.4.2)\n",
            "Requirement already satisfied: urllib3<3,>=1.21.1 in /usr/local/lib/python3.11/dist-packages (from requests<3.0.0,>=2.0.1->requests-toolbelt>=1.0.0->unstructured-client) (2.5.0)\n",
            "Requirement already satisfied: sniffio>=1.1 in /usr/local/lib/python3.11/dist-packages (from anyio->httpx>=0.27.0->unstructured-client) (1.3.1)\n",
            "Downloading unstructured_client-0.42.1-py3-none-any.whl (207 kB)\n",
            "\u001b[2K   \u001b[90m━━━━━━━━━━━━━━━━━━━━━━━━━━━━━━━━━━━━━━━━\u001b[0m \u001b[32m207.2/207.2 kB\u001b[0m \u001b[31m8.4 MB/s\u001b[0m eta \u001b[36m0:00:00\u001b[0m\n",
            "\u001b[?25hDownloading pypdf-5.9.0-py3-none-any.whl (313 kB)\n",
            "\u001b[2K   \u001b[90m━━━━━━━━━━━━━━━━━━━━━━━━━━━━━━━━━━━━━━━━\u001b[0m \u001b[32m313.2/313.2 kB\u001b[0m \u001b[31m16.3 MB/s\u001b[0m eta \u001b[36m0:00:00\u001b[0m\n",
            "\u001b[?25hInstalling collected packages: pypdf, unstructured-client\n",
            "Successfully installed pypdf-5.9.0 unstructured-client-0.42.1\n"
          ]
        }
      ],
      "source": [
        "!pip install -U \"unstructured-client\""
      ]
    },
    {
      "cell_type": "markdown",
      "source": [
        "If you haven’t already:\n",
        "1. Login\n",
        "2. In the sidebar, go to **API Keys**.\n",
        "3. Click **New Key**, give it a name, and copy the key.\n"
      ],
      "metadata": {
        "id": "es7EaldpEtj7"
      }
    },
    {
      "cell_type": "code",
      "source": [
        "import os\n",
        "import time\n",
        "from google.colab import userdata\n",
        "from unstructured_client import UnstructuredClient"
      ],
      "metadata": {
        "id": "mUUQ6TnbE-R-"
      },
      "execution_count": null,
      "outputs": []
    },
    {
      "cell_type": "markdown",
      "source": [
        "Fetching the keys from Colab Secrets!"
      ],
      "metadata": {
        "id": "8vH2wwCAF2mF"
      }
    },
    {
      "cell_type": "code",
      "source": [
        "os.environ['UNSTRUCTURED_API_KEY'] = userdata.get(\"UNSTRUCTURED_API_KEY\")\n",
        "client = UnstructuredClient(api_key_auth=os.getenv(\"UNSTRUCTURED_API_KEY\"))"
      ],
      "metadata": {
        "id": "wUG_gKfH0d9R"
      },
      "execution_count": null,
      "outputs": []
    },
    {
      "cell_type": "code",
      "source": [
        "# utility for inspecting responses in a readable way\n",
        "def pretty_print_model(response_model):\n",
        "    print(response_model.model_dump_json(indent=4))"
      ],
      "metadata": {
        "id": "aAgNx9Ej0cjz"
      },
      "execution_count": null,
      "outputs": []
    },
    {
      "cell_type": "markdown",
      "source": [
        "## Setting up the S3 Source Connector\n",
        "\n",
        "\n",
        "We’ll start by connecting to our document source on S3.\n",
        "\n",
        "This example uses **AWS access key and secret** for authentication. You'll want to save the following secrets in Colab beforehand:\n",
        "\n",
        "- `AWS_ACCESS`\n",
        "- `AWS_SECRET`\n",
        "- `S3_REMOTE_URL` — the URI to your S3 bucket, e.g.:\n",
        "  - `s3://my-bucket/` (for root-level files)\n",
        "  - `s3://my-bucket/my-folder/` (for nested folders)\n",
        "\n",
        "Once those are set, we can spin up a source connector that points to your remote content.\n",
        "\n",
        "Need more auth options? [Check the docs](https://docs.unstructured.io/api-reference/workflow/sources/s3)."
      ],
      "metadata": {
        "id": "RXvczp6t0h_S"
      }
    },
    {
      "cell_type": "code",
      "source": [
        "os.environ['AWS_ACCESS'] = userdata.get('AWS_ACCESS')\n",
        "os.environ['AWS_SECRET'] = userdata.get('AWS_SECRET')\n",
        "os.environ['S3_REMOTE_URL'] = userdata.get('S3_REMOTE_URL')"
      ],
      "metadata": {
        "id": "gebtI0S20fum"
      },
      "execution_count": null,
      "outputs": []
    },
    {
      "cell_type": "code",
      "source": [
        "from unstructured_client.models.operations import CreateSourceRequest\n",
        "from unstructured_client.models.shared import CreateSourceConnector\n",
        "\n",
        "\n",
        "source_response = client.sources.create_source(\n",
        "        request=CreateSourceRequest(\n",
        "            create_source_connector=CreateSourceConnector(\n",
        "                name=\"Table Analysis Source_\",\n",
        "                type=\"s3\",\n",
        "                config={\n",
        "                  \"key\": os.environ.get('AWS_ACCESS'),\n",
        "                  \"secret\": os.environ.get('AWS_SECRET'),\n",
        "                  \"remote_url\": os.environ.get('S3_REMOTE_URL'),\n",
        "                  \"recursive\": True\n",
        "                }\n",
        "            )\n",
        "        )\n",
        "    )"
      ],
      "metadata": {
        "id": "v-HJOSLTnfw6"
      },
      "execution_count": null,
      "outputs": []
    },
    {
      "cell_type": "code",
      "source": [
        "from unstructured_client.models.operations import CreateSourceRequest\n",
        "from unstructured_client.models.shared import (\n",
        "    CreateSourceConnector,\n",
        "    SourceConnectorType,\n",
        "    S3SourceConnectorConfigInput\n",
        ")\n",
        "\n",
        "source_response = client.sources.create_source(\n",
        "    request=CreateSourceRequest(\n",
        "        create_source_connector=CreateSourceConnector(\n",
        "            name=f\"Table Analysis Source_\",\n",
        "            type=SourceConnectorType.S3,\n",
        "            config=S3SourceConnectorConfigInput(\n",
        "                key=os.environ.get('AWS_ACCESS'),\n",
        "                secret=os.environ.get('AWS_SECRET'),\n",
        "                remote_url=os.environ.get('S3_REMOTE_URL'),\n",
        "                recursive=True\n",
        "            )\n",
        "        )\n",
        "    )\n",
        ")"
      ],
      "metadata": {
        "id": "8GvTF2jI0lED"
      },
      "execution_count": null,
      "outputs": []
    },
    {
      "cell_type": "code",
      "source": [
        "pretty_print_model(source_response.source_connector_information)"
      ],
      "metadata": {
        "colab": {
          "base_uri": "https://localhost:8080/"
        },
        "id": "os1_javB0mQT",
        "outputId": "043125f8-fad3-435e-abc0-fd2927565a00"
      },
      "execution_count": null,
      "outputs": [
        {
          "output_type": "stream",
          "name": "stdout",
          "text": [
            "{\n",
            "    \"config\": {\n",
            "        \"anonymous\": false,\n",
            "        \"recursive\": true,\n",
            "        \"remote_url\": \"s3://ajay-uns-devrel-content/agentic-analysis/\",\n",
            "        \"key\": \"**********\",\n",
            "        \"secret\": \"**********\"\n",
            "    },\n",
            "    \"created_at\": \"2025-08-06T13:43:31.376615Z\",\n",
            "    \"id\": \"de99e386-d13d-4450-8c96-928a1b350a41\",\n",
            "    \"name\": \"Table Analysis Source_\",\n",
            "    \"type\": \"s3\",\n",
            "    \"updated_at\": \"2025-08-06T13:43:31.527712Z\"\n",
            "}\n"
          ]
        }
      ]
    },
    {
      "cell_type": "markdown",
      "source": [
        "## Setting up the AstraDB Destination Connector\n",
        "\n",
        "With our documents flowing in from S3, let’s define where they’ll be stored after processing.\n",
        "\n",
        "For this, we’ll use **Astra DB**, a serverless vector database that integrates cleanly with Unstructured’s pipeline. All chunked + embedded records will be pushed directly into an Astra collection for retrieval and querying later.\n",
        "\n",
        "\n",
        "Make sure the following secrets are set in your Colab environment:\n",
        "\n",
        "- `ASTRA_DB_API_ENDPOINT` — the database’s REST API endpoint  \n",
        "- `ASTRA_DB_APPLICATION_TOKEN` — app token with write access  \n",
        "- `ASTRA_DB_COLLECTION_NAME` — name of the collection inside the keyspace  \n",
        "- `ASTRA_DB_KEYSPACE` — the keyspace where this collection will live\n",
        "\n",
        "> 🧠 If the collection doesn't exist yet, Unstructured will create one at runtime.  \n",
        "> Just make sure your embedding model dimensions match the collection’s config.\n",
        "\n",
        "We’ll now create the destination connector that sends data from Unstructured → Astra. For detailed information on the credentials and arguments, refer to [this doc](https://docs.unstructured.io/api-reference/workflow/destinations/astradb)"
      ],
      "metadata": {
        "id": "XQgI4qJr0oFC"
      }
    },
    {
      "cell_type": "code",
      "source": [
        "os.environ['ASTRA_DB_API_ENDPOINT'] = userdata.get('ASTRA_DB_API_ENDPOINT')\n",
        "os.environ['ASTRA_DB_APPLICATION_TOKEN'] = userdata.get('ASTRA_DB_APPLICATION_TOKEN')\n",
        "os.environ['ASTRA_DB_COLLECTION_NAME'] = userdata.get('ASTRA_DB_COLLECTION_NAME')\n",
        "os.environ['ASTRA_DB_KEYSPACE'] = userdata.get('ASTRA_DB_KEYSPACE')"
      ],
      "metadata": {
        "id": "J8eBYS48G734"
      },
      "execution_count": null,
      "outputs": []
    },
    {
      "cell_type": "code",
      "source": [
        "from unstructured_client.models.operations import CreateDestinationRequest\n",
        "from unstructured_client.models.shared import CreateDestinationConnector\n",
        "\n",
        "destination_response = client.destinations.create_destination(\n",
        "    request=CreateDestinationRequest(\n",
        "        create_destination_connector=CreateDestinationConnector(\n",
        "            name=\"Table Analysis Destination_\",\n",
        "            type=\"astradb\",\n",
        "            config={\n",
        "                \"token\": os.environ.get('ASTRA_DB_APPLICATION_TOKEN'),\n",
        "                \"api_endpoint\": os.environ.get('ASTRA_DB_API_ENDPOINT'),\n",
        "                \"collection_name\": os.environ.get('ASTRA_DB_COLLECTION_NAME'),\n",
        "                \"keyspace\": os.environ.get('ASTRA_DB_KEYSPACE'),\n",
        "                \"batch_size\": 20,\n",
        "                \"flatten_metadata\": False\n",
        "            }\n",
        "        )\n",
        "    )\n",
        ")"
      ],
      "metadata": {
        "id": "mEI9o7iroQvx"
      },
      "execution_count": null,
      "outputs": []
    },
    {
      "cell_type": "code",
      "source": [
        "pretty_print_model(destination_response.destination_connector_information)"
      ],
      "metadata": {
        "colab": {
          "base_uri": "https://localhost:8080/"
        },
        "id": "q2sVCeSjodGs",
        "outputId": "3986de16-018f-4a6c-8cc9-20cce2fd6615"
      },
      "execution_count": null,
      "outputs": [
        {
          "output_type": "stream",
          "name": "stdout",
          "text": [
            "{\n",
            "    \"config\": {\n",
            "        \"api_endpoint\": \"**********\",\n",
            "        \"batch_size\": 20,\n",
            "        \"collection_name\": \"uns_demo_1\",\n",
            "        \"token\": \"**********\",\n",
            "        \"keyspace\": \"demo2\"\n",
            "    },\n",
            "    \"created_at\": \"2025-08-06T13:45:59.454874Z\",\n",
            "    \"id\": \"293f4a19-5bc0-4868-a0d0-7bde3b249e76\",\n",
            "    \"name\": \"Table Analysis Destination_\",\n",
            "    \"type\": \"astradb\",\n",
            "    \"updated_at\": \"2025-08-06T13:45:59.614155Z\"\n",
            "}\n"
          ]
        }
      ]
    },
    {
      "cell_type": "code",
      "source": [
        "from unstructured_client.models.operations import CreateDestinationRequest\n",
        "from unstructured_client.models.shared import (\n",
        "    CreateDestinationConnector,\n",
        "    DestinationConnectorType,\n",
        "    AstraDBConnectorConfigInput\n",
        ")\n",
        "destination_response = client.destinations.create_destination(\n",
        "    request=CreateDestinationRequest(\n",
        "        create_destination_connector=CreateDestinationConnector(\n",
        "            name=\"Table Analysis Destination_\",\n",
        "            type=\"astradb\",\n",
        "            config=AstraDBConnectorConfigInput(\n",
        "\n",
        "            )\n",
        "        )\n",
        "    )\n",
        ")"
      ],
      "metadata": {
        "id": "o2I_h7rlG-T4"
      },
      "execution_count": null,
      "outputs": []
    },
    {
      "cell_type": "markdown",
      "source": [
        "Next, we’ll wire everything together into a full document processing workflow.\n"
      ],
      "metadata": {
        "id": "ZIy3Y1gEGpOj"
      }
    },
    {
      "cell_type": "markdown",
      "source": [
        "## Creating the Processing Workflow\n",
        "\n",
        "In this version of the pipeline, we’re not just cleaning up PDFs — we’re enriching them with useful metadata and semantic summaries before embedding.\n",
        "\n",
        "This workflow introduces multiple processing stages beyond the standard partition–chunk–embed stack:\n",
        "\n",
        "\n",
        "### What’s in the Flow\n",
        "\n",
        "- **Partitioner**  \n",
        "  Extracts high-fidelity document elements using Unstructured’s `hi_res` strategy. Also enables table structure inference and captures image/table blocks explicitly.\n",
        "\n",
        "- **Image Summarizer**  \n",
        "  Uses OpenAI to generate captions for extracted images.\n",
        "\n",
        "- **Table Summarizer**  \n",
        "  Summarizes the structure and contents of tables using Anthropic's model.\n",
        "\n",
        "- **Chunker**  \n",
        "  Segments the enriched elements into overlapping, title-aware sections — ideal for focused retrieval.\n",
        "\n",
        "- **Embedder**  \n",
        "  Converts each chunk into a vector using Azure-hosted `text-embedding-3-large` for semantic search downstream.\n",
        "\n",
        "\n",
        "\n",
        "This is a great setup when you want your RAG system to reason over structured documents that include **tables**, **figures**, or **formal language** — especially when entity extraction and summarization matter.\n",
        "\n",
        "You can modify or swap any node depending on your retrieval goals. For more node types, check the [Unstructured Concepts Guide](https://docs.unstructured.io/ui/document-elements).\n"
      ],
      "metadata": {
        "id": "onYT6ODu0uSp"
      }
    },
    {
      "cell_type": "code",
      "source": [
        "from unstructured_client.models.shared import (\n",
        "    WorkflowNode,\n",
        "    WorkflowType,\n",
        "    Schedule\n",
        ")\n",
        "\n",
        "parition_node = WorkflowNode(\n",
        "    name=\"Partitioner\",\n",
        "    subtype=\"unstructured_api\",\n",
        "    type=\"partition\",\n",
        "    settings={\n",
        "        \"strategy\": \"hi_res\",\n",
        "        \"pdf_infer_table_structure\": True,\n",
        "        \"extract_image_block_types\": [\n",
        "            \"Image\",\n",
        "            \"Table\"\n",
        "        ],\n",
        "        \"infer_table_structure\": True,\n",
        "    }\n",
        ")\n",
        "\n",
        "\n",
        "image_summarizer_node = WorkflowNode(\n",
        "    name=\"Image summarizer\",\n",
        "    subtype=\"openai_image_description\",\n",
        "    type=\"prompter\",\n",
        "    settings={}\n",
        ")\n",
        "\n",
        "table_summarizer_node = WorkflowNode(\n",
        "    name=\"Table summarizer\",\n",
        "    subtype=\"anthropic_table_description\",\n",
        "    type=\"prompter\",\n",
        "    settings={}\n",
        ")\n",
        "\n",
        "\n",
        "chunk_node = WorkflowNode(\n",
        "    name=\"Chunker\",\n",
        "    subtype=\"chunk_by_title\",\n",
        "    type=\"chunk\",\n",
        "    settings={\n",
        "        \"new_after_n_chars\": 1000,\n",
        "        \"max_characters\": 4096,\n",
        "        \"overlap\": 150\n",
        "    }\n",
        ")\n",
        "\n",
        "embedder_node = WorkflowNode(\n",
        "    name='Embedder',\n",
        "    subtype='azure_openai',\n",
        "    type=\"embed\",\n",
        "    settings={\n",
        "        'model_name': 'text-embedding-3-large'\n",
        "        }\n",
        "    )\n",
        "\n",
        "\n",
        "\n",
        "response = client.workflows.create_workflow(\n",
        "    request={\n",
        "        \"create_workflow\": {\n",
        "            \"name\": f\"s3-to-astra Agentic Analysis {time.time()}\",\n",
        "            \"source_id\": source_response.source_connector_information.id,\n",
        "            \"destination_id\": destination_response.destination_connector_information.id,\n",
        "            \"workflow_type\": WorkflowType.CUSTOM,\n",
        "            \"workflow_nodes\": [\n",
        "                parition_node,\n",
        "                image_summarizer_node,\n",
        "                table_summarizer_node,\n",
        "                chunk_node,\n",
        "                embedder_node\n",
        "            ],\n",
        "        }\n",
        "    }\n",
        ")\n",
        "\n",
        "workflow_id = response.workflow_information.id\n",
        "pretty_print_model(response.workflow_information)"
      ],
      "metadata": {
        "colab": {
          "base_uri": "https://localhost:8080/"
        },
        "id": "0D2J-NnNJ6lo",
        "outputId": "d1cc3655-2c6d-4f16-b715-e89e22a23684"
      },
      "execution_count": null,
      "outputs": [
        {
          "output_type": "stream",
          "name": "stdout",
          "text": [
            "{\n",
            "    \"created_at\": \"2025-08-06T13:46:25.880580Z\",\n",
            "    \"destinations\": [\n",
            "        \"293f4a19-5bc0-4868-a0d0-7bde3b249e76\"\n",
            "    ],\n",
            "    \"id\": \"346175ce-c147-4fa3-b9e0-9b6df8f3fead\",\n",
            "    \"name\": \"s3-to-astra Agentic Analysis 1754487985.6931396\",\n",
            "    \"sources\": [\n",
            "        \"de99e386-d13d-4450-8c96-928a1b350a41\"\n",
            "    ],\n",
            "    \"status\": \"active\",\n",
            "    \"workflow_nodes\": [\n",
            "        {\n",
            "            \"name\": \"Partitioner\",\n",
            "            \"subtype\": \"unstructured_api\",\n",
            "            \"type\": \"partition\",\n",
            "            \"id\": \"121bddeb-3992-4b85-a434-84dfaa154496\",\n",
            "            \"settings\": {\n",
            "                \"strategy\": \"hi_res\",\n",
            "                \"include_page_breaks\": false,\n",
            "                \"pdf_infer_table_structure\": true,\n",
            "                \"exclude_elements\": null,\n",
            "                \"xml_keep_tags\": false,\n",
            "                \"encoding\": \"utf-8\",\n",
            "                \"ocr_languages\": [\n",
            "                    \"eng\"\n",
            "                ],\n",
            "                \"extract_image_block_types\": [\n",
            "                    \"Image\",\n",
            "                    \"Table\"\n",
            "                ],\n",
            "                \"infer_table_structure\": true\n",
            "            }\n",
            "        },\n",
            "        {\n",
            "            \"name\": \"Table summarizer\",\n",
            "            \"subtype\": \"anthropic_table_description\",\n",
            "            \"type\": \"prompter\",\n",
            "            \"id\": \"017ce153-6a4c-44c2-a82e-adaa6ed09e72\",\n",
            "            \"settings\": {}\n",
            "        },\n",
            "        {\n",
            "            \"name\": \"Image summarizer\",\n",
            "            \"subtype\": \"openai_image_description\",\n",
            "            \"type\": \"prompter\",\n",
            "            \"id\": \"6b2c909a-809f-4b5f-9680-5f79ea05a2ac\",\n",
            "            \"settings\": {}\n",
            "        },\n",
            "        {\n",
            "            \"name\": \"Chunker\",\n",
            "            \"subtype\": \"chunk_by_title\",\n",
            "            \"type\": \"chunk\",\n",
            "            \"id\": \"a426b969-1b41-4be0-841d-7bb191fde8d9\",\n",
            "            \"settings\": {\n",
            "                \"unstructured_api_url\": null,\n",
            "                \"unstructured_api_key\": null,\n",
            "                \"multipage_sections\": false,\n",
            "                \"combine_text_under_n_chars\": null,\n",
            "                \"include_orig_elements\": false,\n",
            "                \"new_after_n_chars\": 1000,\n",
            "                \"max_characters\": 4096,\n",
            "                \"overlap\": 150,\n",
            "                \"overlap_all\": false,\n",
            "                \"contextual_chunking_strategy\": null\n",
            "            }\n",
            "        },\n",
            "        {\n",
            "            \"name\": \"Embedder\",\n",
            "            \"subtype\": \"azure_openai\",\n",
            "            \"type\": \"embed\",\n",
            "            \"id\": \"e6ad4210-fd34-4377-9766-0965e63a6211\",\n",
            "            \"settings\": {\n",
            "                \"model_name\": \"text-embedding-3-large\"\n",
            "            }\n",
            "        }\n",
            "    ],\n",
            "    \"reprocess_all\": false,\n",
            "    \"schedule\": {\n",
            "        \"crontab_entries\": []\n",
            "    },\n",
            "    \"updated_at\": \"2025-08-06T13:46:25.897091Z\",\n",
            "    \"workflow_type\": \"custom\"\n",
            "}\n"
          ]
        }
      ]
    },
    {
      "cell_type": "markdown",
      "source": [
        "## Running the workflow\n",
        "\n",
        "Now that we've defined how we want to process our documentation, let's start the workflow and wait for it to complete:"
      ],
      "metadata": {
        "id": "CTrsjVhIqvTN"
      }
    },
    {
      "cell_type": "code",
      "source": [
        "res = client.workflows.run_workflow(\n",
        "    request={\n",
        "        \"workflow_id\": workflow_id,\n",
        "    }\n",
        ")\n",
        "\n",
        "pretty_print_model(res.job_information)"
      ],
      "metadata": {
        "colab": {
          "base_uri": "https://localhost:8080/"
        },
        "id": "fuX5R8p37Src",
        "outputId": "b3320bec-768e-4170-d0d7-e1093eedf90b"
      },
      "execution_count": null,
      "outputs": [
        {
          "output_type": "stream",
          "name": "stdout",
          "text": [
            "{\n",
            "    \"created_at\": \"2025-08-06T13:46:35.091970Z\",\n",
            "    \"id\": \"ecddf3fc-0acc-4aca-a2e5-140bf7911b42\",\n",
            "    \"status\": \"SCHEDULED\",\n",
            "    \"workflow_id\": \"346175ce-c147-4fa3-b9e0-9b6df8f3fead\",\n",
            "    \"workflow_name\": \"s3-to-astra Agentic Analysis 1754487985.6931396\",\n",
            "    \"job_type\": \"ephemeral\"\n",
            "}\n"
          ]
        }
      ]
    },
    {
      "cell_type": "code",
      "source": [
        "response = client.jobs.list_jobs(\n",
        "    request={\n",
        "        \"workflow_id\": workflow_id\n",
        "    }\n",
        ")\n",
        "\n",
        "last_job = response.response_list_jobs[0]\n",
        "job_id = last_job.id\n",
        "print(f\"job_id: {job_id}\")"
      ],
      "metadata": {
        "colab": {
          "base_uri": "https://localhost:8080/"
        },
        "id": "Cxc3G6DS7WDR",
        "outputId": "29dc5587-93d6-46f0-e27d-0ecb8d0049f7"
      },
      "execution_count": null,
      "outputs": [
        {
          "output_type": "stream",
          "name": "stdout",
          "text": [
            "job_id: ecddf3fc-0acc-4aca-a2e5-140bf7911b42\n"
          ]
        }
      ]
    },
    {
      "cell_type": "markdown",
      "source": [
        "Now that we've created and started a job, we can poll Unstructured's `get_job` endpoint and check for its status every 30s till completion"
      ],
      "metadata": {
        "id": "A1zTfzanq4Vf"
      }
    },
    {
      "cell_type": "code",
      "source": [
        "import time\n",
        "\n",
        "def poll_job_status(job_id, wait_time=30):\n",
        "    while True:\n",
        "        response = client.jobs.get_job(\n",
        "            request={\n",
        "                \"job_id\": job_id\n",
        "            }\n",
        "        )\n",
        "\n",
        "        job = response.job_information\n",
        "\n",
        "        if job.status == \"SCHEDULED\":\n",
        "            print(f\"Job is scheduled, polling again in {wait_time} seconds...\")\n",
        "            time.sleep(wait_time)\n",
        "        elif job.status == \"IN_PROGRESS\":\n",
        "            print(f\"Job is in progress, polling again in {wait_time} seconds...\")\n",
        "            time.sleep(wait_time)\n",
        "        else:\n",
        "            print(\"Job is completed\")\n",
        "            break\n",
        "\n",
        "    return job\n",
        "\n",
        "job = poll_job_status(job_id)\n",
        "pretty_print_model(job)"
      ],
      "metadata": {
        "colab": {
          "base_uri": "https://localhost:8080/"
        },
        "id": "7-DJdmDQ7nki",
        "outputId": "7fd3a33d-0513-4a92-fd8f-310d75cb31e8"
      },
      "execution_count": null,
      "outputs": [
        {
          "output_type": "stream",
          "name": "stdout",
          "text": [
            "Job is in progress, polling again in 30 seconds...\n",
            "Job is in progress, polling again in 30 seconds...\n",
            "Job is in progress, polling again in 30 seconds...\n",
            "Job is in progress, polling again in 30 seconds...\n",
            "Job is completed\n",
            "{\n",
            "    \"created_at\": \"2025-08-06T13:46:35.091970\",\n",
            "    \"id\": \"ecddf3fc-0acc-4aca-a2e5-140bf7911b42\",\n",
            "    \"status\": \"COMPLETED\",\n",
            "    \"workflow_id\": \"346175ce-c147-4fa3-b9e0-9b6df8f3fead\",\n",
            "    \"workflow_name\": \"s3-to-astra Agentic Analysis 1754487985.6931396\",\n",
            "    \"job_type\": \"ephemeral\",\n",
            "    \"runtime\": \"PT0S\"\n",
            "}\n"
          ]
        }
      ]
    },
    {
      "cell_type": "markdown",
      "source": [
        "With everything embedded and indexed, we're ready to query. Our goal now: pull the most relevant tables from financial documents and surface them cleanly."
      ],
      "metadata": {
        "id": "iMQbRKJ1NBwX"
      }
    },
    {
      "cell_type": "markdown",
      "source": [
        "#  Retrieval 🧠\n",
        "\n",
        "Now that our financial documents are processed and indexed, we can start querying for relevant tables.\n",
        "\n",
        "This section is simple: we take a natural language question, search across all embedded tables, and display the ones that match best.\n"
      ],
      "metadata": {
        "id": "Y7imZgkEBOXn"
      }
    },
    {
      "cell_type": "code",
      "source": [
        "!pip install -qU langchain-astradb langchain-openai openai\n"
      ],
      "metadata": {
        "id": "5iVzjyqQOGkl",
        "colab": {
          "base_uri": "https://localhost:8080/"
        },
        "outputId": "dfcbd7d8-fe31-42f7-d292-c3705ff84f95"
      },
      "execution_count": null,
      "outputs": [
        {
          "output_type": "stream",
          "name": "stdout",
          "text": [
            "\u001b[2K     \u001b[90m━━━━━━━━━━━━━━━━━━━━━━━━━━━━━━━━━━━━━━━━\u001b[0m \u001b[32m61.0/61.0 kB\u001b[0m \u001b[31m4.4 MB/s\u001b[0m eta \u001b[36m0:00:00\u001b[0m\n",
            "\u001b[2K   \u001b[90m━━━━━━━━━━━━━━━━━━━━━━━━━━━━━━━━━━━━━━━━\u001b[0m \u001b[32m69.7/69.7 kB\u001b[0m \u001b[31m5.4 MB/s\u001b[0m eta \u001b[36m0:00:00\u001b[0m\n",
            "\u001b[2K   \u001b[90m━━━━━━━━━━━━━━━━━━━━━━━━━━━━━━━━━━━━━━━━\u001b[0m \u001b[32m70.6/70.6 kB\u001b[0m \u001b[31m6.0 MB/s\u001b[0m eta \u001b[36m0:00:00\u001b[0m\n",
            "\u001b[2K   \u001b[90m━━━━━━━━━━━━━━━━━━━━━━━━━━━━━━━━━━━━━━━━\u001b[0m \u001b[32m767.8/767.8 kB\u001b[0m \u001b[31m26.1 MB/s\u001b[0m eta \u001b[36m0:00:00\u001b[0m\n",
            "\u001b[2K   \u001b[90m━━━━━━━━━━━━━━━━━━━━━━━━━━━━━━━━━━━━━━━━\u001b[0m \u001b[32m300.5/300.5 kB\u001b[0m \u001b[31m23.1 MB/s\u001b[0m eta \u001b[36m0:00:00\u001b[0m\n",
            "\u001b[2K   \u001b[90m━━━━━━━━━━━━━━━━━━━━━━━━━━━━━━━━━━━━━━━━\u001b[0m \u001b[32m2.5/2.5 MB\u001b[0m \u001b[31m76.6 MB/s\u001b[0m eta \u001b[36m0:00:00\u001b[0m\n",
            "\u001b[2K   \u001b[90m━━━━━━━━━━━━━━━━━━━━━━━━━━━━━━━━━━━━━━━━\u001b[0m \u001b[32m18.3/18.3 MB\u001b[0m \u001b[31m83.6 MB/s\u001b[0m eta \u001b[36m0:00:00\u001b[0m\n",
            "\u001b[2K   \u001b[90m━━━━━━━━━━━━━━━━━━━━━━━━━━━━━━━━━━━━━━━━\u001b[0m \u001b[32m45.2/45.2 kB\u001b[0m \u001b[31m3.5 MB/s\u001b[0m eta \u001b[36m0:00:00\u001b[0m\n",
            "\u001b[2K   \u001b[90m━━━━━━━━━━━━━━━━━━━━━━━━━━━━━━━━━━━━━━━━\u001b[0m \u001b[32m1.4/1.4 MB\u001b[0m \u001b[31m67.4 MB/s\u001b[0m eta \u001b[36m0:00:00\u001b[0m\n",
            "\u001b[2K   \u001b[90m━━━━━━━━━━━━━━━━━━━━━━━━━━━━━━━━━━━━━━━━\u001b[0m \u001b[32m313.6/313.6 kB\u001b[0m \u001b[31m24.7 MB/s\u001b[0m eta \u001b[36m0:00:00\u001b[0m\n",
            "\u001b[2K   \u001b[90m━━━━━━━━━━━━━━━━━━━━━━━━━━━━━━━━━━━━━━━━\u001b[0m \u001b[32m50.9/50.9 kB\u001b[0m \u001b[31m4.3 MB/s\u001b[0m eta \u001b[36m0:00:00\u001b[0m\n",
            "\u001b[?25h\u001b[31mERROR: pip's dependency resolver does not currently take into account all the packages that are installed. This behaviour is the source of the following dependency conflicts.\n",
            "opencv-python 4.12.0.88 requires numpy<2.3.0,>=2; python_version >= \"3.9\", but you have numpy 1.26.4 which is incompatible.\n",
            "opencv-python-headless 4.12.0.88 requires numpy<2.3.0,>=2; python_version >= \"3.9\", but you have numpy 1.26.4 which is incompatible.\n",
            "opencv-contrib-python 4.12.0.88 requires numpy<2.3.0,>=2; python_version >= \"3.9\", but you have numpy 1.26.4 which is incompatible.\n",
            "thinc 8.3.6 requires numpy<3.0.0,>=2.0.0, but you have numpy 1.26.4 which is incompatible.\u001b[0m\u001b[31m\n",
            "\u001b[0m"
          ]
        }
      ]
    },
    {
      "cell_type": "code",
      "source": [
        "import os\n",
        "from langchain.schema import Document\n",
        "from langchain_astradb.vectorstores import AstraDBVectorStore\n",
        "\n",
        "import openai\n",
        "from astrapy import DataAPIClient\n",
        "\n"
      ],
      "metadata": {
        "id": "DXkze2Y6j9gU"
      },
      "execution_count": null,
      "outputs": []
    },
    {
      "cell_type": "markdown",
      "source": [
        "We’ll use OpenAI’s `text-embedding-3-large` to embed queries and compare them with our document chunks.\n",
        "\n",
        "Next, we connect to **Astra DB** to access all the embedded tables.\n"
      ],
      "metadata": {
        "id": "AmF8sVNqrnXi"
      }
    },
    {
      "cell_type": "code",
      "source": [
        "# Initialize Embedding Model\n",
        "os.environ['OPENAI_API_KEY'] = userdata.get(\"OPENAI_API_KEY\")\n",
        "openai_client = openai.OpenAI(api_key=os.environ[\"OPENAI_API_KEY\"])\n",
        "embedding_model = \"text-embedding-3-large\"\n",
        "\n",
        "# Connect to DataStax Astra DB via LangChain\n",
        "astra_client = DataAPIClient(os.environ[\"ASTRA_DB_APPLICATION_TOKEN\"])\n",
        "database = astra_client.get_database(os.environ[\"ASTRA_DB_API_ENDPOINT\"])\n",
        "COLLECTION = database.get_collection(\n",
        "    name=os.environ[\"ASTRA_DB_COLLECTION_NAME\"],\n",
        "    keyspace=os.environ[\"ASTRA_DB_KEYSPACE\"]\n",
        "\n",
        ")\n",
        "print(\"Connected to AstraDB vector store\")\n"
      ],
      "metadata": {
        "colab": {
          "base_uri": "https://localhost:8080/"
        },
        "id": "mqswAdnDiUMV",
        "outputId": "167ec30a-c382-4b47-b001-092d91e1b2d3"
      },
      "execution_count": null,
      "outputs": [
        {
          "output_type": "stream",
          "name": "stdout",
          "text": [
            "Connected to AstraDB vector store\n"
          ]
        }
      ]
    },
    {
      "cell_type": "markdown",
      "source": [
        "We also define an `AgentState` object to hold:\n",
        "- the user query (`user_input`)\n",
        "- the retrieved document chunks (`retrieved_docs`)"
      ],
      "metadata": {
        "id": "0kLKlpAhrwOg"
      }
    },
    {
      "cell_type": "code",
      "source": [
        "from typing import TypedDict, Optional\n",
        "\n",
        "class AgentState(TypedDict):\n",
        "    user_input: str\n",
        "    retrieved_docs: Optional[list]\n"
      ],
      "metadata": {
        "id": "mdJzz0Fuh-ns"
      },
      "execution_count": null,
      "outputs": []
    },
    {
      "cell_type": "markdown",
      "source": [
        "We define two utility functions here:\n",
        "\n",
        "- `get_embedding(text)` → takes in a query string and returns its OpenAI embedding.\n",
        "- `simple_retriever(query, n)` → searches AstraDB for the top-`n` most similar chunks based on that embedding.\n",
        "\n",
        "This lets us run semantic search over our processed tables."
      ],
      "metadata": {
        "id": "1DY8JcPCrzaS"
      }
    },
    {
      "cell_type": "code",
      "source": [
        "def get_embedding(text: str):\n",
        "    try:\n",
        "        response = openai_client.embeddings.create(\n",
        "            model=embedding_model,\n",
        "            input=[text]  # must be a list\n",
        "        )\n",
        "        return response.data[0].embedding\n",
        "    except Exception as e:\n",
        "        print(\"Embedding error:\", e)\n",
        "        return None\n",
        "\n",
        "def simple_retriever(query: str, n: int = 5) -> str:\n",
        "    embedding = get_embedding(query)\n",
        "    results = COLLECTION.find(sort={\"$vector\": embedding}, limit=n)\n",
        "    docs = [doc[\"content\"] for doc in results]\n",
        "    return \"\\n\".join(f\"===== Document {i+1} =====\\n{doc}\" for i, doc in enumerate(docs))"
      ],
      "metadata": {
        "id": "y_bUgOJHQ5Zl"
      },
      "execution_count": null,
      "outputs": []
    },
    {
      "cell_type": "markdown",
      "source": [
        "Here we build the actual table retriever function.\n",
        "\n",
        "Given a user query:\n",
        "- It computes the embedding\n",
        "- Searches AstraDB for the top matches\n",
        "- Filters the results to only include chunks that contain tables\n",
        "\n",
        "We wrap each match in a `Document` object so it can be passed downstream — e.g. for rendering or further processing."
      ],
      "metadata": {
        "id": "8uG_R950r2UW"
      }
    },
    {
      "cell_type": "code",
      "source": [
        "def retrieve_table(state: AgentState) -> AgentState:\n",
        "    \"\"\"\n",
        "    retrieve HTML table chunks using raw AstraDB collection + OpenAI embedding\n",
        "    \"\"\"\n",
        "    query = state[\"user_input\"]\n",
        "    try:\n",
        "        embedding = get_embedding(query)\n",
        "\n",
        "        results = COLLECTION.find(sort={\"$vector\": embedding}, limit=10)\n",
        "        table_docs = []\n",
        "        for r in results:\n",
        "          if r.get('metadata').get('metadata').get('text_as_html',None) is not None:\n",
        "            doc = Document(\n",
        "                page_content=r[\"content\"],\n",
        "                metadata=r.get(\"metadata\", {})\n",
        "            )\n",
        "            table_docs.append(doc)\n",
        "\n",
        "        state[\"retrieved_docs\"] = table_docs\n",
        "        return state\n",
        "\n",
        "    except Exception as e:\n",
        "        print(\"Error occured\",e)\n",
        "        state[\"retrieved_docs\"] = []\n",
        "        return state\n"
      ],
      "metadata": {
        "id": "Yg_HDVfxOY0g"
      },
      "execution_count": null,
      "outputs": []
    },
    {
      "cell_type": "markdown",
      "source": [
        "Let’s test the full flow by asking for **Q2 segment results for Alphabet**.\n"
      ],
      "metadata": {
        "id": "kXe9V9OlsOh9"
      }
    },
    {
      "cell_type": "code",
      "source": [
        "test_state = {\"user_input\": \"Show me Q2 Segment Results for Alphabet\"}\n",
        "test_state = retrieve_table(test_state)"
      ],
      "metadata": {
        "id": "gsNMwlDeOgyD"
      },
      "execution_count": null,
      "outputs": []
    },
    {
      "cell_type": "code",
      "source": [
        "docs = test_state['retrieved_docs']"
      ],
      "metadata": {
        "id": "A6KptXt8TwjS"
      },
      "execution_count": null,
      "outputs": []
    },
    {
      "cell_type": "markdown",
      "source": [
        "We’ll embed the query, retrieve the most relevant table chunks from AstraDB, and render them using their original HTML format.\n",
        "\n",
        "Each chunk was processed with layout and formatting preserved, so what you see here matches the actual structure from the source document.\n",
        "\n",
        "The tables you see below aren’t screenshots or scraped HTML, they were generated by Unstructured from the original documents using its layout-aware parsing."
      ],
      "metadata": {
        "id": "2dNKb6OisQ5U"
      }
    },
    {
      "cell_type": "code",
      "source": [
        "from IPython.core.display import display, HTML\n",
        "\n",
        "print(f\"{'='*40}\")\n",
        "display(HTML(docs[0].metadata['metadata']['text_as_html']))\n"
      ],
      "metadata": {
        "colab": {
          "base_uri": "https://localhost:8080/",
          "height": 335
        },
        "id": "gREU0ZwmPuDt",
        "outputId": "67c29251-715d-4f6d-e5aa-b5e303d662d4"
      },
      "execution_count": null,
      "outputs": [
        {
          "output_type": "stream",
          "name": "stdout",
          "text": [
            "========================================\n"
          ]
        },
        {
          "output_type": "display_data",
          "data": {
            "text/plain": [
              "<IPython.core.display.HTML object>"
            ],
            "text/html": [
              "<table><thead><tr><th></th><th colspan=\"2\">Quarter Ended June 30,</th></tr><tr><th></th><th>2024</th><th>2025</th></tr></thead><tbody><tr><td colspan=\"3\">Revenues:</td></tr><tr><td>Google Services</td><td>73,928</td><td>82,543</td></tr><tr><td>Google Cloud</td><td>10,347</td><td>13,624</td></tr><tr><td>Other Bets</td><td>365</td><td>373</td></tr><tr><td>Hedging gains (losses)</td><td>102</td><td>(112)</td></tr><tr><td>Total revenues</td><td>84,742</td><td>96,428</td></tr><tr><td colspan=\"3\">Operating income (loss):</td></tr><tr><td>Google Services</td><td>29,674</td><td>33,063</td></tr><tr><td>Google Cloud</td><td>1,172</td><td>2,826</td></tr><tr><td>Other Bets</td><td>(1,134)</td><td>(1,246)</td></tr><tr><td>Alphabet-level activities</td><td>(2,287)</td><td>(3,372)</td></tr><tr><td>Total income from operations</td><td>27,425</td><td>31,271</td></tr></tbody></table>"
            ]
          },
          "metadata": {}
        }
      ]
    },
    {
      "cell_type": "markdown",
      "source": [
        "![image.png](data:image/png;base64,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)"
      ],
      "metadata": {
        "id": "i-lIbKEgrRJm"
      }
    },
    {
      "cell_type": "markdown",
      "source": [
        "## Final Thoughts\n",
        "\n",
        "The key idea behind this notebook isn’t just retrieval, it’s **structure preservation**.\n",
        "\n",
        "By parsing documents with Unstructured and saving tables in HTML form, we retain the original layout, semantics, and visual grouping — all of which are lost in plain text formats. That structure becomes a powerful substrate for downstream systems.\n",
        "\n",
        "With structured HTML in hand, your agents can:\n",
        "- Render tables cleanly in a UI\n",
        "- Summarize rows, columns, or headers in isolation\n",
        "- Compare tables across documents\n",
        "- Answer questions with specific numeric context\n",
        "- Or just decide when *not* to respond, if structure is missing\n",
        "\n",
        "This approach creates a flexible interface between messy PDFs and agentic logic, giving you both precision and creativity in how your applications interact with financial data.\n",
        "\n",
        "Preserve structure early. Use it however you want later."
      ],
      "metadata": {
        "id": "t6TJUoSZtcrp"
      }
    },
    {
      "cell_type": "code",
      "source": [],
      "metadata": {
        "id": "7c5ze3-PaX5P"
      },
      "execution_count": null,
      "outputs": []
    }
  ]
}