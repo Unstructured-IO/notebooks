{
  "nbformat": 4,
  "nbformat_minor": 0,
  "metadata": {
    "colab": {
      "provenance": []
    },
    "kernelspec": {
      "name": "python3",
      "display_name": "Python 3"
    },
    "language_info": {
      "name": "python"
    }
  },
  "cells": [
    {
      "cell_type": "markdown",
      "source": [
        "# Unstructured Partition Endpoint Quickstart"
      ],
      "metadata": {
        "id": "1qjCgw6HhhQb"
      }
    },
    {
      "cell_type": "markdown",
      "source": [
        "This notebook shows how to use the [Unstructured Python SDK](https://docs.unstructured.io/api-reference/partition/sdk-python) to have Unstructured process a local file by using the [Unstructured Partition Endpoint](https://docs.unstructured.io/api-reference/partition/overview).\n",
        "\n",
        "---\n",
        "\n",
        "📝 **Note**: The Unstructured Partition Endpoint as described in this notebook is intended only for rapid prototyping of some of Unstructured's [partitioning](https://docs.unstructured.io/api-reference/partition/partitioning) strategies, with limited support for [chunking](https://docs.unstructured.io/api-reference/partition/chunking). It is designed to work *only with processing of local files*.\n",
        "\n",
        "Take your code to the next level by switching over to the [Unstructured Workflow Endpoint](https://docs.unstructured.io/api-reference/workflow/overview) for production-level scenarios, file processing in batches, files and data in remote locations, full support for [chunking](https://docs.unstructured.io/ui/chunking), generating [embeddings](https://docs.unstructured.io/ui/embedding), applying post-transform [enrichments](https://docs.unstructured.io/ui/enriching/overview), using the latest and highest-performing models, and much more. [Get started](https://docs.unstructured.io/api-reference/workflow/overview).  \n",
        "\n",
        "---"
      ],
      "metadata": {
        "id": "HeGh7LCch9OY"
      }
    },
    {
      "cell_type": "markdown",
      "source": [
        "## Requirements"
      ],
      "metadata": {
        "id": "UKeAmreTj_kn"
      }
    },
    {
      "cell_type": "markdown",
      "source": [
        "To run this notebook, you will need:\n",
        "\n",
        "- An Unstructured account. To sign up for an account, go to https://unstructured.io. In the top navigation bar, click **Get started for free**, and follow the on-screen directions to finish signing up. After you sign up, you are immediately signed in to your new account, at https://platform.unstructured.io.\n",
        "- An Unstructured API key, as follows:\n",
        "\n",
        "  1. After you are signed in to your account, click **API Keys**.\n",
        "  2. Click **Generate New Key**.\n",
        "  3. Enter some meaningful display name for the key, and then click **Continue**.\n",
        "  4. Next to the new key's name, click the **Copy** icon. The key's value is copied to your system's clipboard. If you lose this key, simply return to the list and click **Copy** again.\n",
        "\n",
        "- One or more local files for Unstructured to process. This notebook assumes that the local files you want to process are in a folder that is accessible from this notebook. The easiest and fastest way to create this folder is as follows:\n",
        "\n",
        "  1. On this notebook's sidebar, click the folder (**Files**) icon.\n",
        "  2. Right-click the folder with two dots showing after it, and then click **New folder**.\n",
        "  3. Enter a name for the new folder. This notebook assumes the folder is named `input`.\n",
        "  4. To upload files to this folder, do the following:\n",
        "\n",
        "     a. Rest your mouse pointer on the `input` folder.<br/>\n",
        "     b. Click the ellipsis (three dots) icon, and then click **Upload**.<br/>\n",
        "     c. Browse to and select the files on your local machine that you want to upload to this `input` folder.<br/>\n",
        "\n",
        "- A destination folder for Unstructured to send its processed results to. This notebook assumes that the destination folder is accessible from this notebook. The easiest and fastest way to create this folder is as follows:\n",
        "\n",
        "  1. On this notebook's sidebar, click the folder (**Files**) icon.\n",
        "  2. Right-click the folder with two dots showing after it, and then click **New folder**.\n",
        "  3. Enter a name for the new destination folder. This notebook assumes the folder is named `output`.\n",
        "\n",
        "---\n",
        "\n",
        "⚠️ **Warning**: Any files that you upload to these `input` or `output` folders will be deleted whenever Google Colab disconnects or resets, for example due to inactivity, manual restart, or session timeout.\n",
        "\n",
        "---\n"
      ],
      "metadata": {
        "id": "6UC385avkBzL"
      }
    },
    {
      "cell_type": "markdown",
      "source": [
        "## Step 1: Install the Unstructured Python SDK."
      ],
      "metadata": {
        "id": "acyxak5tn90N"
      }
    },
    {
      "cell_type": "markdown",
      "source": [
        "Run the following cell to install the Unstructured Python SDK on a virtual machine (VM) in Google's cloud. This VM is associated with this notebook."
      ],
      "metadata": {
        "id": "4m7807Y3oBgV"
      }
    },
    {
      "cell_type": "code",
      "source": [
        "!pip install unstructured-client"
      ],
      "metadata": {
        "id": "Ep1ZQ7Zrhmrr"
      },
      "execution_count": null,
      "outputs": []
    },
    {
      "cell_type": "markdown",
      "source": [
        "## Step 2: Set your Unstructured API key"
      ],
      "metadata": {
        "id": "JfiooLJGoZYh"
      }
    },
    {
      "cell_type": "markdown",
      "source": [
        "In the following cell, replace `<unstructured-api-key>` with the value of your API key, and then run the cell.\n",
        "\n",
        "As a security best practice, you would typically set this key elsewhere (for example, as an environment variable or stored in a secure key vault) and then access it programmatically here. But to keep things simple here for demonstration purposes, just specify your API key in plaintext in the following cell."
      ],
      "metadata": {
        "id": "HCbYCXwEpKVr"
      }
    },
    {
      "cell_type": "code",
      "source": [
        "UNSTRUCTURED_API_KEY = \"<unstructured-api-key>\""
      ],
      "metadata": {
        "id": "vi8a-JYzqGdA"
      },
      "execution_count": 2,
      "outputs": []
    },
    {
      "cell_type": "markdown",
      "source": [
        "## Step 3: Call the Unstructured Partition Endpoint to process the files"
      ],
      "metadata": {
        "id": "S4PSpyH9qsSb"
      }
    },
    {
      "cell_type": "markdown",
      "source": [
        "Run the following cell. If successful, new files are added to the `output` folder. It could take a few seconds to a minute or more for these new files to appear, depending on the number, size. and complexity of the files that you specified. These new files will have the same names as the filenames in the `input` folder. However, these new files' extension will be `.json`."
      ],
      "metadata": {
        "id": "kCsyLMWCr32f"
      }
    },
    {
      "cell_type": "code",
      "source": [
        "import asyncio\n",
        "import os\n",
        "import json\n",
        "import unstructured_client\n",
        "from unstructured_client.models import shared, errors\n",
        "\n",
        "client = unstructured_client.UnstructuredClient(\n",
        "    api_key_auth=UNSTRUCTURED_API_KEY\n",
        ")\n",
        "\n",
        "async def partition_file_via_api(filename):\n",
        "    req = {\n",
        "        \"partition_parameters\": {\n",
        "            \"files\": {\n",
        "                \"content\": open(filename, \"rb\"),\n",
        "                \"file_name\": os.path.basename(filename),\n",
        "            },\n",
        "            \"strategy\": shared.Strategy.AUTO,\n",
        "            \"vlm_model\": \"gpt-4o\",\n",
        "            \"vlm_model_provider\": \"openai\",\n",
        "            \"languages\": ['eng'],\n",
        "            \"split_pdf_page\": True,\n",
        "            \"split_pdf_allow_failed\": True,\n",
        "            \"split_pdf_concurrency_level\": 15\n",
        "        }\n",
        "    }\n",
        "\n",
        "    try:\n",
        "        res = await client.general.partition_async(request=req)\n",
        "        return res.elements\n",
        "    except errors.UnstructuredClientError as e:\n",
        "        print(f\"Error partitioning {filename}: {e.message}\")\n",
        "        return []\n",
        "\n",
        "async def process_file_and_save_result(input_filename, output_dir):\n",
        "    elements = await partition_file_via_api(input_filename)\n",
        "\n",
        "    if elements:\n",
        "        results_name = f\"{os.path.basename(input_filename)}.json\"\n",
        "        output_filename = os.path.join(output_dir, results_name)\n",
        "\n",
        "        with open(output_filename, \"w\") as f:\n",
        "            json.dump(elements, f, indent=4)\n",
        "\n",
        "def load_filenames_in_directory(input_dir):\n",
        "    filenames = []\n",
        "    for root, _, files in os.walk(input_dir):\n",
        "        for file in files:\n",
        "            if not file.endswith('.json'):\n",
        "                filenames.append(os.path.join(root, file))\n",
        "\n",
        "    return filenames\n",
        "\n",
        "async def process_files():\n",
        "    input_dir = \"./input/\"\n",
        "    output_dir = \"./output/\"\n",
        "\n",
        "    filenames = load_filenames_in_directory(input_dir)\n",
        "\n",
        "    os.makedirs(output_dir, exist_ok=True)\n",
        "\n",
        "    tasks = []\n",
        "\n",
        "    for filename in filenames:\n",
        "        tasks.append(\n",
        "            process_file_and_save_result(filename, output_dir)\n",
        "        )\n",
        "\n",
        "    await asyncio.gather(*tasks)\n",
        "\n",
        "await process_files()"
      ],
      "metadata": {
        "id": "b0RnX0Xer805"
      },
      "execution_count": 3,
      "outputs": []
    },
    {
      "cell_type": "markdown",
      "source": [
        "## Step 4: View the results"
      ],
      "metadata": {
        "id": "9z4vJUMvugME"
      }
    },
    {
      "cell_type": "markdown",
      "source": [
        "In the **Files** pane on the left, double-click any of the new files with the extension `.json` that are within the `output` folder. A display pane appears on the right, showing the file's contents."
      ],
      "metadata": {
        "id": "Ksd2oGzaujGM"
      }
    },
    {
      "cell_type": "markdown",
      "source": [
        "## Learn more"
      ],
      "metadata": {
        "id": "fXEtdeJiulFO"
      }
    },
    {
      "cell_type": "markdown",
      "source": [
        "- For a version of this notebook's code that you can run on your own local development machine, see the [Unstructured API Quickstart](https://docs.unstructured.io/api-reference/partition/quickstart).\n",
        "- [Unstructured Python SDK](https://docs.unstructured.io/api-reference/partition/sdk-python)\n",
        "- [Unstructured Partition Endpoint](https://docs.unstructured.io/api-reference/partition/overview)\n",
        "- [Unstructured documentation](https://docs.unstructured.io)"
      ],
      "metadata": {
        "id": "_SSVvViQumwF"
      }
    }
  ]
}