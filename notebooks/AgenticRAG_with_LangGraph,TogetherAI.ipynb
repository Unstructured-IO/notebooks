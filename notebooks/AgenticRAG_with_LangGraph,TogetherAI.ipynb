{
  "cells": [
    {
      "cell_type": "markdown",
      "metadata": {
        "id": "hNOqbsi_4yjX"
      },
      "source": [
        "# Agentic RAG with LangGraph, TogetherAI for understanding Startup Equity\n",
        "\n",
        "Author: [Ajay Krishnan](https://x.com/Aj_Krish23)\n",
        "\n",
        "A typical Retrieval-Augmented Generation (RAG) setup works like this: take the user's question, fetch a handful of documents in a single retrieval step, and pass them to the LLM to craft a response based on that context.\n",
        "\n",
        "This is a solid starting point, but it comes with some important trade-offs.\n",
        "\n",
        "If the retrieval step misses key information, or brings back noisy results, the final output from the LLM will inevitably be affected. Even if you swap in a stronger embedding model, try out hybrid techniques or retrieve more documents — you're still locked into a one-shot retrieval based solely on the user's original query.\n",
        "\n",
        "For simple questions, that might be enough. But for more complex queries, this approach can start to break down.\n",
        "\n",
        "---\n",
        "\n",
        "\n",
        "In this notebook, we'll explore a smarter RAG pattern — one where the system can actively guide itself to find better answers.\n",
        "\n",
        "The Agentic RAG system we'll build will be able to:\n",
        "\n",
        "- **Reframe** the initial question if needed to make retrieval more effective.\n",
        "- **Evaluate** whether the retrieved context is good enough.\n",
        "- **Take additional actions** to gather more information when necessary.\n",
        "\n",
        "This gives our application a feedback loop - the ability to pause, think, and iterate — which makes it much better equipped to handle tricky or multi-part questions.\n",
        "\n",
        "---\n",
        "\n",
        "To put this idea into practice, we'll use **[LangGraph](https://github.com/langchain-ai/langgraph)** — a flexible framework designed for creating multi-step reasoning flows and **[TogetherAI](https://www.together.ai/)** - an inference provider for all things LLMs.\n",
        "\n",
        "LangGraph lets us define agents as graphs of interconnected nodes, making it easy to model decision-making, retrieval, and generation all in one place.\n",
        "\n",
        "You don't need any previous experience with graph-based agents — we'll walk through everything step by step.\n",
        "\n",
        "Let's jump in!\n",
        "\n"
      ]
    },
    {
      "cell_type": "markdown",
      "metadata": {
        "id": "con0sBSk44gG"
      },
      "source": [
        "# Preparing the Data\n",
        "\n",
        "In this tutorial, we’ll be working with a small collection of documents focused on startup equity and founder agreements. These include resources like *Equity for Founders* by Stripe Atlas, *Founders' Collaboration Agreements* from the Penn Law ELC, *How to Split Equity Among Startup Cofounders* by Stripe, and a guide on *Startup Incorporation for Founders* by Clerky.\n",
        "\n",
        "These documents provide a wide range of practical advice—from understanding how founder equity works, to navigating early-stage agreements between cofounders, to best practices for incorporation. All files are in PDF format and were pre-uploaded to an Amazon S3 bucket for this project.\n",
        "\n",
        "\n",
        "Every RAG application begins with data — and more often than not, that data is **unstructured**.  \n",
        "Think PDFs, Word documents, emails, SharePoint files, and more.\n",
        "\n",
        "Turning these raw sources into clean, retrieval-ready chunks is a critical first step — but it can quickly become a complex and messy process.\n",
        "\n",
        "That's where the **[Unstructured](https://unstructured.io/)** comes in.\n",
        "\n",
        "Unstructured makes it easy to:\n",
        "\n",
        "- Connect to a wide variety of data sources.\n",
        "- Preprocess and transform raw files into structured formats.\n",
        "- Push the processed data directly into the database/vector store of your choice.\n",
        "\n",
        "In this notebook, we'll programmatically work with Unstructured by tapping into the **Workflow Endpoint** — a powerful interface that lets you define entire pipelines through code.\n",
        "\n",
        "With Unstructured API, you will set up a workflow by:\n",
        "\n",
        "* Creating an S3 _source connector_ in Unstructured API to connect it to the documents\n",
        "* Creating an AstraDB _destination connector_ in Unstructured API to upload the processed documents\n",
        "* Creating a _workflow_ that starts with a source connector, adds data transformation steps (such as extracting content of the PDFs with Anthropic Claude Sonnet, enriching the documents with metadata, chunking the text, and generating embedding vectors for the similarity search), and then ends with uploading the results into the destination.\n",
        "\n",
        "all without leaving this colab notebook.\n",
        "\n",
        "Before we dive in, make sure to **[sign up for Unstructured for Developers](https://unstructured.io/developers)** to access the platform and get your API credentials ready.\n",
        "\n",
        "\n",
        "\n"
      ]
    },
    {
      "cell_type": "code",
      "execution_count": null,
      "metadata": {
        "colab": {
          "base_uri": "https://localhost:8080/"
        },
        "collapsed": true,
        "id": "JNUr_B5LfPd4",
        "outputId": "826bc427-92dd-43d3-f5da-febaa50f3d59"
      },
      "outputs": [
        {
          "name": "stdout",
          "output_type": "stream",
          "text": [
            "Collecting unstructured-client\n",
            "  Downloading unstructured_client-0.34.0-py3-none-any.whl.metadata (21 kB)\n",
            "Collecting aiofiles>=24.1.0 (from unstructured-client)\n",
            "  Downloading aiofiles-24.1.0-py3-none-any.whl.metadata (10 kB)\n",
            "Requirement already satisfied: cryptography>=3.1 in /usr/local/lib/python3.11/dist-packages (from unstructured-client) (43.0.3)\n",
            "Collecting eval-type-backport>=0.2.0 (from unstructured-client)\n",
            "  Downloading eval_type_backport-0.2.2-py3-none-any.whl.metadata (2.2 kB)\n",
            "Requirement already satisfied: httpx>=0.27.0 in /usr/local/lib/python3.11/dist-packages (from unstructured-client) (0.28.1)\n",
            "Requirement already satisfied: nest-asyncio>=1.6.0 in /usr/local/lib/python3.11/dist-packages (from unstructured-client) (1.6.0)\n",
            "Requirement already satisfied: pydantic>=2.11.2 in /usr/local/lib/python3.11/dist-packages (from unstructured-client) (2.11.3)\n",
            "Collecting pypdf>=4.0 (from unstructured-client)\n",
            "  Downloading pypdf-5.4.0-py3-none-any.whl.metadata (7.3 kB)\n",
            "Requirement already satisfied: requests-toolbelt>=1.0.0 in /usr/local/lib/python3.11/dist-packages (from unstructured-client) (1.0.0)\n",
            "Requirement already satisfied: typing-inspection>=0.4.0 in /usr/local/lib/python3.11/dist-packages (from unstructured-client) (0.4.0)\n",
            "Requirement already satisfied: cffi>=1.12 in /usr/local/lib/python3.11/dist-packages (from cryptography>=3.1->unstructured-client) (1.17.1)\n",
            "Requirement already satisfied: anyio in /usr/local/lib/python3.11/dist-packages (from httpx>=0.27.0->unstructured-client) (4.9.0)\n",
            "Requirement already satisfied: certifi in /usr/local/lib/python3.11/dist-packages (from httpx>=0.27.0->unstructured-client) (2025.1.31)\n",
            "Requirement already satisfied: httpcore==1.* in /usr/local/lib/python3.11/dist-packages (from httpx>=0.27.0->unstructured-client) (1.0.9)\n",
            "Requirement already satisfied: idna in /usr/local/lib/python3.11/dist-packages (from httpx>=0.27.0->unstructured-client) (3.10)\n",
            "Requirement already satisfied: h11>=0.16 in /usr/local/lib/python3.11/dist-packages (from httpcore==1.*->httpx>=0.27.0->unstructured-client) (0.16.0)\n",
            "Requirement already satisfied: annotated-types>=0.6.0 in /usr/local/lib/python3.11/dist-packages (from pydantic>=2.11.2->unstructured-client) (0.7.0)\n",
            "Requirement already satisfied: pydantic-core==2.33.1 in /usr/local/lib/python3.11/dist-packages (from pydantic>=2.11.2->unstructured-client) (2.33.1)\n",
            "Requirement already satisfied: typing-extensions>=4.12.2 in /usr/local/lib/python3.11/dist-packages (from pydantic>=2.11.2->unstructured-client) (4.13.2)\n",
            "Requirement already satisfied: requests<3.0.0,>=2.0.1 in /usr/local/lib/python3.11/dist-packages (from requests-toolbelt>=1.0.0->unstructured-client) (2.32.3)\n",
            "Requirement already satisfied: pycparser in /usr/local/lib/python3.11/dist-packages (from cffi>=1.12->cryptography>=3.1->unstructured-client) (2.22)\n",
            "Requirement already satisfied: charset-normalizer<4,>=2 in /usr/local/lib/python3.11/dist-packages (from requests<3.0.0,>=2.0.1->requests-toolbelt>=1.0.0->unstructured-client) (3.4.1)\n",
            "Requirement already satisfied: urllib3<3,>=1.21.1 in /usr/local/lib/python3.11/dist-packages (from requests<3.0.0,>=2.0.1->requests-toolbelt>=1.0.0->unstructured-client) (2.4.0)\n",
            "Requirement already satisfied: sniffio>=1.1 in /usr/local/lib/python3.11/dist-packages (from anyio->httpx>=0.27.0->unstructured-client) (1.3.1)\n",
            "Downloading unstructured_client-0.34.0-py3-none-any.whl (189 kB)\n",
            "\u001b[2K   \u001b[90m━━━━━━━━━━━━━━━━━━━━━━━━━━━━━━━━━━━━━━━━\u001b[0m \u001b[32m189.4/189.4 kB\u001b[0m \u001b[31m6.2 MB/s\u001b[0m eta \u001b[36m0:00:00\u001b[0m\n",
            "\u001b[?25hDownloading aiofiles-24.1.0-py3-none-any.whl (15 kB)\n",
            "Downloading eval_type_backport-0.2.2-py3-none-any.whl (5.8 kB)\n",
            "Downloading pypdf-5.4.0-py3-none-any.whl (302 kB)\n",
            "\u001b[2K   \u001b[90m━━━━━━━━━━━━━━━━━━━━━━━━━━━━━━━━━━━━━━━━\u001b[0m \u001b[32m302.3/302.3 kB\u001b[0m \u001b[31m16.7 MB/s\u001b[0m eta \u001b[36m0:00:00\u001b[0m\n",
            "\u001b[?25hInstalling collected packages: pypdf, eval-type-backport, aiofiles, unstructured-client\n",
            "Successfully installed aiofiles-24.1.0 eval-type-backport-0.2.2 pypdf-5.4.0 unstructured-client-0.34.0\n"
          ]
        }
      ],
      "source": [
        "!pip install -U \"unstructured-client\""
      ]
    },
    {
      "cell_type": "code",
      "execution_count": null,
      "metadata": {
        "id": "BiS8w_M3pLcL"
      },
      "outputs": [],
      "source": [
        "import os\n",
        "import time\n",
        "from google.colab import userdata\n",
        "from unstructured_client import UnstructuredClient\n",
        "\n",
        "\n",
        "def pretty_print_model(response_model):\n",
        "    print(response_model.model_dump_json(indent=4))"
      ]
    },
    {
      "cell_type": "code",
      "execution_count": null,
      "metadata": {
        "id": "F1M-NytM5AKw"
      },
      "outputs": [],
      "source": [
        "os.environ['UNSTRUCTURED_API_KEY'] = userdata.get('UNSTRUCTURED_API_KEY')\n",
        "client = UnstructuredClient(api_key_auth=os.getenv(\"UNSTRUCTURED_API_KEY\"))"
      ]
    },
    {
      "cell_type": "markdown",
      "metadata": {
        "id": "vcNROfdEo_vs"
      },
      "source": [
        "## Setting up the S3 Source Connector\n",
        "\n",
        "\n",
        "For this demo, we will be using AWS Key and Secret for Authentication.\n",
        "Make sure to add fetch the corresponding values and for `S3_AWS_KEY` and `S3_AWS_SECRET` and add to the Secrets in Colab.\n",
        "\n",
        "\n",
        "Similarly, fetch the the S3 URI to the bucket or folder, formatted as `s3://my-bucket/` (if the files are in the bucket's root) or `s3://my-bucket/my-folder/` and add it to `S3_REMOTE_URL` in the Secrets.\n",
        "\n",
        "\n",
        "\n",
        "\n",
        "\n",
        "For other authentication options and more details refer to [this](https://docs.unstructured.io/platform/api/sources/s3)."
      ]
    },
    {
      "cell_type": "code",
      "execution_count": null,
      "metadata": {
        "id": "wgMmi3y9pWs-"
      },
      "outputs": [],
      "source": [
        "os.environ['S3_AWS_KEY'] = userdata.get('S3_AWS_KEY')\n",
        "os.environ['S3_AWS_SECRET'] = userdata.get('S3_AWS_SECRET')\n",
        "os.environ['S3_REMOTE_URL'] = userdata.get('S3_REMOTE_URL')"
      ]
    },
    {
      "cell_type": "code",
      "execution_count": null,
      "metadata": {
        "id": "Qyi_o9NW6GCw"
      },
      "outputs": [],
      "source": [
        "from unstructured_client.models.operations import CreateSourceRequest\n",
        "from unstructured_client.models.shared import (\n",
        "    CreateSourceConnector,\n",
        "    SourceConnectorType,\n",
        "    S3SourceConnectorConfigInput\n",
        ")\n",
        "\n",
        "source_response = client.sources.create_source(\n",
        "    request=CreateSourceRequest(\n",
        "        create_source_connector=CreateSourceConnector(\n",
        "            name=f\"law_rag_s3_source_{time.time()}\",\n",
        "            type=SourceConnectorType.S3,\n",
        "            config=S3SourceConnectorConfigInput(\n",
        "                key=os.environ.get('S3_AWS_KEY'),\n",
        "                secret=os.environ.get('S3_AWS_SECRET'),\n",
        "                remote_url=os.environ.get('S3_REMOTE_URL'),\n",
        "                recursive=True\n",
        "            )\n",
        "        )\n",
        "    )\n",
        ")"
      ]
    },
    {
      "cell_type": "code",
      "execution_count": null,
      "metadata": {
        "colab": {
          "base_uri": "https://localhost:8080/"
        },
        "id": "333tGW9h6LY0",
        "outputId": "f2ecaa25-5afb-4783-97b9-15f7e1f49240"
      },
      "outputs": [
        {
          "name": "stdout",
          "output_type": "stream",
          "text": [
            "{\n",
            "    \"config\": {\n",
            "        \"anonymous\": false,\n",
            "        \"recursive\": true,\n",
            "        \"remote_url\": \"s3://ajay-uns-devrel-content/legal-rag-content/\",\n",
            "        \"key\": \"**********\",\n",
            "        \"secret\": \"**********\"\n",
            "    },\n",
            "    \"created_at\": \"2025-04-29T18:49:55.227890Z\",\n",
            "    \"id\": \"3acf6171-2cee-4da6-9fe5-9a05e8a3d7ec\",\n",
            "    \"name\": \"law_rag_s3_source_1745952594.920226\",\n",
            "    \"type\": \"s3\",\n",
            "    \"updated_at\": \"2025-04-29T18:49:56.094829Z\"\n",
            "}\n"
          ]
        }
      ],
      "source": [
        "pretty_print_model(source_response.source_connector_information)"
      ]
    },
    {
      "cell_type": "markdown",
      "metadata": {
        "id": "KS0iYHgGpuWE"
      },
      "source": [
        "## Setting up the Astra DB Destination Connector\n",
        "\n",
        "Create an account on [datastax.com](https://www.datastax.com/), and create a new Serverless (Vector) Database. Once it's instantiated, grab your credentials - API endpoint, and an application token,- and save them. If you need help getting started with AstraDB, refer to [their documentation](https://docs.datastax.com/en/astra-db-serverless/get-started/quickstart.html).\n",
        "\n",
        "In the database, create a collection. Give it a name, then in the embedding generation method choose `Bring my own` as we will generate the embeddings automatically with Unstructured. The dimensions value should be set to ``768`` in this example as we'll be using [`\"m2-bert-80M-8k-retrieval\"` model from TogetherAI](https://www.together.ai/models/m2-bert-80m-8k-retrieval).\n",
        "\n",
        "\n",
        "Add the Application Token, API Endpoint, Collection Name and Keyspace to secrets.\n",
        "More documentation [here](https://docs.unstructured.io/platform/api/destinations/astradb).\n",
        "\n",
        "\n",
        "Grabbing these from the Secrets stored in the Colab notebook:"
      ]
    },
    {
      "cell_type": "code",
      "execution_count": null,
      "metadata": {
        "id": "oic0sh1epxkT"
      },
      "outputs": [],
      "source": [
        "os.environ['ASTRA_DB_API_ENDPOINT'] = userdata.get('ASTRA_DB_API_ENDPOINT')\n",
        "os.environ['ASTRA_DB_APPLICATION_TOKEN'] = userdata.get('ASTRA_DB_APPLICATION_TOKEN')\n",
        "os.environ['ASTRA_DB_COLLECTION_NAME'] = userdata.get('ASTRA_DB_COLLECTION_NAME')\n",
        "os.environ['ASTRA_DB_KEYSPACE'] = userdata.get('ASTRA_DB_KEYSPACE')"
      ]
    },
    {
      "cell_type": "code",
      "execution_count": null,
      "metadata": {
        "id": "P4tjcjlk6OI1"
      },
      "outputs": [],
      "source": [
        "from unstructured_client.models.operations import CreateDestinationRequest\n",
        "from unstructured_client.models.shared import (\n",
        "    CreateDestinationConnector,\n",
        "    DestinationConnectorType,\n",
        "    AstraDBConnectorConfigInput\n",
        ")\n",
        "destination_response = client.destinations.create_destination(\n",
        "    request=CreateDestinationRequest(\n",
        "        create_destination_connector=CreateDestinationConnector(\n",
        "            name=f\"astra_destination_{time.time()}\",\n",
        "            type=DestinationConnectorType.ASTRADB,\n",
        "            config=AstraDBConnectorConfigInput(\n",
        "                token=os.environ.get('ASTRA_DB_APPLICATION_TOKEN'),\n",
        "                api_endpoint=os.environ.get('ASTRA_DB_API_ENDPOINT'),\n",
        "                collection_name=os.environ.get('ASTRA_DB_COLLECTION_NAME'),\n",
        "                keyspace=os.environ.get('ASTRA_DB_KEYSPACE'),\n",
        "                batch_size=20,\n",
        "                flatten_metadata=False\n",
        "            )\n",
        "        )\n",
        "    )\n",
        ")"
      ]
    },
    {
      "cell_type": "code",
      "execution_count": null,
      "metadata": {
        "colab": {
          "base_uri": "https://localhost:8080/"
        },
        "id": "5-YdbApN6SCH",
        "outputId": "f7133b1c-7124-4c1f-ce3e-a1bf4dea2cc6"
      },
      "outputs": [
        {
          "name": "stdout",
          "output_type": "stream",
          "text": [
            "{\n",
            "    \"config\": {\n",
            "        \"api_endpoint\": \"**********\",\n",
            "        \"batch_size\": 20,\n",
            "        \"collection_name\": \"demo3\",\n",
            "        \"token\": \"**********\",\n",
            "        \"keyspace\": \"demo3\"\n",
            "    },\n",
            "    \"created_at\": \"2025-04-29T18:49:57.548395Z\",\n",
            "    \"id\": \"a5f42657-ffbf-462f-8319-f1d51d78f541\",\n",
            "    \"name\": \"astra_destination_1745952597.499409\",\n",
            "    \"type\": \"astradb\",\n",
            "    \"updated_at\": \"2025-04-29T18:49:58.377096Z\"\n",
            "}\n"
          ]
        }
      ],
      "source": [
        "pretty_print_model(destination_response.destination_connector_information)"
      ]
    },
    {
      "cell_type": "markdown",
      "metadata": {
        "id": "lW-xEFuaNAGF"
      },
      "source": [
        "### Creating a Document Processing Workflow\n",
        "\n",
        "Now that we have access to our data, the next step is setting up how it should be processed.\n",
        "\n",
        "We'll define a simple but powerful document pipeline using three key types of processing nodes:\n",
        "\n",
        "- **Partitioner**  \n",
        "  This step takes raw, unstructured files and extracts structured content from them.  \n",
        "  We'll use a **Vision-Language Model (VLM) Partitioner**, which leverages a model capable of understanding both text and layout information from documents — pulling out elements from each page with higher fidelity.\n",
        "\n",
        "- **Chunker**  \n",
        "  After partitioning, the extracted elements are grouped into manageable \"chunks.\"  \n",
        "  Chunking ensures that during retrieval, we can focus only on the most relevant sections of a document — not the whole thing.\n",
        "\n",
        "- **Embedder**  \n",
        "  Finally, we'll generate vector embeddings for each chunk of text.  \n",
        "  Embeddings are numeric representations that capture the meaning of the text, making it searchable and retrievable later on. We'll rely on an embedding provider to handle this step for us.\n",
        "\n",
        "Each node plays a critical role in making our documents **retrieval-ready** for downstream RAG applications.\n",
        "\n",
        "If you're curious about the different configuration options available for these processing steps, you can explore more details in the [Concepts documentation](https://docs.unstructured.io/ui/document-elements).\n"
      ]
    },
    {
      "cell_type": "code",
      "execution_count": null,
      "metadata": {
        "colab": {
          "base_uri": "https://localhost:8080/"
        },
        "id": "So_X-Yp-6TVh",
        "outputId": "f5fb44d4-94ff-45f8-af33-e07dd95493a1"
      },
      "outputs": [],
      "source": [
        "from unstructured_client.models.shared import (\n",
        "    WorkflowNode,\n",
        "    WorkflowType,\n",
        "    Schedule\n",
        ")\n",
        "\n",
        "parition_node = WorkflowNode(\n",
        "    name=\"Partitioner\",\n",
        "    subtype=\"vlm\",\n",
        "    type=\"partition\",\n",
        "    settings={\n",
        "        \"provider\": \"anthropic\",\n",
        "        \"model\": \"claude-sonnet-4-5-20250929\",\n",
        "        }\n",
        "    )\n",
        "\n",
        "chunk_node = WorkflowNode(\n",
        "    name=\"Chunker\",\n",
        "    subtype=\"chunk_by_title\",\n",
        "    type=\"chunk\",\n",
        "    settings={\n",
        "        \"new_after_n_chars\": 1000,\n",
        "        \"max_characters\": 1200,\n",
        "        \"overlap\": 150\n",
        "    }\n",
        ")\n",
        "\n",
        "embedder_node = WorkflowNode(\n",
        "    name='Embedder',\n",
        "    subtype='togetherai',\n",
        "    type=\"embed\",\n",
        "    settings={\n",
        "        'model_name': 'togethercomputer/m2-bert-80M-8k-retrieval'\n",
        "        }\n",
        "    )\n",
        "\n",
        "\n",
        "response = client.workflows.create_workflow(\n",
        "    request={\n",
        "        \"create_workflow\": {\n",
        "            \"name\": f\"S3 to Astra AgenticRAG_{time.time()}\",\n",
        "            \"source_id\": source_response.source_connector_information.id,\n",
        "            \"destination_id\": destination_response.destination_connector_information.id,\n",
        "            \"workflow_type\": WorkflowType.CUSTOM,\n",
        "            \"workflow_nodes\": [\n",
        "                parition_node,\n",
        "                chunk_node,\n",
        "                embedder_node\n",
        "            ]\n",
        "        }\n",
        "    }\n",
        ")\n",
        "\n",
        "pretty_print_model(response.workflow_information)\n",
        "workflow_id = response.workflow_information.id"
      ]
    },
    {
      "cell_type": "markdown",
      "metadata": {
        "id": "Dj1Bhc8-rVwq"
      },
      "source": [
        "When it's all set up, your workflow should look something like this.\n",
        "\n",
        "![Screenshot 2025-04-08 at 1.14.19 PM.png](data:image/png;base64,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)"
      ]
    },
    {
      "cell_type": "markdown",
      "metadata": {
        "id": "CTrsjVhIqvTN"
      },
      "source": [
        "## Running the workflow\n",
        "\n",
        "Now that we've defined how we want to process our documentation, let's start the workflow and wait for it to complete:"
      ]
    },
    {
      "cell_type": "code",
      "execution_count": null,
      "metadata": {
        "colab": {
          "base_uri": "https://localhost:8080/"
        },
        "id": "fuX5R8p37Src",
        "outputId": "fe619d90-6c32-439c-a6a4-2af0c5842a57"
      },
      "outputs": [
        {
          "name": "stdout",
          "output_type": "stream",
          "text": [
            "{\n",
            "    \"created_at\": \"2025-04-29T18:50:03.348884Z\",\n",
            "    \"id\": \"7e6a8dca-dc18-4194-9cd7-9d6fcd7dd4ea\",\n",
            "    \"status\": \"SCHEDULED\",\n",
            "    \"workflow_id\": \"5ba24afb-e35c-4842-a374-94c10644d203\",\n",
            "    \"workflow_name\": \"S3 to Astra AgenticRAG_1745952598.4844024\"\n",
            "}\n"
          ]
        }
      ],
      "source": [
        "res = client.workflows.run_workflow(\n",
        "    request={\n",
        "        \"workflow_id\": workflow_id,\n",
        "    }\n",
        ")\n",
        "\n",
        "pretty_print_model(res.job_information)"
      ]
    },
    {
      "cell_type": "code",
      "execution_count": null,
      "metadata": {
        "colab": {
          "base_uri": "https://localhost:8080/"
        },
        "id": "Cxc3G6DS7WDR",
        "outputId": "7ad296b0-ae00-4d50-fc33-8ec92221578e"
      },
      "outputs": [
        {
          "name": "stdout",
          "output_type": "stream",
          "text": [
            "job_id: 7e6a8dca-dc18-4194-9cd7-9d6fcd7dd4ea\n"
          ]
        }
      ],
      "source": [
        "response = client.jobs.list_jobs(\n",
        "    request={\n",
        "        \"workflow_id\": workflow_id\n",
        "    }\n",
        ")\n",
        "\n",
        "last_job = response.response_list_jobs[0]\n",
        "job_id = last_job.id\n",
        "print(f\"job_id: {job_id}\")"
      ]
    },
    {
      "cell_type": "markdown",
      "metadata": {
        "id": "A1zTfzanq4Vf"
      },
      "source": [
        "Now that we've created and started a job, we can poll Unstructured's `get_job` endpoint and check for its status every 30s till completion"
      ]
    },
    {
      "cell_type": "code",
      "execution_count": null,
      "metadata": {
        "colab": {
          "base_uri": "https://localhost:8080/"
        },
        "id": "7-DJdmDQ7nki",
        "outputId": "155d94d9-a4c0-4455-d9be-0da7223c76c4"
      },
      "outputs": [
        {
          "name": "stdout",
          "output_type": "stream",
          "text": [
            "Job is scheduled, polling again in 30 seconds...\n",
            "Job is in progress, polling again in 30 seconds...\n",
            "Job is in progress, polling again in 30 seconds...\n",
            "Job is in progress, polling again in 30 seconds...\n",
            "Job is in progress, polling again in 30 seconds...\n",
            "Job is in progress, polling again in 30 seconds...\n",
            "Job is in progress, polling again in 30 seconds...\n",
            "Job is in progress, polling again in 30 seconds...\n",
            "Job is completed\n",
            "{\n",
            "    \"created_at\": \"2025-04-29T18:50:03.348884\",\n",
            "    \"id\": \"7e6a8dca-dc18-4194-9cd7-9d6fcd7dd4ea\",\n",
            "    \"status\": \"COMPLETED\",\n",
            "    \"workflow_id\": \"5ba24afb-e35c-4842-a374-94c10644d203\",\n",
            "    \"workflow_name\": \"S3 to Astra AgenticRAG_1745952598.4844024\",\n",
            "    \"runtime\": \"PT0S\"\n",
            "}\n"
          ]
        }
      ],
      "source": [
        "import time\n",
        "\n",
        "def poll_job_status(job_id, wait_time=30):\n",
        "    while True:\n",
        "        response = client.jobs.get_job(\n",
        "            request={\n",
        "                \"job_id\": job_id\n",
        "            }\n",
        "        )\n",
        "\n",
        "        job = response.job_information\n",
        "\n",
        "        if job.status == \"SCHEDULED\":\n",
        "            print(f\"Job is scheduled, polling again in {wait_time} seconds...\")\n",
        "            time.sleep(wait_time)\n",
        "        elif job.status == \"IN_PROGRESS\":\n",
        "            print(f\"Job is in progress, polling again in {wait_time} seconds...\")\n",
        "            time.sleep(wait_time)\n",
        "        else:\n",
        "            print(\"Job is completed\")\n",
        "            break\n",
        "\n",
        "    return job\n",
        "\n",
        "job = poll_job_status(job_id)\n",
        "pretty_print_model(job)"
      ]
    },
    {
      "cell_type": "markdown",
      "metadata": {
        "id": "iMQbRKJ1NBwX"
      },
      "source": [
        "At this point, we've completed all the foundational steps:\n",
        "\n",
        "- Extracted structured elements from raw documents using a **Partitioner**.\n",
        "- Organized the extracted content into manageable chunks with a **Chunker**.\n",
        "- Generated vector embeddings for those chunks through an **Embedder**.\n",
        "\n",
        "Our processed data is now stored and ready for retrieval.\n",
        "\n",
        "Next, we'll connect the pieces together and build a RAG pipeline that can answer questions grounded in this freshly structured knowledge base.\n",
        "\n"
      ]
    },
    {
      "cell_type": "markdown",
      "metadata": {
        "id": "wb-VFNsn9IyD"
      },
      "source": [
        "# RAG 🤖\n"
      ]
    },
    {
      "cell_type": "markdown",
      "metadata": {
        "id": "KZOIC9fWNCpF"
      },
      "source": [
        "### Requirements\n",
        "\n",
        "For this project, you'll need the following libraries:\n",
        "\n",
        "- `astrapy` — Python client for working with Astra DB, which we'll use to store and retrieve vector embeddings.\n",
        "- `langgraph` — A flexible framework for building agentic workflows and graphs of reasoning steps.\n",
        "- `grandalf` — A graph manipulation library used internally by LangGraph for building and managing computational graphs.\n",
        "\n",
        "We'll install all these libraries up front to make sure everything is ready to go.\n"
      ]
    },
    {
      "cell_type": "code",
      "execution_count": null,
      "metadata": {
        "colab": {
          "base_uri": "https://localhost:8080/"
        },
        "collapsed": true,
        "id": "KwP0VwkS_p8u",
        "outputId": "bd13a654-38bb-40de-aeff-d4ca3b87e93d"
      },
      "outputs": [
        {
          "name": "stdout",
          "output_type": "stream",
          "text": [
            "Collecting astrapy\n",
            "  Downloading astrapy-2.0.1-py3-none-any.whl.metadata (23 kB)\n",
            "Collecting langgraph\n",
            "  Downloading langgraph-0.4.0-py3-none-any.whl.metadata (7.9 kB)\n",
            "Collecting grandalf\n",
            "  Downloading grandalf-0.8-py3-none-any.whl.metadata (1.7 kB)\n",
            "Collecting together\n",
            "  Downloading together-1.5.5-py3-none-any.whl.metadata (14 kB)\n",
            "Collecting deprecation<2.2.0,>=2.1.0 (from astrapy)\n",
            "  Downloading deprecation-2.1.0-py2.py3-none-any.whl.metadata (4.6 kB)\n",
            "Requirement already satisfied: httpx<1,>=0.25.2 in /usr/local/lib/python3.11/dist-packages (from httpx[http2]<1,>=0.25.2->astrapy) (0.28.1)\n",
            "Collecting pymongo>=3 (from astrapy)\n",
            "  Downloading pymongo-4.12.1-cp311-cp311-manylinux_2_17_x86_64.manylinux2014_x86_64.whl.metadata (22 kB)\n",
            "Requirement already satisfied: toml<0.11.0,>=0.10.2 in /usr/local/lib/python3.11/dist-packages (from astrapy) (0.10.2)\n",
            "Requirement already satisfied: typing-extensions>=4.0 in /usr/local/lib/python3.11/dist-packages (from astrapy) (4.13.2)\n",
            "Collecting uuid6>=2024.1.12 (from astrapy)\n",
            "  Downloading uuid6-2024.7.10-py3-none-any.whl.metadata (8.6 kB)\n",
            "Requirement already satisfied: langchain-core>=0.1 in /usr/local/lib/python3.11/dist-packages (from langgraph) (0.3.56)\n",
            "Collecting langgraph-checkpoint<3.0.0,>=2.0.10 (from langgraph)\n",
            "  Downloading langgraph_checkpoint-2.0.25-py3-none-any.whl.metadata (4.6 kB)\n",
            "Collecting langgraph-prebuilt>=0.1.8 (from langgraph)\n",
            "  Downloading langgraph_prebuilt-0.1.8-py3-none-any.whl.metadata (5.0 kB)\n",
            "Collecting langgraph-sdk>=0.1.42 (from langgraph)\n",
            "  Downloading langgraph_sdk-0.1.63-py3-none-any.whl.metadata (1.8 kB)\n",
            "Collecting xxhash<4.0.0,>=3.5.0 (from langgraph)\n",
            "  Downloading xxhash-3.5.0-cp311-cp311-manylinux_2_17_x86_64.manylinux2014_x86_64.whl.metadata (12 kB)\n",
            "Requirement already satisfied: pyparsing in /usr/local/lib/python3.11/dist-packages (from grandalf) (3.2.3)\n",
            "Requirement already satisfied: aiohttp<4.0.0,>=3.9.3 in /usr/local/lib/python3.11/dist-packages (from together) (3.11.15)\n",
            "Requirement already satisfied: click<9.0.0,>=8.1.7 in /usr/local/lib/python3.11/dist-packages (from together) (8.1.8)\n",
            "Requirement already satisfied: eval-type-backport<0.3.0,>=0.1.3 in /usr/local/lib/python3.11/dist-packages (from together) (0.2.2)\n",
            "Requirement already satisfied: filelock<4.0.0,>=3.13.1 in /usr/local/lib/python3.11/dist-packages (from together) (3.18.0)\n",
            "Requirement already satisfied: numpy>=1.23.5 in /usr/local/lib/python3.11/dist-packages (from together) (2.0.2)\n",
            "Requirement already satisfied: pillow<12.0.0,>=11.1.0 in /usr/local/lib/python3.11/dist-packages (from together) (11.2.1)\n",
            "Requirement already satisfied: pyarrow>=10.0.1 in /usr/local/lib/python3.11/dist-packages (from together) (18.1.0)\n",
            "Requirement already satisfied: pydantic<3.0.0,>=2.6.3 in /usr/local/lib/python3.11/dist-packages (from together) (2.11.3)\n",
            "Requirement already satisfied: requests<3.0.0,>=2.31.0 in /usr/local/lib/python3.11/dist-packages (from together) (2.32.3)\n",
            "Requirement already satisfied: rich<14.0.0,>=13.8.1 in /usr/local/lib/python3.11/dist-packages (from together) (13.9.4)\n",
            "Requirement already satisfied: tabulate<0.10.0,>=0.9.0 in /usr/local/lib/python3.11/dist-packages (from together) (0.9.0)\n",
            "Requirement already satisfied: tqdm<5.0.0,>=4.66.2 in /usr/local/lib/python3.11/dist-packages (from together) (4.67.1)\n",
            "Requirement already satisfied: typer<0.16,>=0.9 in /usr/local/lib/python3.11/dist-packages (from together) (0.15.2)\n",
            "Requirement already satisfied: aiohappyeyeballs>=2.3.0 in /usr/local/lib/python3.11/dist-packages (from aiohttp<4.0.0,>=3.9.3->together) (2.6.1)\n",
            "Requirement already satisfied: aiosignal>=1.1.2 in /usr/local/lib/python3.11/dist-packages (from aiohttp<4.0.0,>=3.9.3->together) (1.3.2)\n",
            "Requirement already satisfied: attrs>=17.3.0 in /usr/local/lib/python3.11/dist-packages (from aiohttp<4.0.0,>=3.9.3->together) (25.3.0)\n",
            "Requirement already satisfied: frozenlist>=1.1.1 in /usr/local/lib/python3.11/dist-packages (from aiohttp<4.0.0,>=3.9.3->together) (1.6.0)\n",
            "Requirement already satisfied: multidict<7.0,>=4.5 in /usr/local/lib/python3.11/dist-packages (from aiohttp<4.0.0,>=3.9.3->together) (6.4.3)\n",
            "Requirement already satisfied: propcache>=0.2.0 in /usr/local/lib/python3.11/dist-packages (from aiohttp<4.0.0,>=3.9.3->together) (0.3.1)\n",
            "Requirement already satisfied: yarl<2.0,>=1.17.0 in /usr/local/lib/python3.11/dist-packages (from aiohttp<4.0.0,>=3.9.3->together) (1.20.0)\n",
            "Requirement already satisfied: packaging in /usr/local/lib/python3.11/dist-packages (from deprecation<2.2.0,>=2.1.0->astrapy) (24.2)\n",
            "Requirement already satisfied: anyio in /usr/local/lib/python3.11/dist-packages (from httpx<1,>=0.25.2->httpx[http2]<1,>=0.25.2->astrapy) (4.9.0)\n",
            "Requirement already satisfied: certifi in /usr/local/lib/python3.11/dist-packages (from httpx<1,>=0.25.2->httpx[http2]<1,>=0.25.2->astrapy) (2025.1.31)\n",
            "Requirement already satisfied: httpcore==1.* in /usr/local/lib/python3.11/dist-packages (from httpx<1,>=0.25.2->httpx[http2]<1,>=0.25.2->astrapy) (1.0.9)\n",
            "Requirement already satisfied: idna in /usr/local/lib/python3.11/dist-packages (from httpx<1,>=0.25.2->httpx[http2]<1,>=0.25.2->astrapy) (3.10)\n",
            "Requirement already satisfied: h11>=0.16 in /usr/local/lib/python3.11/dist-packages (from httpcore==1.*->httpx<1,>=0.25.2->httpx[http2]<1,>=0.25.2->astrapy) (0.16.0)\n",
            "Requirement already satisfied: h2<5,>=3 in /usr/local/lib/python3.11/dist-packages (from httpx[http2]<1,>=0.25.2->astrapy) (4.2.0)\n",
            "Requirement already satisfied: langsmith<0.4,>=0.1.125 in /usr/local/lib/python3.11/dist-packages (from langchain-core>=0.1->langgraph) (0.3.34)\n",
            "Requirement already satisfied: tenacity!=8.4.0,<10.0.0,>=8.1.0 in /usr/local/lib/python3.11/dist-packages (from langchain-core>=0.1->langgraph) (9.1.2)\n",
            "Requirement already satisfied: jsonpatch<2.0,>=1.33 in /usr/local/lib/python3.11/dist-packages (from langchain-core>=0.1->langgraph) (1.33)\n",
            "Requirement already satisfied: PyYAML>=5.3 in /usr/local/lib/python3.11/dist-packages (from langchain-core>=0.1->langgraph) (6.0.2)\n",
            "Collecting ormsgpack<2.0.0,>=1.8.0 (from langgraph-checkpoint<3.0.0,>=2.0.10->langgraph)\n",
            "  Downloading ormsgpack-1.9.1-cp311-cp311-manylinux_2_17_x86_64.manylinux2014_x86_64.whl.metadata (43 kB)\n",
            "\u001b[2K     \u001b[90m━━━━━━━━━━━━━━━━━━━━━━━━━━━━━━━━━━━━━━━━\u001b[0m \u001b[32m43.5/43.5 kB\u001b[0m \u001b[31m3.0 MB/s\u001b[0m eta \u001b[36m0:00:00\u001b[0m\n",
            "\u001b[?25hRequirement already satisfied: orjson>=3.10.1 in /usr/local/lib/python3.11/dist-packages (from langgraph-sdk>=0.1.42->langgraph) (3.10.16)\n",
            "Requirement already satisfied: annotated-types>=0.6.0 in /usr/local/lib/python3.11/dist-packages (from pydantic<3.0.0,>=2.6.3->together) (0.7.0)\n",
            "Requirement already satisfied: pydantic-core==2.33.1 in /usr/local/lib/python3.11/dist-packages (from pydantic<3.0.0,>=2.6.3->together) (2.33.1)\n",
            "Requirement already satisfied: typing-inspection>=0.4.0 in /usr/local/lib/python3.11/dist-packages (from pydantic<3.0.0,>=2.6.3->together) (0.4.0)\n",
            "Collecting dnspython<3.0.0,>=1.16.0 (from pymongo>=3->astrapy)\n",
            "  Downloading dnspython-2.7.0-py3-none-any.whl.metadata (5.8 kB)\n",
            "Requirement already satisfied: charset-normalizer<4,>=2 in /usr/local/lib/python3.11/dist-packages (from requests<3.0.0,>=2.31.0->together) (3.4.1)\n",
            "Requirement already satisfied: urllib3<3,>=1.21.1 in /usr/local/lib/python3.11/dist-packages (from requests<3.0.0,>=2.31.0->together) (2.4.0)\n",
            "Requirement already satisfied: markdown-it-py>=2.2.0 in /usr/local/lib/python3.11/dist-packages (from rich<14.0.0,>=13.8.1->together) (3.0.0)\n",
            "Requirement already satisfied: pygments<3.0.0,>=2.13.0 in /usr/local/lib/python3.11/dist-packages (from rich<14.0.0,>=13.8.1->together) (2.19.1)\n",
            "Requirement already satisfied: shellingham>=1.3.0 in /usr/local/lib/python3.11/dist-packages (from typer<0.16,>=0.9->together) (1.5.4)\n",
            "Requirement already satisfied: hyperframe<7,>=6.1 in /usr/local/lib/python3.11/dist-packages (from h2<5,>=3->httpx[http2]<1,>=0.25.2->astrapy) (6.1.0)\n",
            "Requirement already satisfied: hpack<5,>=4.1 in /usr/local/lib/python3.11/dist-packages (from h2<5,>=3->httpx[http2]<1,>=0.25.2->astrapy) (4.1.0)\n",
            "Requirement already satisfied: jsonpointer>=1.9 in /usr/local/lib/python3.11/dist-packages (from jsonpatch<2.0,>=1.33->langchain-core>=0.1->langgraph) (3.0.0)\n",
            "Requirement already satisfied: requests-toolbelt<2.0.0,>=1.0.0 in /usr/local/lib/python3.11/dist-packages (from langsmith<0.4,>=0.1.125->langchain-core>=0.1->langgraph) (1.0.0)\n",
            "Requirement already satisfied: zstandard<0.24.0,>=0.23.0 in /usr/local/lib/python3.11/dist-packages (from langsmith<0.4,>=0.1.125->langchain-core>=0.1->langgraph) (0.23.0)\n",
            "Requirement already satisfied: mdurl~=0.1 in /usr/local/lib/python3.11/dist-packages (from markdown-it-py>=2.2.0->rich<14.0.0,>=13.8.1->together) (0.1.2)\n",
            "Requirement already satisfied: sniffio>=1.1 in /usr/local/lib/python3.11/dist-packages (from anyio->httpx<1,>=0.25.2->httpx[http2]<1,>=0.25.2->astrapy) (1.3.1)\n",
            "Downloading astrapy-2.0.1-py3-none-any.whl (300 kB)\n",
            "\u001b[2K   \u001b[90m━━━━━━━━━━━━━━━━━━━━━━━━━━━━━━━━━━━━━━━━\u001b[0m \u001b[32m300.5/300.5 kB\u001b[0m \u001b[31m13.5 MB/s\u001b[0m eta \u001b[36m0:00:00\u001b[0m\n",
            "\u001b[?25hDownloading langgraph-0.4.0-py3-none-any.whl (148 kB)\n",
            "\u001b[2K   \u001b[90m━━━━━━━━━━━━━━━━━━━━━━━━━━━━━━━━━━━━━━━━\u001b[0m \u001b[32m148.9/148.9 kB\u001b[0m \u001b[31m10.2 MB/s\u001b[0m eta \u001b[36m0:00:00\u001b[0m\n",
            "\u001b[?25hDownloading grandalf-0.8-py3-none-any.whl (41 kB)\n",
            "\u001b[2K   \u001b[90m━━━━━━━━━━━━━━━━━━━━━━━━━━━━━━━━━━━━━━━━\u001b[0m \u001b[32m41.8/41.8 kB\u001b[0m \u001b[31m2.5 MB/s\u001b[0m eta \u001b[36m0:00:00\u001b[0m\n",
            "\u001b[?25hDownloading together-1.5.5-py3-none-any.whl (87 kB)\n",
            "\u001b[2K   \u001b[90m━━━━━━━━━━━━━━━━━━━━━━━━━━━━━━━━━━━━━━━━\u001b[0m \u001b[32m87.9/87.9 kB\u001b[0m \u001b[31m6.8 MB/s\u001b[0m eta \u001b[36m0:00:00\u001b[0m\n",
            "\u001b[?25hDownloading deprecation-2.1.0-py2.py3-none-any.whl (11 kB)\n",
            "Downloading langgraph_checkpoint-2.0.25-py3-none-any.whl (42 kB)\n",
            "\u001b[2K   \u001b[90m━━━━━━━━━━━━━━━━━━━━━━━━━━━━━━━━━━━━━━━━\u001b[0m \u001b[32m42.3/42.3 kB\u001b[0m \u001b[31m3.2 MB/s\u001b[0m eta \u001b[36m0:00:00\u001b[0m\n",
            "\u001b[?25hDownloading langgraph_prebuilt-0.1.8-py3-none-any.whl (25 kB)\n",
            "Downloading langgraph_sdk-0.1.63-py3-none-any.whl (47 kB)\n",
            "\u001b[2K   \u001b[90m━━━━━━━━━━━━━━━━━━━━━━━━━━━━━━━━━━━━━━━━\u001b[0m \u001b[32m47.3/47.3 kB\u001b[0m \u001b[31m3.7 MB/s\u001b[0m eta \u001b[36m0:00:00\u001b[0m\n",
            "\u001b[?25hDownloading pymongo-4.12.1-cp311-cp311-manylinux_2_17_x86_64.manylinux2014_x86_64.whl (1.4 MB)\n",
            "\u001b[2K   \u001b[90m━━━━━━━━━━━━━━━━━━━━━━━━━━━━━━━━━━━━━━━━\u001b[0m \u001b[32m1.4/1.4 MB\u001b[0m \u001b[31m59.5 MB/s\u001b[0m eta \u001b[36m0:00:00\u001b[0m\n",
            "\u001b[?25hDownloading uuid6-2024.7.10-py3-none-any.whl (6.4 kB)\n",
            "Downloading xxhash-3.5.0-cp311-cp311-manylinux_2_17_x86_64.manylinux2014_x86_64.whl (194 kB)\n",
            "\u001b[2K   \u001b[90m━━━━━━━━━━━━━━━━━━━━━━━━━━━━━━━━━━━━━━━━\u001b[0m \u001b[32m194.8/194.8 kB\u001b[0m \u001b[31m14.5 MB/s\u001b[0m eta \u001b[36m0:00:00\u001b[0m\n",
            "\u001b[?25hDownloading dnspython-2.7.0-py3-none-any.whl (313 kB)\n",
            "\u001b[2K   \u001b[90m━━━━━━━━━━━━━━━━━━━━━━━━━━━━━━━━━━━━━━━━\u001b[0m \u001b[32m313.6/313.6 kB\u001b[0m \u001b[31m22.9 MB/s\u001b[0m eta \u001b[36m0:00:00\u001b[0m\n",
            "\u001b[?25hDownloading ormsgpack-1.9.1-cp311-cp311-manylinux_2_17_x86_64.manylinux2014_x86_64.whl (223 kB)\n",
            "\u001b[2K   \u001b[90m━━━━━━━━━━━━━━━━━━━━━━━━━━━━━━━━━━━━━━━━\u001b[0m \u001b[32m223.6/223.6 kB\u001b[0m \u001b[31m14.6 MB/s\u001b[0m eta \u001b[36m0:00:00\u001b[0m\n",
            "\u001b[?25hInstalling collected packages: xxhash, uuid6, ormsgpack, grandalf, dnspython, deprecation, pymongo, langgraph-sdk, together, astrapy, langgraph-checkpoint, langgraph-prebuilt, langgraph\n",
            "Successfully installed astrapy-2.0.1 deprecation-2.1.0 dnspython-2.7.0 grandalf-0.8 langgraph-0.4.0 langgraph-checkpoint-2.0.25 langgraph-prebuilt-0.1.8 langgraph-sdk-0.1.63 ormsgpack-1.9.1 pymongo-4.12.1 together-1.5.5 uuid6-2024.7.10 xxhash-3.5.0\n"
          ]
        }
      ],
      "source": [
        "!pip install -U astrapy langgraph grandalf together"
      ]
    },
    {
      "cell_type": "markdown",
      "metadata": {
        "id": "gJVpEXjLuzIZ"
      },
      "source": [
        "Before we can start making API calls, we need to set our API keys from the `userdata` configuration.\n",
        "\n",
        "Before we can use Together AI models, we'll need an API key.\n",
        "\n",
        "You can get your Together AI API key by following these steps:\n",
        "\n",
        "1. Go to [https://together.ai/](https://together.ai/) and sign up for a free account.\n",
        "2. After logging in, navigate to the **API Keys** section in the dashboard.\n",
        "3. Create a new API key and copy it — you'll need it for authentication.\n",
        "\n",
        "Fetching the Together AI API key from the secrets!\n"
      ]
    },
    {
      "cell_type": "code",
      "execution_count": null,
      "metadata": {
        "id": "4iKBTl7hAyyv"
      },
      "outputs": [],
      "source": [
        "os.environ[\"TOGETHER_API_KEY\"] = userdata.get(\"TOGETHER_API_KEY\")"
      ]
    },
    {
      "cell_type": "code",
      "execution_count": null,
      "metadata": {
        "id": "U5GlXz9m2yq0"
      },
      "outputs": [],
      "source": [
        "from typing import List, Dict, TypedDict\n",
        "from langgraph.graph import StateGraph, START, END\n",
        "from langchain_core.prompts import PromptTemplate\n",
        "from langchain_core.output_parsers import StrOutputParser\n",
        "from astrapy import DataAPIClient\n",
        "from together import Together"
      ]
    },
    {
      "cell_type": "markdown",
      "metadata": {
        "id": "J_epMie0_eli"
      },
      "source": [
        "Let's use the newly released Llama-4 Maverick as the LLM for generation"
      ]
    },
    {
      "cell_type": "code",
      "execution_count": null,
      "metadata": {
        "id": "3i6vPASj8Hrg"
      },
      "outputs": [],
      "source": [
        "together_client = Together()\n",
        "EMBEDDING_MODEL = \"togethercomputer/m2-bert-80M-8k-retrieval\"\n",
        "GENERATION_MODEL = \"meta-llama/Llama-4-Maverick-17B-128E-Instruct-FP8\"\n",
        "TOP_K = 3"
      ]
    },
    {
      "cell_type": "markdown",
      "metadata": {
        "id": "agnVQIZzHbaB"
      },
      "source": [
        "Establish connection to Astra DB"
      ]
    },
    {
      "cell_type": "code",
      "execution_count": null,
      "metadata": {
        "id": "68mPm1ej8PUb"
      },
      "outputs": [],
      "source": [
        "astra_client = DataAPIClient(os.environ[\"ASTRA_DB_APPLICATION_TOKEN\"])\n",
        "database = astra_client.get_database(os.environ[\"ASTRA_DB_API_ENDPOINT\"])\n",
        "COLLECTION = database.get_collection(\n",
        "    name=os.environ[\"ASTRA_DB_COLLECTION_NAME\"],\n",
        "    keyspace=os.environ[\"ASTRA_DB_KEYSPACE\"]\n",
        "\n",
        ")"
      ]
    },
    {
      "cell_type": "markdown",
      "metadata": {
        "id": "-w6oVyV3HhwU"
      },
      "source": [
        "Utility Functions\n",
        "\n",
        "- `get_embedding(text: str)`:  \n",
        "  Generates an embedding vector for a given text.\n",
        "\n",
        "- `simple_retriever(query: str, n: int) -> str`:  \n",
        "  Retrieves the top `n` documents most similar to a query based on embedding similarity.\n",
        "\n",
        "- `invoke_RAG(chain, question)`:  \n",
        "  Sends a question to a chain (like a LangGraph agent) and prints the final generated answer.\n"
      ]
    },
    {
      "cell_type": "code",
      "execution_count": null,
      "metadata": {
        "id": "GwhsvY3L8P3S"
      },
      "outputs": [],
      "source": [
        "def get_embedding(text: str):\n",
        "    response = together_client.embeddings.create(\n",
        "      model = EMBEDDING_MODEL,\n",
        "      input = text\n",
        "    )\n",
        "\n",
        "    return response.data[0].embedding\n",
        "\n",
        "def simple_retriever(query: str, n: int = TOP_K) -> str:\n",
        "    embedding = get_embedding(query)\n",
        "    results = COLLECTION.find(sort={\"$vector\": embedding}, limit=n)\n",
        "    docs = [doc[\"content\"] for doc in results]\n",
        "    return \"\\n\".join(f\"===== Document {i+1} =====\\n{doc}\" for i, doc in enumerate(docs))\n",
        "\n",
        "def invoke_RAG(chain, question):\n",
        "  result = chain.invoke({\"question\": question})\n",
        "  print(\"\\n Final Answer:\\n\", result[\"answer\"])"
      ]
    },
    {
      "cell_type": "markdown",
      "metadata": {
        "id": "zO7V4-q6gkRE"
      },
      "source": [
        "## Defining Vanilla RAG with Langgraph\n",
        "\n",
        "LangGraph lets us build reasoning workflows by connecting functions (called nodes) into a graph structure.  \n",
        "Each function updates a shared state dictionary as the data flows from one step to the next.  \n",
        "This approach makes it easy to model multi-step logic.\n",
        "\n",
        "\n",
        "Here’s a quick overview of what each function in our graph is responsible for:\n",
        "\n",
        "- `retrieve_node(state: VanillaRAGState)`:  \n",
        "  Takes the user's question, retrieves the most relevant documents, and stores them into the `\"docs\"` field of the shared state.\n",
        "\n",
        "- `generate_node(state: VanillaRAGState)`:  \n",
        "  Takes the retrieved documents along with the original question, creates a prompt, sends it to the Together AI API, and saves the model's answer into the `\"answer\"` field of the state.\n",
        "\n",
        "\n",
        "\n"
      ]
    },
    {
      "cell_type": "code",
      "execution_count": null,
      "metadata": {
        "id": "kn8CAEhFgZok"
      },
      "outputs": [],
      "source": [
        "class VanillaRAGState(TypedDict, total=False):\n",
        "    question: str\n",
        "    docs: str\n",
        "    answer: str\n",
        "\n",
        "def retrieve_node(state: VanillaRAGState) -> Dict:\n",
        "    docs = simple_retriever(state[\"question\"])\n",
        "    return {\"docs\": docs}\n",
        "\n",
        "\n",
        "def generate_node(state: VanillaRAGState) -> Dict:\n",
        "    question, context = state[\"question\"], state[\"docs\"]\n",
        "    prompt = (\n",
        "        \"You are an assistant that answers questions using the provided context only.\\n\"\n",
        "        \"Do not speculate. If insufficient data, say so.\\n\"\n",
        "        f\"Question: {question}\\n\"\n",
        "        f\"Context:\\n{context}\"\n",
        "    )\n",
        "    response = together_client.chat.completions.create(\n",
        "          model=GENERATION_MODEL,\n",
        "          messages=[\n",
        "              {\"role\": \"system\", \"content\": \"Follow the instructions strictly.\"},\n",
        "              {\"role\": \"user\", \"content\": prompt},\n",
        "              ],\n",
        "          temperature=0\n",
        "    )\n",
        "    return {\"answer\": response.choices[0].message.content.strip()}\n",
        "\n",
        "vanilla_graph = StateGraph(VanillaRAGState)\n",
        "\n",
        "vanilla_graph.add_node(\"retrieve\", retrieve_node)\n",
        "vanilla_graph.add_node(\"generate\", generate_node)\n",
        "\n",
        "vanilla_graph.add_edge(START, \"retrieve\")\n",
        "vanilla_graph.add_edge(\"retrieve\", \"generate\")\n",
        "vanilla_graph.add_edge(\"generate\", END)\n",
        "\n",
        "vanilla_rag_chain = vanilla_graph.compile()\n"
      ]
    },
    {
      "cell_type": "markdown",
      "metadata": {
        "id": "LX26nLs3Kz0h"
      },
      "source": [
        "In our graph setup:\n",
        "\n",
        "1. We start at the `\"retrieve\"` node, where we pull documents based on the question.\n",
        "2. The retrieved docs are passed along to the `\"generate\"` node, which creates the final answer.\n",
        "3. After generation, the graph execution ends.\n",
        "\n",
        "By wiring these nodes together, LangGraph handles the flow automatically — moving from retrieval to generation based on the state transitions we defined."
      ]
    },
    {
      "cell_type": "code",
      "execution_count": null,
      "metadata": {
        "colab": {
          "base_uri": "https://localhost:8080/"
        },
        "id": "nzNOAjbLgqE4",
        "outputId": "dedbcc63-44c9-489c-c850-96547aaa1792"
      },
      "outputs": [
        {
          "name": "stdout",
          "output_type": "stream",
          "text": [
            "+-----------+  \n",
            "| __start__ |  \n",
            "+-----------+  \n",
            "      *        \n",
            "      *        \n",
            "      *        \n",
            "+----------+   \n",
            "| retrieve |   \n",
            "+----------+   \n",
            "      *        \n",
            "      *        \n",
            "      *        \n",
            "+----------+   \n",
            "| generate |   \n",
            "+----------+   \n",
            "      *        \n",
            "      *        \n",
            "      *        \n",
            " +---------+   \n",
            " | __end__ |   \n",
            " +---------+   \n"
          ]
        }
      ],
      "source": [
        "vanilla_rag_chain.get_graph().print_ascii()"
      ]
    },
    {
      "cell_type": "markdown",
      "metadata": {
        "id": "2lcb-K8SMHJ_"
      },
      "source": [
        "Now lets test it with some questions"
      ]
    },
    {
      "cell_type": "code",
      "execution_count": null,
      "metadata": {
        "colab": {
          "base_uri": "https://localhost:8080/"
        },
        "id": "h-TWZBUIPj9H",
        "outputId": "0288927e-75ed-4cd6-8709-834fc9e97d0f"
      },
      "outputs": [
        {
          "name": "stdout",
          "output_type": "stream",
          "text": [
            "\n",
            " Final Answer:\n",
            " To create a negotiation playbook for a founder trying to change a 4-year cliff vesting into milestone-based vesting with partial upfront equity, we need to understand the context and the motivations of both the founder and the investors.\n",
            "\n",
            "From the provided context, we can infer the following:\n",
            "\n",
            "1. **Vesting is a common practice**: Investors and savvy cofounders often require vesting as a condition of doing business (Document 2). This implies that investors are likely to be hesitant to change the vesting schedule.\n",
            "2. **Founders may be subject to acceleration**: Acceleration clauses can be included in contracts to allow for faster vesting under certain conditions (Document 3). This could be a potential bargaining chip for the founder.\n",
            "3. **Single-trigger and double-trigger acceleration**: Founders tend to prefer single-trigger acceleration, while VCs in Silicon Valley generally prefer double-trigger acceleration (Document 1). This indicates that there may be a difference in opinion between founders and investors on this topic.\n",
            "\n",
            "Given this context, here is a negotiation playbook for the founder:\n",
            "\n",
            "**Negotiation Playbook**\n",
            "\n",
            "1. **Understand the investor's concerns**: Before entering negotiations, understand the investor's concerns and priorities. Are they concerned about the founder's commitment to the company? Do they have specific milestones in mind?\n",
            "2. **Highlight the benefits of milestone-based vesting**: Emphasize how milestone-based vesting can align the founder's interests with those of the investors, as it ties equity to specific achievements.\n",
            "3. **Propose a compromise on upfront equity**: Offer to accept a partial upfront equity grant, with the remaining equity vesting upon achieving specific milestones.\n",
            "4. **Be prepared to discuss acceleration**: Be prepared to discuss acceleration clauses and how they might be triggered. Consider offering a double-trigger acceleration clause to alleviate investor concerns.\n",
            "5. **Be flexible and open to alternative structures**: Be prepared to negotiate and consider alternative structures, such as a hybrid vesting schedule that combines elements of both time-based and milestone-based vesting.\n",
            "\n",
            "**Insufficient data to provide further details**\n",
            "\n",
            "The provided context does not give specific information about the company, the founder's role, or the investors' preferences. To create a more detailed negotiation playbook, additional information would be required.\n"
          ]
        }
      ],
      "source": [
        "query = 'Create a negotiation playbook for a founder trying to change a 4-year cliff vesting into milestone-based vesting with partial upfront equity.'\n",
        "\n",
        "invoke_RAG(vanilla_rag_chain, query)"
      ]
    },
    {
      "cell_type": "code",
      "execution_count": null,
      "metadata": {
        "colab": {
          "base_uri": "https://localhost:8080/"
        },
        "id": "IjFUaHmdea4-",
        "outputId": "1b18c8c2-e50f-4ebf-8d37-4ffb3e8bb527"
      },
      "outputs": [
        {
          "name": "stdout",
          "output_type": "stream",
          "text": [
            "\n",
            " Final Answer:\n",
            " Insufficient data. The term \"corp statuses\" is not mentioned in the provided context.\n"
          ]
        }
      ],
      "source": [
        "query = 'What are corp statuses?'\n",
        "\n",
        "invoke_RAG(vanilla_rag_chain, query)"
      ]
    },
    {
      "cell_type": "markdown",
      "metadata": {
        "id": "q3l01FbCPp_t"
      },
      "source": [
        "The retrieved chunks did not have enough context to help answer the question.\n",
        "Lets also test it with a question that involves comparisons with multiple sources"
      ]
    },
    {
      "cell_type": "code",
      "execution_count": null,
      "metadata": {
        "colab": {
          "base_uri": "https://localhost:8080/"
        },
        "id": "BIco1hwXVRzw",
        "outputId": "ac13ae1e-3eb4-4ea9-8986-a78abb17e5d6"
      },
      "outputs": [
        {
          "name": "stdout",
          "output_type": "stream",
          "text": [
            "\n",
            " Final Answer:\n",
            " To answer the question, we need to analyze the vesting schedules and acceleration clauses in Stripe Atlas and the UPenn sample Founders' Agreement.\n",
            "\n",
            "Unfortunately, the provided context does not directly mention Stripe Atlas's vesting schedules and acceleration clauses. However, we can analyze the information given in Document 3, which appears to be related to the UPenn sample Founders' Agreement or a similar document.\n",
            "\n",
            "According to Document 3, the vesting schedule is 4 years with a 1-year cliff, and 1/48th of the shares vest per month thereafter.\n",
            "\n",
            "Document 2 explains single-trigger and double-trigger acceleration clauses. \n",
            "\n",
            "Since we lack information on Stripe Atlas's specific recommendations for vesting schedules and acceleration clauses, we cannot directly compare them to the UPenn sample Founders' Agreement.\n",
            "\n",
            "However, based on the information provided in Document 3, we can infer that the UPenn sample Founders' Agreement (or a similar agreement) has a 4-year vesting schedule with a 1-year cliff and a monthly cadence.\n",
            "\n",
            "To determine which would best protect a solo founder planning to sell within 3 years, we need more information on Stripe Atlas's recommendations.\n",
            "\n",
            "Given the insufficient data on Stripe Atlas, the answer is: Insufficient data.\n"
          ]
        }
      ],
      "source": [
        "query = 'How do the vesting schedules (cliff length, monthly cadence) and single- vs double-trigger acceleration clauses recommended for founders differ between Stripe Atlas and the UPenn sample Founders’ Agreement, and which would best protect a solo founder planning to sell within 3 years?'\n",
        "\n",
        "invoke_RAG(vanilla_rag_chain, query)"
      ]
    },
    {
      "cell_type": "markdown",
      "metadata": {
        "id": "TYyskn8aNW8p"
      },
      "source": [
        "As you can tell with the \"the context does not provide..\" in the answer, Vanilla RAG can start to fall short when the retrieved documents don't fully answer the user's question.  \n",
        "If key details are missing or scattered across multiple sources, a single retrieval pass won't be enough.  \n",
        "To handle these more complex cases, we'll make our system smarter, to be able to judge when more retrieval is needed and adapt dynamically.\n"
      ]
    },
    {
      "cell_type": "markdown",
      "metadata": {
        "id": "IqiRqFUVLjzd"
      },
      "source": [
        "## Agentic RAG"
      ]
    },
    {
      "cell_type": "markdown",
      "metadata": {
        "id": "FK0Ha7bkLbZa"
      },
      "source": [
        "Our vanilla RAG pipeline worked for simple questions, but what if the retrieved documents aren't good enough?  \n",
        "Instead of just hoping for the best, we can make our system smarter — **able to grade its own retrievals and adapt accordingly**.\n",
        "\n",
        "In this section, we'll use LangGraph to build a more dynamic, agent-like RAG flow that can decide when to decompose questions and retrieve more context if needed.\n",
        "\n",
        "Here's how each part of the graph contributes to this smarter behavior:\n",
        "\n",
        "- `retrieve_initial(state: RAGState)`:  \n",
        "  Retrieves documents based on the original user question and stores them as the initial context.\n",
        "\n",
        "- `grade_retrieval(state: RAGState)`:  \n",
        "  Evaluates whether the retrieved context is sufficient to answer the question.  \n",
        "  Returns a `\"next\"` decision: either `\"proceed\"` or `\"decompose\"`.\n",
        "\n",
        "- `decompose(state: RAGState)`:  \n",
        "  Breaks down a complex question into multiple simpler sub-questions if the initial context was insufficient.\n",
        "\n",
        "- `retrieve_many(state: RAGState)`:  \n",
        "  Performs separate retrievals for each sub-question generated during decomposition.\n",
        "\n",
        "- `assemble_context(state: RAGState)`:  \n",
        "  Combines all retrieved sub-documents into a single unified context ready for final answer generation.\n",
        "\n",
        "- `generate_final(state: RAGState)`:  \n",
        "  Uses the final assembled context to generate the grounded answer via the LLM."
      ]
    },
    {
      "cell_type": "code",
      "execution_count": null,
      "metadata": {
        "id": "d3U7vrnO8USp"
      },
      "outputs": [],
      "source": [
        "class RAGState(TypedDict, total=False):\n",
        "    question: str\n",
        "    sub_questions: List[str]\n",
        "    sub_docs: List[str]\n",
        "    final_context: str\n",
        "    answer: str\n",
        "    next: str\n",
        "\n",
        "\n",
        "def retrieve_initial(state: RAGState) -> Dict:\n",
        "    docs = simple_retriever(state[\"question\"])\n",
        "    return {\"final_context\": docs}\n",
        "\n",
        "def grade_retrieval(state: RAGState) -> Dict:\n",
        "    question, docs = state[\"question\"], state[\"final_context\"]\n",
        "\n",
        "    grading_prompt = (\n",
        "        \"You are evaluating whether the provided CONTEXT is *reasonably sufficient* to answer the QUESTION.\\n\\n\"\n",
        "        \"• If the context directly addresses the primary concept or entity in the question—even if some minor details \"\n",
        "        \"are missing—reply **exactly**:\\n\\n\"\n",
        "        \"proceed\\n\\n\"\n",
        "        \"• Otherwise, reply **exactly**:\\n\\n\"\n",
        "        \"decompose\\n\\n\"\n",
        "        \"Return **only** that single word (lower-case, no punctuation, no code-block fences).\\n\\n\"\n",
        "        f\"QUESTION: {question}\\n\"\n",
        "        f\"CONTEXT (excerpt): {docs[:1500]}\"\n",
        "    )\n",
        "\n",
        "    response = together_client.chat.completions.create(\n",
        "          model=GENERATION_MODEL,\n",
        "          messages=[\n",
        "              {\"role\": \"system\", \"content\": \"You are a quality-checking agent.\"},\n",
        "              {\"role\": \"user\", \"content\": grading_prompt},\n",
        "              ],\n",
        "          temperature=0,\n",
        "          max_tokens=2\n",
        "    )\n",
        "\n",
        "    decision = response.choices[0].message.content.strip().lower()\n",
        "    print(f\"DECISION STEP: RESULT : {decision}\")\n",
        "    return {\"next\": decision}\n",
        "\n",
        "def decompose(state: RAGState) -> Dict:\n",
        "    question = state[\"question\"]\n",
        "    prompt = (\n",
        "        f\"Break the following complex question into simpler, factual sub-questions.\\n\"\n",
        "        \"Return only the questions.\"\n",
        "        f\"Original: {question}\\n\"\n",
        "        f\"Return as a list.\"\n",
        "    )\n",
        "\n",
        "    response = together_client.chat.completions.create(\n",
        "          model=GENERATION_MODEL,\n",
        "          messages=[\n",
        "              {\"role\": \"system\", \"content\": \"You are a helpful assistant that decomposes complex questions.\"},\n",
        "              {\"role\": \"user\", \"content\": prompt},\n",
        "              ],\n",
        "          temperature=0,\n",
        "          max_tokens=256,\n",
        "    )\n",
        "    raw = response.choices[0].message.content.strip()\n",
        "    sub_questions = [q.strip(\"- \") for q in raw.split(\"\\n\") if q.strip()]\n",
        "    print(f\"decompose STEP: RESULT : {sub_questions}\")\n",
        "    return {\"sub_questions\": sub_questions}\n",
        "\n",
        "def retrieve_many(state: RAGState) -> Dict:\n",
        "    sub_questions = state[\"sub_questions\"]\n",
        "    sub_docs = [simple_retriever(q) for q in sub_questions]\n",
        "    print(f\"retrieve_many STEP: Number of Sub-Documents: {len(sub_docs)}\")\n",
        "    return {\"sub_docs\": sub_docs}\n",
        "\n",
        "def assemble_context(state: RAGState) -> Dict:\n",
        "    sub_qs, docs = state[\"sub_questions\"], state[\"sub_docs\"]\n",
        "    sections = [f\"Q: {q}\\n{d}\" for q, d in zip(sub_qs, docs)]\n",
        "    final_context = \"\\n\\n\".join(sections)\n",
        "    print(f\"Assembling Context\")\n",
        "    return {\"final_context\": final_context}\n",
        "\n",
        "def generate_final(state: RAGState) -> Dict:\n",
        "    question, context = state[\"question\"], state[\"final_context\"]\n",
        "    prompt = (\n",
        "        \"You are an assistant that answers questions using the provided context only.\\n\"\n",
        "        \"Do not speculate. If insufficient data, say so.\\n\"\n",
        "        f\"Question: {question}\\n\"\n",
        "        f\"Context:\\n{context}\"\n",
        "    )\n",
        "    response = together_client.chat.completions.create(\n",
        "          model=GENERATION_MODEL,\n",
        "          messages=[\n",
        "              {\"role\": \"system\", \"content\": \"You answer questions with context only.\"},\n",
        "              {\"role\": \"user\", \"content\": prompt},\n",
        "              ],\n",
        "          temperature=0\n",
        "    )\n",
        "    print(\"Generating Final Answer\")\n",
        "    return {\"answer\": response.choices[0].message.content.strip()}"
      ]
    },
    {
      "cell_type": "markdown",
      "metadata": {
        "id": "qV1XbHNwLFh0"
      },
      "source": [
        "Here's the step-by-step flow of our agentic RAG graph:\n",
        "\n",
        "1. Start at `\"retrieve_initial\"`: pull documents for the original question.\n",
        "2. Move to `\"grade\"`: assess if the retrieved docs are good enough.\n",
        "3. Based on the grading decision:\n",
        "   - If the decision is `\"proceed\"`, jump directly to `\"generate\"`.\n",
        "   - If the decision is `\"decompose\"`, break the question into parts and continue.\n",
        "4. If decomposing:\n",
        "   - `\"decompose\"` creates sub-questions.\n",
        "   - `\"retrieve_many\"` retrieves documents for each sub-question.\n",
        "   - `\"assemble_context\"` stitches the sub-docs into a full context.\n",
        "   - Finally, `\"generate\"` produces the answer.\n",
        "\n",
        "\n",
        "By adding decision points into our graph, we've made the RAG system **much more adaptive and capable of handling complex queries**"
      ]
    },
    {
      "cell_type": "code",
      "execution_count": null,
      "metadata": {
        "id": "WW9RVU2N8X-q"
      },
      "outputs": [],
      "source": [
        "graph = StateGraph(RAGState)\n",
        "graph.add_node(\"retrieve_initial\", retrieve_initial)\n",
        "graph.add_node(\"grade\", grade_retrieval)\n",
        "graph.add_node(\"decompose\", decompose)\n",
        "graph.add_node(\"retrieve_many\", retrieve_many)\n",
        "graph.add_node(\"assemble_context\", assemble_context)\n",
        "graph.add_node(\"generate\", generate_final)\n",
        "\n",
        "# edges\n",
        "graph.add_edge(START, \"retrieve_initial\")\n",
        "graph.add_edge(\"retrieve_initial\", \"grade\")\n",
        "graph.add_conditional_edges(\n",
        "    \"grade\",\n",
        "    lambda state: state[\"next\"],\n",
        "    {\"proceed\": \"generate\", \"decompose\": \"decompose\"}\n",
        ")\n",
        "graph.add_edge(\"decompose\", \"retrieve_many\")\n",
        "graph.add_edge(\"retrieve_many\", \"assemble_context\")\n",
        "graph.add_edge(\"assemble_context\", \"generate\")\n",
        "graph.add_edge(\"generate\", END)\n",
        "\n",
        "rag_chain = graph.compile()"
      ]
    },
    {
      "cell_type": "code",
      "execution_count": null,
      "metadata": {
        "colab": {
          "base_uri": "https://localhost:8080/"
        },
        "id": "7Qe_gJlDMmNW",
        "outputId": "d80c44a8-1b2a-4489-95c4-a655fc87d1c8"
      },
      "outputs": [
        {
          "name": "stdout",
          "output_type": "stream",
          "text": [
            "                +-----------+        \n",
            "                | __start__ |        \n",
            "                +-----------+        \n",
            "                       *             \n",
            "                       *             \n",
            "                       *             \n",
            "             +------------------+    \n",
            "             | retrieve_initial |    \n",
            "             +------------------+    \n",
            "                       *             \n",
            "                       *             \n",
            "                       *             \n",
            "                  +-------+          \n",
            "                  | grade |          \n",
            "                  +-------+..        \n",
            "                ..           ..      \n",
            "              ..               ..    \n",
            "            ..                   ..  \n",
            "    +-----------+                  ..\n",
            "    | decompose |                   .\n",
            "    +-----------+                   .\n",
            "          *                         .\n",
            "          *                         .\n",
            "          *                         .\n",
            "  +---------------+                 .\n",
            "  | retrieve_many |                 .\n",
            "  +---------------+                 .\n",
            "          *                         .\n",
            "          *                         .\n",
            "          *                         .\n",
            "+------------------+               ..\n",
            "| assemble_context |             ..  \n",
            "+------------------+           ..    \n",
            "                **           ..      \n",
            "                  **       ..        \n",
            "                    **   ..          \n",
            "                 +----------+        \n",
            "                 | generate |        \n",
            "                 +----------+        \n",
            "                       *             \n",
            "                       *             \n",
            "                       *             \n",
            "                 +---------+         \n",
            "                 | __end__ |         \n",
            "                 +---------+         \n"
          ]
        }
      ],
      "source": [
        "rag_chain.get_graph().print_ascii()"
      ]
    },
    {
      "cell_type": "markdown",
      "metadata": {
        "id": "0oXuGRbfP8vm"
      },
      "source": [
        "First, lets try testing a question which worked partially previously with Vanilla RAG, in this situation, we expect the Chain to **decompose** the original query into multiple subqueries, fetched context for all of them, and used them to answer the question.  "
      ]
    },
    {
      "cell_type": "code",
      "execution_count": null,
      "metadata": {
        "colab": {
          "base_uri": "https://localhost:8080/"
        },
        "id": "afib30YlNt4R",
        "outputId": "3955cd5c-f2cd-4386-efba-3dd350933d8a"
      },
      "outputs": [
        {
          "name": "stdout",
          "output_type": "stream",
          "text": [
            "DECISION STEP: RESULT : decompose\n",
            "decompose STEP: RESULT : ['1. What is the current vesting structure being used (4-year cliff vesting)?', '2. What is milestone-based vesting?', '3. What is partial upfront equity?', '4. What are the typical milestones used for milestone-based vesting in startup equity vesting?', '5. How does cliff vesting differ from milestone-based vesting?', '6. What are the benefits of milestone-based vesting for founders?', '7. What are the potential drawbacks of milestone-based vesting for investors?', '8. How can a founder prepare for negotiations with investors regarding vesting structures?', '9. What are some common negotiation strategies for founders when discussing equity vesting with investors?', '10. How can a founder propose a compromise between cliff vesting and milestone-based vesting?']\n",
            "retrieve_many STEP: Number of Sub-Documents: 10\n",
            "Assembling Context\n",
            "Generating Final Answer\n",
            "\n",
            " Final Answer:\n",
            " To create a negotiation playbook for a founder trying to change a 4-year cliff vesting into milestone-based vesting with partial upfront equity, we need to analyze the provided context.\n",
            "\n",
            "1. **Current Vesting Structure (4-year cliff vesting)**: The current vesting structure is a 4-year vesting schedule with a 1-year cliff. This means that 25% of the founder's equity vests after the first year, and the remaining 75% vests over the next 3 years.\n",
            "\n",
            "2. **Milestone-based Vesting**: Milestone-based vesting is a vesting schedule tied to specific milestones or achievements rather than a fixed time period. The documents do not specify typical milestones, but they imply that milestone-based vesting is an alternative to time-based vesting.\n",
            "\n",
            "3. **Partial Upfront Equity**: Partial upfront equity refers to the practice of granting a portion of the founder's equity at the outset, rather than having it all vest over time.\n",
            "\n",
            "4. **Cliff Vesting vs. Milestone-based Vesting**: Cliff vesting encourages commitment for at least the first year, while milestone-based vesting ties equity vesting to specific achievements.\n",
            "\n",
            "5. **Benefits of Milestone-based Vesting for Founders**: While not directly stated, milestone-based vesting can be beneficial for founders as it ties their equity to performance and achievements.\n",
            "\n",
            "6. **Potential Drawbacks for Investors**: The documents do not directly state the drawbacks of milestone-based vesting for investors, but it can be inferred that investors may be concerned about the subjectivity and potential manipulation of milestones.\n",
            "\n",
            "7. **Preparing for Negotiations**: Founders should understand how equity works, including vesting schedules and the implications of different vesting structures. They should also be aware of investor preferences and be prepared to negotiate.\n",
            "\n",
            "8. **Negotiation Strategies**: While not explicitly stated, negotiation strategies may include understanding the investor's concerns, being flexible, and proposing compromises.\n",
            "\n",
            "9. **Proposing a Compromise**: A potential compromise between cliff vesting and milestone-based vesting could involve a hybrid structure, where a portion of the equity vests based on time (with a cliff), and another portion vests based on specific milestones.\n",
            "\n",
            "**Negotiation Playbook**:\n",
            "\n",
            "1. **Understand the Current Vesting Structure**: Acknowledge the current 4-year cliff vesting structure and its implications.\n",
            "2. **Propose Milestone-based Vesting**: Introduce milestone-based vesting as an alternative, highlighting its benefits in tying equity to performance.\n",
            "3. **Offer Partial Upfront Equity**: Suggest granting a portion of the equity upfront to recognize the founder's initial contributions.\n",
            "4. **Be Prepared to Address Concerns**: Anticipate and address investor concerns about milestone-based vesting, such as subjectivity and potential manipulation.\n",
            "5. **Propose a Hybrid Structure**: Offer a compromise that combines elements of time-based vesting (with a cliff) and milestone-based vesting.\n",
            "6. **Negotiate in Good Faith**: Be flexible and open to negotiations, seeking a mutually beneficial agreement.\n",
            "\n",
            "By following this playbook, a founder can effectively negotiate with investors to change the vesting structure to milestone-based vesting with partial upfront equity.\n"
          ]
        }
      ],
      "source": [
        "query = 'Create a negotiation playbook for a founder trying to change a 4-year cliff vesting into milestone-based vesting with partial upfront equity.'\n",
        "\n",
        "invoke_RAG(rag_chain, query)"
      ]
    },
    {
      "cell_type": "markdown",
      "metadata": {
        "id": "Hs_nvbyzQN_1"
      },
      "source": [
        "Another question"
      ]
    },
    {
      "cell_type": "code",
      "execution_count": null,
      "metadata": {
        "colab": {
          "base_uri": "https://localhost:8080/"
        },
        "id": "COMTt_4RNu6u",
        "outputId": "9a0174a3-e41a-41c4-e4a4-706ff140b4c8"
      },
      "outputs": [
        {
          "name": "stdout",
          "output_type": "stream",
          "text": [
            "DECISION STEP: RESULT : decompose\n",
            "decompose STEP: RESULT : ['1. What are the vesting schedules recommended for founders by Stripe Atlas?', '2. What are the vesting schedules recommended for founders by the UPenn sample Founders’ Agreement?', '3. What are the acceleration clauses recommended for founders by Stripe Atlas?', '4. What are the acceleration clauses recommended for founders by the UPenn sample Founders’ Agreement?', '5. What type of acceleration clause (single-trigger or double-trigger) is recommended by Stripe Atlas for founders?', '6. What type of acceleration clause (single-trigger or double-trigger) is recommended by the UPenn sample Founders’ Agreement for founders?', '7. How would a solo founder planning to sell within 3 years be affected by different vesting schedules?', '8. How would a solo founder planning to sell within 3 years be affected by single-trigger vs double-trigger acceleration clauses?']\n",
            "retrieve_many STEP: Number of Sub-Documents: 8\n",
            "Assembling Context\n",
            "Generating Final Answer\n",
            "\n",
            " Final Answer:\n",
            " ## Step 1: Identify the vesting schedules recommended by Stripe Atlas and the UPenn sample Founders’ Agreement.\n",
            "Stripe Atlas recommends a four-year vesting schedule with a one-year cliff and even monthly vesting over the three-year post-cliff period. The UPenn sample Founders’ Agreement also suggests a four-year vesting schedule with a one-year cliff, vesting 1/48th per month.\n",
            "\n",
            "## Step 2: Identify the acceleration clauses recommended by Stripe Atlas and the UPenn sample Founders’ Agreement.\n",
            "Stripe Atlas recommends double-trigger acceleration for founders. The UPenn sample Founders’ Agreement does not explicitly state its recommendation for acceleration clauses in the provided context, but it is mentioned that single-trigger acceleration is often preferred by founders, while VCs generally prefer double-trigger acceleration.\n",
            "\n",
            "## Step 3: Analyze how the vesting schedules affect a solo founder planning to sell within 3 years.\n",
            "Given that both Stripe Atlas and the UPenn sample Founders’ Agreement recommend a four-year vesting schedule with a one-year cliff, a solo founder planning to sell within 3 years would be affected similarly by the vesting schedule in both cases. The founder would not be fully vested at the time of sale.\n",
            "\n",
            "## Step 4: Analyze how single-trigger vs double-trigger acceleration clauses affect a solo founder planning to sell within 3 years.\n",
            "For a solo founder planning to sell within 3 years, single-trigger acceleration would vest the founder's unvested shares upon a change of control (e.g., acquisition), providing full vesting. Double-trigger acceleration would require a second event (termination of employment) after the change of control to vest the remaining shares.\n",
            "\n",
            "## Step 5: Determine which recommendation would best protect a solo founder planning to sell within 3 years.\n",
            "Since the solo founder plans to sell within 3 years and is likely to be involved in the company until the sale, single-trigger acceleration would be more beneficial as it would vest the founder's shares upon the sale (change of control), ensuring the founder receives the full value of their vested shares. However, the UPenn sample Founders’ Agreement's stance on acceleration is not directly stated in the provided context.\n",
            "\n",
            "## Step 6: Compare the recommendations directly.\n",
            "Stripe Atlas recommends double-trigger acceleration, while the preference between single-trigger and double-trigger acceleration for the UPenn sample Founders’ Agreement is not directly stated but mentions that founders often prefer single-trigger.\n",
            "\n",
            "## Step 7: Conclude based on the available information.\n",
            "Given that Stripe Atlas recommends double-trigger acceleration and assuming the UPenn sample might lean towards or allow for single-trigger acceleration based on founder preferences, single-trigger acceleration (potentially associated with the UPenn sample due to founder preference) would be more beneficial for a solo founder planning to sell within 3 years.\n",
            "\n",
            "The final answer is: $\\boxed{UPenn}$\n"
          ]
        }
      ],
      "source": [
        "query = 'How do the vesting schedules (cliff length, monthly cadence) and single- vs double-trigger acceleration clauses recommended for founders differ between Stripe Atlas and the UPenn sample Founders’ Agreement, and which would best protect a solo founder planning to sell within 3 years?'\n",
        "\n",
        "\n",
        "invoke_RAG(rag_chain, query)"
      ]
    },
    {
      "cell_type": "markdown",
      "metadata": {
        "id": "NckAslUBPWH3"
      },
      "source": [
        "When there's context in different parts of our documents, Agentic RAG will fetch context from these parts and help answer the questions. Taking another  example:"
      ]
    },
    {
      "cell_type": "code",
      "execution_count": null,
      "metadata": {
        "colab": {
          "base_uri": "https://localhost:8080/"
        },
        "id": "G_fWSQgh12ve",
        "outputId": "aadc1d7b-fd6b-4aa9-cb5c-9742709a53fe"
      },
      "outputs": [
        {
          "name": "stdout",
          "output_type": "stream",
          "text": [
            "DECISION STEP: RESULT : decompose\n",
            "decompose STEP: RESULT : ['1. What is a corp status?', '2. What are the different types of corp statuses?', '3. How are corp statuses used?', '4. Where are corp statuses typically found or referenced?']\n",
            "retrieve_many STEP: Number of Sub-Documents: 4\n",
            "Assembling Context\n",
            "Generating Final Answer\n",
            "\n",
            " Final Answer:\n",
            " Based on the provided context, specifically Document 1 and Document 3, corp statuses refer to the tax status of a corporation with the IRS. The two possible corp statuses are:\n",
            "\n",
            "1. C corporation status: This is the default status for all corporations, and they are taxed under subchapter C of the US tax code.\n",
            "2. S corporation status: A corporation can elect to be taxed under subchapter S of the US tax code by making an election with the IRS after incorporation.\n",
            "\n",
            "Additionally, it is mentioned that B corporation status is not related to C or S corporation status. It is also mentioned that being a public benefit corporation does not mean it's also a B corporation.\n",
            "\n",
            "There is insufficient data to determine other types of corp statuses or how they are used beyond tax purposes. \n",
            "\n",
            "Corp statuses are typically referenced in the context of tax purposes and IRS elections.\n"
          ]
        }
      ],
      "source": [
        "query = 'What are corp statuses?'\n",
        "\n",
        "invoke_RAG(rag_chain, query)"
      ]
    },
    {
      "cell_type": "markdown",
      "metadata": {
        "id": "ImY2caOjT_vI"
      },
      "source": [
        "# Conclusion\n",
        "\n",
        "As demonstrated in this tutorial, Agentic RAG can deliver higher-quality answers compared to Vanilla RAG by rephrasing queries, decomposing tasks, and leveraging multiple retrieval steps — all while using the same retriever, documents, and generation LLM.\n",
        "\n",
        "\n",
        "Even though we've kept the agentic flow simple in this notebook, there's plenty of room to expand.  \n",
        "You could make your agent even more capable by:\n",
        "\n",
        "- Adding recursive retrieval steps if the first fetch is insufficient.\n",
        "- Calling external tools or APIs to pull in extra information dynamically.\n",
        "- Leveraging domain-specific knowledge bases when broader context is missing.\n",
        "\n",
        "The more flexible your agent becomes, the better it can handle real-world, messy queries — and the more critical your underlying data quality will be.  \n",
        "With strong foundations powered by the [Unstructured](https://unstructured.io/developers), and smart extensions to your agent's capabilities, you'll be well on your way to building truly robust, production-grade RAG systems.\n"
      ]
    },
    {
      "cell_type": "code",
      "execution_count": null,
      "metadata": {
        "id": "EZo_W3iL9RLW"
      },
      "outputs": [],
      "source": []
    }
  ],
  "metadata": {
    "colab": {
      "provenance": []
    },
    "kernelspec": {
      "display_name": "Python 3",
      "name": "python3"
    },
    "language_info": {
      "name": "python"
    }
  },
  "nbformat": 4,
  "nbformat_minor": 0
}
