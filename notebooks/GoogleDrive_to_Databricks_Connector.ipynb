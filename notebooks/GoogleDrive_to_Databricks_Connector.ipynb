{
  "cells": [
    {
      "cell_type": "markdown",
      "source": [
        "# Transforming Unstructured Data from a Google Drive Folder into RAG-Ready Data in Databricks Volume\n",
        "\n",
        "Do you have any unstructured data lying around in Google Drive that you'd like to use for RAG?\n",
        "\n",
        "Let's ingest and preprocess it with Unstructured and load into Databricks volumes.\n",
        "\n",
        "Prerequisites:\n",
        "\n",
        "A. Get your [free Unstructured API key](https://unstructured.io/api-key-free) or [paid Unstructured API key](https://unstructured.io/api-key-hosted).\n",
        "\n",
        "B. Create a [Google Drive service account](https://developers.google.com/workspace/guides/create-credentials#service-account) and get your key (as a json file).\n",
        "\n",
        "C. Make sure the email address for the service account is given access to the Google Drive folder you will be ingesting from.\n",
        "\n",
        "D. Create a [Databricks Workspace](https://docs.databricks.com/en/workspace/workspace-details.html) (you'll need your hostname, username, and password) and [UC Volume](https://docs.databricks.com/en/connect/unity-catalog/volumes.html).\n"
      ],
      "metadata": {
        "id": "_6vFBew0GjOq"
      }
    },
    {
      "cell_type": "markdown",
      "source": [
        "## Setup\n"
      ],
      "metadata": {
        "id": "l9ehJA3MJXOZ"
      }
    },
    {
      "cell_type": "code",
      "execution_count": null,
      "metadata": {
        "application/vnd.databricks.v1+cell": {
          "cellMetadata": {
            "byteLimit": 2048000,
            "rowLimit": 10000
          },
          "inputWidgets": {},
          "nuid": "dc79ebd5-8c11-4a67-9981-3c49afac35e8",
          "showTitle": false,
          "title": ""
        },
        "collapsed": true,
        "id": "IssWTJydbrIY"
      },
      "outputs": [],
      "source": [
        "# Install the necessary libraries\n",
        "!pip install unstructured[all-docs] httpx \"unstructured[databricks-volumes, gdrive, docx]\" python-dotenv"
      ]
    },
    {
      "cell_type": "markdown",
      "source": [
        "Here we're mounting a Google Drive **only to load an `.env` file** with the environment variables.  The documents that we intend to process are going to be ingested through an Unstructured source connector.\n",
        "Feel free to load your environment variables in any other way you prefer."
      ],
      "metadata": {
        "id": "QuFy3dkMJjbp"
      }
    },
    {
      "cell_type": "code",
      "source": [
        "from google.colab import drive\n",
        "\n",
        "drive.mount('/content/drive')"
      ],
      "metadata": {
        "colab": {
          "base_uri": "https://localhost:8080/"
        },
        "id": "oCamylZKcPR3",
        "outputId": "eacef2ca-4d7b-4f35-a8c5-e2c9d80a779b"
      },
      "execution_count": null,
      "outputs": [
        {
          "output_type": "stream",
          "name": "stdout",
          "text": [
            "Mounted at /content/drive\n"
          ]
        }
      ]
    },
    {
      "cell_type": "code",
      "source": [
        "import os\n",
        "import dotenv\n",
        "\n",
        "dotenv.load_dotenv('/content/drive/MyDrive/.env')"
      ],
      "metadata": {
        "collapsed": true,
        "id": "n16n3mUtfoRA"
      },
      "execution_count": null,
      "outputs": []
    },
    {
      "cell_type": "code",
      "source": [
        "# Optional cell to reduce the amount of logs\n",
        "import logging\n",
        "\n",
        "logger = logging.getLogger(\"unstructured.ingest\")\n",
        "logger.root.removeHandler(logger.root.handlers[0])"
      ],
      "metadata": {
        "id": "gH6xMmPsCgpj"
      },
      "execution_count": null,
      "outputs": []
    },
    {
      "cell_type": "code",
      "execution_count": null,
      "metadata": {
        "application/vnd.databricks.v1+cell": {
          "cellMetadata": {
            "byteLimit": 2048000,
            "rowLimit": 10000
          },
          "inputWidgets": {},
          "nuid": "ea81a07f-5136-48ad-b436-c7715b6c80fc",
          "showTitle": false,
          "title": ""
        },
        "collapsed": true,
        "id": "eLKC8BcObrIZ"
      },
      "outputs": [],
      "source": [
        "# Imports\n",
        "from unstructured.ingest.connector.databricks_volumes import (\n",
        "    DatabricksVolumesAccessConfig,\n",
        "    DatabricksVolumesWriteConfig,\n",
        "    SimpleDatabricksVolumesConfig,\n",
        ")\n",
        "from unstructured.ingest.connector.google_drive import (\n",
        "    GoogleDriveAccessConfig,\n",
        "    SimpleGoogleDriveConfig,\n",
        "    )\n",
        "\n",
        "from unstructured.ingest.interfaces import (\n",
        "    PartitionConfig,\n",
        "    ProcessorConfig,\n",
        "    ReadConfig,\n",
        ")\n",
        "from unstructured.ingest.runner import GoogleDriveRunner\n",
        "from unstructured.ingest.runner.writers.base_writer import Writer\n",
        "from unstructured.ingest.runner.writers.databricks_volumes import (\n",
        "    DatabricksVolumesWriter,\n",
        ")"
      ]
    },
    {
      "cell_type": "code",
      "source": [
        "# The Writer configures the connection to Databricks Volume\n",
        "def get_writer() -> Writer:\n",
        "    return DatabricksVolumesWriter(\n",
        "        connector_config=SimpleDatabricksVolumesConfig(\n",
        "            host=os.getenv(\"DATABRICKS_HOST\"),\n",
        "            access_config=DatabricksVolumesAccessConfig(\n",
        "                username=os.getenv(\"DATABRICKS_USERNAME\"), password=os.getenv(\"DATABRICKS_PASSWORD\")\n",
        "            ),\n",
        "        ),\n",
        "        write_config=DatabricksVolumesWriteConfig(\n",
        "            catalog=os.getenv(\"DATABRICKS_CATALOG\"),\n",
        "            volume=os.getenv(\"DATABRICKS_VOLUME\"),\n",
        "        ),\n",
        "    )\n",
        "\n",
        "\n",
        "writer = get_writer()\n",
        "\n",
        "# GoogleDriveRunner configures ingestion parameters for Google Drive\n",
        "runner = GoogleDriveRunner(\n",
        "    processor_config=ProcessorConfig(\n",
        "        output_dir=\"google-drive-ingest-output\",\n",
        "        num_processes=2,\n",
        "       ),\n",
        "\n",
        "    read_config=ReadConfig(),\n",
        "\n",
        "    partition_config=PartitionConfig(\n",
        "        partition_by_api=True,\n",
        "        api_key=os.getenv(\"UNSTRUCTURED_API_KEY\"),\n",
        "\n",
        "    ),\n",
        "\n",
        "    connector_config=SimpleGoogleDriveConfig(\n",
        "        access_config=GoogleDriveAccessConfig(service_account_key=os.getenv(\"YOUR_SERVICE_ACCOUNT_KEY\")),\n",
        "        recursive=True,\n",
        "        # The drive_id is a part of the URL for your Google Drive folder, e.g.:\n",
        "        # https://drive.google.com/drive/folders/{folder-id}\n",
        "        drive_id=\"GOOGLE_DRIVE_FOLDER_ID\",\n",
        "        ),\n",
        "\n",
        "    writer=writer,\n",
        "    writer_kwargs={},\n",
        "    )\n",
        "\n",
        "runner.run()\n"
      ],
      "metadata": {
        "colab": {
          "base_uri": "https://localhost:8080/"
        },
        "id": "qKjLfDWih1GJ",
        "outputId": "7c8f2f89-e43c-4631-85b0-0dc185e456b9"
      },
      "execution_count": null,
      "outputs": [
        {
          "output_type": "stream",
          "name": "stderr",
          "text": [
            "2024-05-31 20:45:28,975 MainProcess DEBUG    updating download directory to: /root/.cache/unstructured/ingest/google_drive/85da14bf81\n",
            "2024-05-31 20:45:28,979 MainProcess INFO     running pipeline: DocFactory -> Reader -> Partitioner -> Writer -> Copier with config: {\"reprocess\": false, \"verbose\": true, \"work_dir\": \"/root/.cache/unstructured/ingest/pipeline\", \"output_dir\": \"google-drive-ingest-output\", \"num_processes\": 2, \"raise_on_error\": false}\n",
            "2024-05-31 20:45:29,062 MainProcess INFO     Running doc factory to generate ingest docs. Source connector: {\"processor_config\": {\"reprocess\": false, \"verbose\": true, \"work_dir\": \"/root/.cache/unstructured/ingest/pipeline\", \"output_dir\": \"google-drive-ingest-output\", \"num_processes\": 2, \"raise_on_error\": false}, \"read_config\": {\"download_dir\": \"/root/.cache/unstructured/ingest/google_drive/85da14bf81\", \"re_download\": false, \"preserve_downloads\": false, \"download_only\": false, \"max_docs\": null}, \"connector_config\": {\"drive_id\": \"1YnEi8MP1dVUcHkdC6ZTKH20YoOd4In8r\", \"access_config\": {\"service_account_key\": \"*******\"}, \"extension\": null, \"recursive\": true}}\n",
            "2024-05-31 20:45:29,776 MainProcess INFO     processing 8 docs via 2 processes\n",
            "2024-05-31 20:45:29,784 MainProcess INFO     Calling Reader with 8 docs\n",
            "2024-05-31 20:45:29,786 MainProcess INFO     Running source node to download data associated with ingest docs\n",
            "2024-05-31 20:45:33,768 MainProcess INFO     Calling Partitioner with 8 docs\n",
            "2024-05-31 20:45:33,771 MainProcess INFO     Running partition node to extract content from json files. Config: {\"pdf_infer_table_structure\": false, \"strategy\": \"auto\", \"ocr_languages\": null, \"encoding\": null, \"additional_partition_args\": {}, \"skip_infer_table_types\": null, \"fields_include\": [\"element_id\", \"text\", \"type\", \"metadata\", \"embeddings\"], \"flatten_metadata\": false, \"metadata_exclude\": [], \"metadata_include\": [], \"partition_endpoint\": \"https://api.unstructured.io/general/v0/general\", \"partition_by_api\": true, \"api_key\": \"*******\", \"hi_res_model_name\": null}, partition kwargs: {}]\n",
            "2024-05-31 20:45:33,773 MainProcess INFO     Creating /root/.cache/unstructured/ingest/pipeline/partitioned\n",
            "2024-05-31 20:45:36,385 MainProcess INFO     Calling Copier with 8 docs\n",
            "2024-05-31 20:45:36,387 MainProcess INFO     Running copy node to move content to desired output location\n",
            "2024-05-31 20:45:39,758 MainProcess INFO     uploading elements from 8 document(s) to the destination\n",
            "2024-05-31 20:45:39,764 MainProcess INFO     Calling Writer with 8 docs\n",
            "2024-05-31 20:45:39,768 MainProcess INFO     Running write node to upload content. Destination connector: {\"write_config\": {\"volume\": \"volumes\", \"catalog\": \"unstructuredio\", \"volume_path\": null, \"overwrite\": false, \"encoding\": \"utf-8\", \"schema\": \"default\"}, \"connector_config\": {\"access_config\": {\"account_id\": null, \"username\": \"ronny@unstructured.io\", \"password\": \"*******\", \"client_id\": \"*******\", \"client_secret\": null, \"token\": null, \"profile\": null, \"azure_workspace_resource_id\": null, \"azure_client_secret\": null, \"azure_client_id\": null, \"azure_tenant_id\": null, \"azure_environment\": null, \"auth_type\": null, \"cluster_id\": null, \"google_credentials\": null, \"google_service_account\": null}, \"host\": \"https://dbc-bc1d7077-003f.cloud.databricks.com\"}, \"_client\": null}]\n",
            "2024-05-31 20:45:39,810 MainProcess DEBUG    uploading content from /content/google-drive-ingest-output/1Dc18ChQSJjPp41ol0kZL12ZChBS6O2EoABxYufX4_II-Semi-structured RAG.docx.json\n",
            "2024-05-31 20:45:39,819 MainProcess DEBUG    uploading content to /Volumes/unstructuredio/default/volumes/1Dc18ChQSJjPp41ol0kZL12ZChBS6O2EoABxYufX4_II-Semi-structured RAG.docx.json\n",
            "2024-05-31 20:45:40,840 MainProcess DEBUG    uploading content from /content/google-drive-ingest-output/1BYcVnJxOK7Pnip4zBtb4qmYqavDBFbbPFhwqWyf63Qc-Understanding What Matters for LLM Ingestion and Preprocessing.docx.json\n",
            "2024-05-31 20:45:40,844 MainProcess DEBUG    uploading content to /Volumes/unstructuredio/default/volumes/1BYcVnJxOK7Pnip4zBtb4qmYqavDBFbbPFhwqWyf63Qc-Understanding What Matters for LLM Ingestion and Preprocessing.docx.json\n",
            "2024-05-31 20:45:41,360 MainProcess DEBUG    uploading content from /content/google-drive-ingest-output/11GXiUffgZXdp-03Z4pjsPvB82F9YnUg0ZKcte1Xi4SY-Chunking strategies.docx.json\n",
            "2024-05-31 20:45:41,364 MainProcess DEBUG    uploading content to /Volumes/unstructuredio/default/volumes/11GXiUffgZXdp-03Z4pjsPvB82F9YnUg0ZKcte1Xi4SY-Chunking strategies.docx.json\n",
            "2024-05-31 20:45:41,951 MainProcess DEBUG    uploading content from /content/google-drive-ingest-output/1DySwDpOOwkUYvPsvl-c1v_5iHQnTnmO6jMSMvjqwZJk-Feb 7, 2024.docx.json\n",
            "2024-05-31 20:45:41,953 MainProcess DEBUG    uploading content to /Volumes/unstructuredio/default/volumes/1DySwDpOOwkUYvPsvl-c1v_5iHQnTnmO6jMSMvjqwZJk-Feb 7, 2024.docx.json\n",
            "2024-05-31 20:45:42,435 MainProcess DEBUG    uploading content from /content/google-drive-ingest-output/110ceeg4McqPXfsavIRQnbwNUdiNMBOL2s2yNmHDcrmM-Feb 13, 2024.docx.json\n",
            "2024-05-31 20:45:42,437 MainProcess DEBUG    uploading content to /Volumes/unstructuredio/default/volumes/110ceeg4McqPXfsavIRQnbwNUdiNMBOL2s2yNmHDcrmM-Feb 13, 2024.docx.json\n",
            "2024-05-31 20:45:42,809 MainProcess DEBUG    uploading content from /content/google-drive-ingest-output/1SkpOFELcjfbsUvQYGC06orga4srtT6FqBZVpBukwlBc-Feb 22, 2024.docx.json\n",
            "2024-05-31 20:45:42,811 MainProcess DEBUG    uploading content to /Volumes/unstructuredio/default/volumes/1SkpOFELcjfbsUvQYGC06orga4srtT6FqBZVpBukwlBc-Feb 22, 2024.docx.json\n",
            "2024-05-31 20:45:43,228 MainProcess DEBUG    uploading content from /content/google-drive-ingest-output/1aGZ6mztrSGNoM5mCSZ_If_n9fH3htYQDJEvB02HHtAE-Mar 8, 2024.docx.json\n",
            "2024-05-31 20:45:43,231 MainProcess DEBUG    uploading content to /Volumes/unstructuredio/default/volumes/1aGZ6mztrSGNoM5mCSZ_If_n9fH3htYQDJEvB02HHtAE-Mar 8, 2024.docx.json\n",
            "2024-05-31 20:45:43,536 MainProcess DEBUG    uploading content from /content/google-drive-ingest-output/1q490NRXFk5rsRSdWAWCiHbh8Hvvo4HM5HpoScgVpcPE-Apr 2, 2024.docx.json\n",
            "2024-05-31 20:45:43,540 MainProcess DEBUG    uploading content to /Volumes/unstructuredio/default/volumes/1q490NRXFk5rsRSdWAWCiHbh8Hvvo4HM5HpoScgVpcPE-Apr 2, 2024.docx.json\n"
          ]
        }
      ]
    }
  ],
  "metadata": {
    "application/vnd.databricks.v1+notebook": {
      "dashboards": [],
      "environmentMetadata": null,
      "language": "python",
      "notebookMetadata": {
        "mostRecentlyExecutedCommandWithImplicitDF": {
          "commandId": -1,
          "dataframes": [
            "_sqldf"
          ]
        },
        "pythonIndentUnit": 4,
        "widgetLayout": [
          {
            "breakBefore": false,
            "name": "DROPBOX_ACCESS_TOKEN",
            "width": 147
          }
        ]
      },
      "notebookName": "(Clone) [v0.13.6] Dropbox to Databricks Connectors",
      "widgets": {}
    },
    "colab": {
      "provenance": []
    },
    "language_info": {
      "name": "python"
    },
    "kernelspec": {
      "name": "python3",
      "display_name": "Python 3"
    }
  },
  "nbformat": 4,
  "nbformat_minor": 0
}