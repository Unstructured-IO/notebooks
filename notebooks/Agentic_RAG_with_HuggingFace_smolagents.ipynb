{
  "nbformat": 4,
  "nbformat_minor": 0,
  "metadata": {
    "colab": {
      "provenance": []
    },
    "kernelspec": {
      "name": "python3",
      "display_name": "Python 3"
    },
    "language_info": {
      "name": "python"
    }
  },
  "cells": [
    {
      "cell_type": "markdown",
      "source": [
        "# Agentic RAG with Hugging Face smolagents vs Vanilla RAG"
      ],
      "metadata": {
        "id": "eP8srgnBN7qG"
      }
    },
    {
      "cell_type": "markdown",
      "source": [
        "Author: [@MariaKhalusova](https://x.com/mariaKhalusova)\n",
        "\n",
        "Last updated: Jan 7th, 2025\n",
        "\n",
        "## What you'll learn:\n",
        "\n",
        "1. Parsing PDF documents from S3 into DataStax AstraDB with Unstructured Platform\n",
        "2. Building Vanilla RAG in pure Python without using specialized frameworks\n",
        "3. Differences between Vanilla RAG and Agentic RAG\n",
        "4. Creating Agentic RAG with Hugging Face `smolagents` library\n",
        "5. Whether Agentic RAG can produce better answers (spoiler: it can!)"
      ],
      "metadata": {
        "id": "-udDYSpYTzue"
      }
    },
    {
      "cell_type": "markdown",
      "source": [
        "In Vanilla RAG, your system uses the user's question to perform a single retrieval step and get a batch of documents that are meant to be relevant to the query. These documents are then passed on to the LLM to generate an answer grounded in the context of those documents.\n",
        "\n",
        "If the results of the retrieval are inadequate (either irrelevant, or incomplete), this will have a direct negative impact on generation. There are many different methods one can employ to improve the retrieval quality - from choosing a better embedding model, to switching to a different retrieval method (e.g. BM25, or hybrid, metadata filtering, etc.), to increasing the number of retrieved documents and adding a reranker, and so on. However, there still may be situations where a single retrieval step, or retrieving based on the user query \"as is\" may not produce optimals results.\n",
        "\n",
        "In this tutorial, we will build the simplest Agentic RAG application that will use retriever as a tool, and will be able to a) reformulate the user query to improve the retrieval results, b) review the results, and c) retrieve more context, if needed. This should allow the RAG application to perform better answer complex question, for example, the ones that might require query decomposition and multiple retrieval steps.\n",
        "\n",
        "There are several frameworks available for building agentic RAG, in this tutorial, we'll be using the latest library from Hugging Face called [`smolagents`](https://github.com/huggingface/smolagents). The library is lightweight, and very easy to start using to build agentic applications, including but not limited to Agentic RAG."
      ],
      "metadata": {
        "id": "KWPrKyioPoix"
      }
    },
    {
      "cell_type": "markdown",
      "source": [
        "## Preparing the data\n",
        "\n",
        "Every RAG application starts with data, and most of the time - unstructured data (PDFs, Word documents, SharePoint files, emails, etc.). Preprocessing this type of data to make it available for retrieval can be a challenging task. [Unstructured Platform](https://unstructured.io/) significantly simplifies this process - it can connect to any data sources you may have in your organization, preprocess the data from those sources making it RAG-ready, and upload the results into your database of choice.\n",
        "\n",
        "To start transforming your data with Unstructured Platform, you'll need to [sign up on the Unstructured For Developers page](https://unstructured.io/developers). Once you do, you can log into the Platform and process up to 1000 pages per day for free for the first 14 days.\n",
        "\n",
        "In this tutorial, our data will consist of annual 10-K SEC filings from Walmart Inc., Chevron Corporation, and Costco Wholesale Corporation for the 2023 fiscal year. These reports offer a deep insight into each company's financial performance that year. The documents are originally in PDF format and we have them stored in an Amazon S3 bucket. After preprocessing, we'll store the document chunks with their embeddings in DataStax AstraDB for retrieval. Here is what we need to do to prepare the data:\n",
        "* Create an S3 _source connector_ in Unstructured Platform to connect it to the documents\n",
        "* Create an AstraDB _destination connector_ in Unstructured Platform to upload the processed documents\n",
        "* Create a _workflow_ that starts with a source connector, adds data transformation steps (such as extracting content of the PDFs with Antropic Claude Sonnet, enriching the documents with metadata, chunking the text, and generating embedding vectors for the similarity search), and then ends with uploading the results into the destination.\n",
        "\n",
        "Let's briefly go over these steps."
      ],
      "metadata": {
        "id": "RquFd-tLNqXd"
      }
    },
    {
      "cell_type": "markdown",
      "source": [
        "### Create an S3 source connector in Unstructured Platform\n",
        "\n",
        "Log in to your Unstructured Platform account, click `Connectors` on the left side bar, make sure you have `Sources` selected, and click `New` to create a new source connector. Choose S3, and enter the required info about your bucket.\n",
        "\n",
        "<img src=\"https://framerusercontent.com/images/I1hhUk4xRAheCxMOLgrXZZiO0.png\" alt=\"S3 connector settings\" width=\"500\"/>"
      ],
      "metadata": {
        "id": "MSGFRq4KulG_"
      }
    },
    {
      "cell_type": "markdown",
      "source": [
        "### Create an AstraDB destination connector in Unstructured Platform\n",
        "\n",
        "Create an account on [datastax.com](https://www.datastax.com/), and create a new Serverless (Vector) Database. Once it's instantiated, grab your credentials - API endpoint, and an application token,- and save them.\n",
        "\n",
        "In the database, create a collection. Give it a name, then in the embedding generation method choose `Bring my own` as we will generate the embeddings automatically with Unstructured Platform. The dimensions value should be set to 3072 in this example as we'll be using `\"text-embedding-3-large\"` model from OpenAI.\n",
        "\n",
        "Now you can create a destination connector for AstraDB in Unstructured Platform, similar to how you created the source connector.\n",
        "\n",
        "<img src=\"https://framerusercontent.com/images/Szq022IHqD04mAjyIUlYgdNcVNM.png\" alt=\"S3 connector settings\" width=\"500\"/>\n",
        "\n",
        "<img src=\"https://framerusercontent.com/images/sJmB9GJ8JhZrPwIm6NccnP82GM.png\" alt=\"S3 connector settings\" width=\"500\"/>\n",
        "\n",
        "\n",
        "\n"
      ],
      "metadata": {
        "id": "bdciRX-1vH0p"
      }
    },
    {
      "cell_type": "markdown",
      "source": [
        "### Create a workflow in Unstructured Platform\n",
        "\n",
        "Navigate to the `Workflows` tab in Unstructured Platform, and click `New workflow`. Choose `Build it with Me` option to set up the workflow with pre-configured options.\n",
        "\n",
        "First, choose your source and destination using the connectors that you've just created.\n",
        "\n",
        "Next, select \"Platinum\" workflow that will use Anthropic Claude Sonnet to preprocess the files:\n",
        "\n",
        "<img src=\"https://framerusercontent.com/images/TRUyuKsfDzmjY5YSE76cdmwreLI.png\" alt=\"S3 connector settings\" width=\"500\"/>\n",
        "\n",
        "Optionally, set a schedule. In this example we don't need it.\n",
        "\n",
        "That's it! Once the workflow is configured, run it, and wait for the job to finish. The documents will be processed, and written into AstraDB, where we can retrieve them from.\n",
        "\n",
        "Now, let's build RAG!\n"
      ],
      "metadata": {
        "id": "ydKZk2AcwnSG"
      }
    },
    {
      "cell_type": "markdown",
      "source": [
        "## Setup"
      ],
      "metadata": {
        "id": "5KJQmJU3M8U2"
      }
    },
    {
      "cell_type": "markdown",
      "source": [
        "Run the line below to install required dependencies:\n",
        "\n",
        "* smolagents: to configure agentic RAG\n",
        "* astrapy: to connect to AstraDB and query it\n",
        "* python-dotenv: to manage environment variables\n"
      ],
      "metadata": {
        "id": "4HS4tNzLxy5b"
      }
    },
    {
      "cell_type": "code",
      "source": [
        "!pip install --upgrade -q smolagents astrapy python-dotenv"
      ],
      "metadata": {
        "colab": {
          "base_uri": "https://localhost:8080/"
        },
        "collapsed": true,
        "id": "p8PmnO4IMyV4",
        "outputId": "b3caed27-6e78-4e93-9bee-62e02bde1919"
      },
      "execution_count": 1,
      "outputs": [
        {
          "output_type": "stream",
          "name": "stdout",
          "text": [
            "\u001b[2K     \u001b[90m━━━━━━━━━━━━━━━━━━━━━━━━━━━━━━━━━━━━━━━━\u001b[0m \u001b[32m89.9/89.9 kB\u001b[0m \u001b[31m901.0 kB/s\u001b[0m eta \u001b[36m0:00:00\u001b[0m\n",
            "\u001b[2K   \u001b[90m━━━━━━━━━━━━━━━━━━━━━━━━━━━━━━━━━━━━━━━━\u001b[0m \u001b[32m67.7/67.7 kB\u001b[0m \u001b[31m3.7 MB/s\u001b[0m eta \u001b[36m0:00:00\u001b[0m\n",
            "\u001b[2K   \u001b[90m━━━━━━━━━━━━━━━━━━━━━━━━━━━━━━━━━━━━━━━━\u001b[0m \u001b[32m177.1/177.1 kB\u001b[0m \u001b[31m8.9 MB/s\u001b[0m eta \u001b[36m0:00:00\u001b[0m\n",
            "\u001b[2K   \u001b[90m━━━━━━━━━━━━━━━━━━━━━━━━━━━━━━━━━━━━━━━━\u001b[0m \u001b[32m57.5/57.5 MB\u001b[0m \u001b[31m14.5 MB/s\u001b[0m eta \u001b[36m0:00:00\u001b[0m\n",
            "\u001b[2K   \u001b[90m━━━━━━━━━━━━━━━━━━━━━━━━━━━━━━━━━━━━━━━━\u001b[0m \u001b[32m320.6/320.6 kB\u001b[0m \u001b[31m16.2 MB/s\u001b[0m eta \u001b[36m0:00:00\u001b[0m\n",
            "\u001b[2K   \u001b[90m━━━━━━━━━━━━━━━━━━━━━━━━━━━━━━━━━━━━━━━━\u001b[0m \u001b[32m76.4/76.4 kB\u001b[0m \u001b[31m4.3 MB/s\u001b[0m eta \u001b[36m0:00:00\u001b[0m\n",
            "\u001b[2K   \u001b[90m━━━━━━━━━━━━━━━━━━━━━━━━━━━━━━━━━━━━━━━━\u001b[0m \u001b[32m6.6/6.6 MB\u001b[0m \u001b[31m63.9 MB/s\u001b[0m eta \u001b[36m0:00:00\u001b[0m\n",
            "\u001b[2K   \u001b[90m━━━━━━━━━━━━━━━━━━━━━━━━━━━━━━━━━━━━━━━━\u001b[0m \u001b[32m13.1/13.1 MB\u001b[0m \u001b[31m57.2 MB/s\u001b[0m eta \u001b[36m0:00:00\u001b[0m\n",
            "\u001b[2K   \u001b[90m━━━━━━━━━━━━━━━━━━━━━━━━━━━━━━━━━━━━━━━━\u001b[0m \u001b[32m1.4/1.4 MB\u001b[0m \u001b[31m39.6 MB/s\u001b[0m eta \u001b[36m0:00:00\u001b[0m\n",
            "\u001b[2K   \u001b[90m━━━━━━━━━━━━━━━━━━━━━━━━━━━━━━━━━━━━━━━━\u001b[0m \u001b[32m313.6/313.6 kB\u001b[0m \u001b[31m14.6 MB/s\u001b[0m eta \u001b[36m0:00:00\u001b[0m\n",
            "\u001b[2K   \u001b[90m━━━━━━━━━━━━━━━━━━━━━━━━━━━━━━━━━━━━━━━━\u001b[0m \u001b[32m81.7/81.7 kB\u001b[0m \u001b[31m5.3 MB/s\u001b[0m eta \u001b[36m0:00:00\u001b[0m\n",
            "\u001b[2K   \u001b[90m━━━━━━━━━━━━━━━━━━━━━━━━━━━━━━━━━━━━━━━━\u001b[0m \u001b[32m94.8/94.8 kB\u001b[0m \u001b[31m4.9 MB/s\u001b[0m eta \u001b[36m0:00:00\u001b[0m\n",
            "\u001b[2K   \u001b[90m━━━━━━━━━━━━━━━━━━━━━━━━━━━━━━━━━━━━━━━━\u001b[0m \u001b[32m57.5/57.5 kB\u001b[0m \u001b[31m3.7 MB/s\u001b[0m eta \u001b[36m0:00:00\u001b[0m\n",
            "\u001b[2K   \u001b[90m━━━━━━━━━━━━━━━━━━━━━━━━━━━━━━━━━━━━━━━━\u001b[0m \u001b[32m3.2/3.2 MB\u001b[0m \u001b[31m48.2 MB/s\u001b[0m eta \u001b[36m0:00:00\u001b[0m\n",
            "\u001b[2K   \u001b[90m━━━━━━━━━━━━━━━━━━━━━━━━━━━━━━━━━━━━━━━━\u001b[0m \u001b[32m11.3/11.3 MB\u001b[0m \u001b[31m56.1 MB/s\u001b[0m eta \u001b[36m0:00:00\u001b[0m\n",
            "\u001b[2K   \u001b[90m━━━━━━━━━━━━━━━━━━━━━━━━━━━━━━━━━━━━━━━━\u001b[0m \u001b[32m73.2/73.2 kB\u001b[0m \u001b[31m4.3 MB/s\u001b[0m eta \u001b[36m0:00:00\u001b[0m\n",
            "\u001b[2K   \u001b[90m━━━━━━━━━━━━━━━━━━━━━━━━━━━━━━━━━━━━━━━━\u001b[0m \u001b[32m1.2/1.2 MB\u001b[0m \u001b[31m40.0 MB/s\u001b[0m eta \u001b[36m0:00:00\u001b[0m\n",
            "\u001b[2K   \u001b[90m━━━━━━━━━━━━━━━━━━━━━━━━━━━━━━━━━━━━━━━━\u001b[0m \u001b[32m62.3/62.3 kB\u001b[0m \u001b[31m3.3 MB/s\u001b[0m eta \u001b[36m0:00:00\u001b[0m\n",
            "\u001b[?25h\u001b[31mERROR: pip's dependency resolver does not currently take into account all the packages that are installed. This behaviour is the source of the following dependency conflicts.\n",
            "cudf-cu12 24.10.1 requires pandas<2.2.3dev0,>=2.0, but you have pandas 2.2.3 which is incompatible.\n",
            "google-colab 1.0.0 requires pandas==2.2.2, but you have pandas 2.2.3 which is incompatible.\u001b[0m\u001b[31m\n",
            "\u001b[0m"
          ]
        }
      ]
    },
    {
      "cell_type": "markdown",
      "source": [
        "Create a local `.env` file that contains the following environment variables, and upload it to your notebook's directory.\n",
        "\n",
        "* `ASTRA_DB_APPLICATION_TOKEN`\n",
        "* `ASTRA_DB_API_ENDPOINT`\n",
        "* `ASTRA_DB_COLLECTION_NAME`\n",
        "* `ASTRA_DB_NAMESPACE`\n",
        "* `OPENAI_API_KEY`\n",
        "\n",
        "In this tutorial, we've generated embeddings for the data using a model from OpenAI, so we need the key to embed the user queries. For convenience, we'll also use an LLM from OpenAI for generation, and it will be the same for Vanilla RAG and Agentic RAG."
      ],
      "metadata": {
        "id": "k08LbFqiNbau"
      }
    },
    {
      "cell_type": "code",
      "source": [
        "import os\n",
        "from dotenv import load_dotenv\n",
        "\n",
        "def load_environment_variables(path_to_dot_env_file) -> None:\n",
        "    \"\"\"\n",
        "    Load environment variables from .env file.\n",
        "    Raises an error if critical environment variables are missing.\n",
        "    \"\"\"\n",
        "    load_dotenv(path_to_dot_env_file)\n",
        "    required_vars = [\n",
        "        \"ASTRA_DB_APPLICATION_TOKEN\",\n",
        "        \"ASTRA_DB_API_ENDPOINT\",\n",
        "        \"ASTRA_DB_COLLECTION_NAME\",\n",
        "        \"ASTRA_DB_NAMESPACE\",\n",
        "        \"OPENAI_API_KEY\"\n",
        "    ]\n",
        "\n",
        "    for var in required_vars:\n",
        "        if not os.getenv(var):\n",
        "            raise ValueError(f\"Missing required environment variable: {var}\")\n",
        "\n",
        "load_environment_variables('/content/.env')"
      ],
      "metadata": {
        "id": "ip_6Tlw-N4Bv"
      },
      "execution_count": 3,
      "outputs": []
    },
    {
      "cell_type": "markdown",
      "source": [
        "## Set up AstraDB collection and OpenAI client"
      ],
      "metadata": {
        "id": "5K0RWv5jYFom"
      }
    },
    {
      "cell_type": "code",
      "source": [
        "from openai import OpenAI\n",
        "from astrapy import DataAPIClient"
      ],
      "metadata": {
        "id": "nz2feeRHO5Jo"
      },
      "execution_count": 4,
      "outputs": []
    },
    {
      "cell_type": "code",
      "source": [
        "OPENAI_CLIENT = OpenAI(api_key=os.environ.get(\"OPENAI_API_KEY\"))\n",
        "EMBEDDING_MODEL = \"text-embedding-3-large\"\n",
        "GENERATION_MODEL = \"gpt-3.5-turbo-0125\""
      ],
      "metadata": {
        "id": "4bMDx9GvYQgK"
      },
      "execution_count": 5,
      "outputs": []
    },
    {
      "cell_type": "code",
      "source": [
        "def get_collection(collection_name: str, keyspace: str):\n",
        "    \"\"\"\n",
        "    Establish connection to Astra DB and return the specified collection.\n",
        "    Args:\n",
        "        collection_name (str): Name of the collection to retrieve\n",
        "        keyspace (str): Database keyspace\n",
        "    Returns:\n",
        "        Collection object from Astra DB\n",
        "    \"\"\"\n",
        "\n",
        "    astra_client = DataAPIClient(os.getenv(\"ASTRA_DB_APPLICATION_TOKEN\"))\n",
        "    database = astra_client.get_database(os.getenv(\"ASTRA_DB_API_ENDPOINT\"))\n",
        "\n",
        "    astradb_collection = database.get_collection(name=collection_name,\n",
        "                                                 keyspace=keyspace)\n",
        "\n",
        "    print(f\"Collection: {astradb_collection.full_name}\\n\")\n",
        "    return astradb_collection\n"
      ],
      "metadata": {
        "id": "xNlgLcUZgGnZ"
      },
      "execution_count": 6,
      "outputs": []
    },
    {
      "cell_type": "code",
      "source": [
        "COLLECTION = get_collection(os.getenv(\"ASTRA_DB_COLLECTION_NAME\"), os.getenv(\"ASTRA_DB_NAMESPACE\"))"
      ],
      "metadata": {
        "colab": {
          "base_uri": "https://localhost:8080/"
        },
        "id": "f31RVIISYYmD",
        "outputId": "706a7641-34af-440a-9690-b0fffa032380"
      },
      "execution_count": 7,
      "outputs": [
        {
          "output_type": "stream",
          "name": "stdout",
          "text": [
            "Collection: default_keyspace.pdf_vlm_collection\n",
            "\n"
          ]
        }
      ]
    },
    {
      "cell_type": "code",
      "source": [
        "def get_embedding(text: str):\n",
        "    \"\"\"\n",
        "    Generate embedding for given text using OpenAI's embedding model.\n",
        "\n",
        "    Args:\n",
        "        text (str): Input text to embed\n",
        "\n",
        "    Returns:\n",
        "        Embedding vector for the input text\n",
        "    \"\"\"\n",
        "    return OPENAI_CLIENT.embeddings.create(\n",
        "        input=text, model=EMBEDDING_MODEL\n",
        "    ).data[0].embedding\n"
      ],
      "metadata": {
        "id": "u6uhuk9QO3AS"
      },
      "execution_count": 8,
      "outputs": []
    },
    {
      "cell_type": "markdown",
      "source": [
        "## Vanilla RAG"
      ],
      "metadata": {
        "id": "HrS9oFz2G-js"
      }
    },
    {
      "cell_type": "markdown",
      "source": [
        "For the Vanilla RAG we'll create a simple retriever that will use similarity search based on the query and return top N documents:  "
      ],
      "metadata": {
        "id": "u9CNN96_3O-q"
      }
    },
    {
      "cell_type": "code",
      "source": [
        "def simple_retriever(query: str, n=5):\n",
        "    \"\"\"\n",
        "    Retrieve documents based on the given query using similarity search\n",
        "\n",
        "    Args:\n",
        "        query (str): query to pass to the DB\n",
        "        n: Number of documents to retrieve\n",
        "\n",
        "    Returns:\n",
        "        List of the retrieved documents' texts\n",
        "    \"\"\"\n",
        "\n",
        "    query_embedding = get_embedding(query)\n",
        "\n",
        "    results = COLLECTION.find(sort={\"$vector\": query_embedding}, limit=n)\n",
        "    docs = [doc[\"content\"] for doc in results]\n",
        "\n",
        "    return  \"\\nRetrieved documents:\\n\" + \"\".join(\n",
        "            [\n",
        "                f\"\\n\\n===== Document {str(i)} =====\\n\" + doc\n",
        "                for i, doc in enumerate(docs)\n",
        "            ]\n",
        "        )"
      ],
      "metadata": {
        "id": "ueH7pqf4RfCE"
      },
      "execution_count": 18,
      "outputs": []
    },
    {
      "cell_type": "markdown",
      "source": [
        "Now, the whole RAG can be described in one simple function:"
      ],
      "metadata": {
        "id": "cp9HJQzL3f8O"
      }
    },
    {
      "cell_type": "code",
      "source": [
        "from typing import List\n",
        "def vanilla_rag(question: str):\n",
        "    \"\"\"\n",
        "    Generate an answer based on retrieved documents and user question.\n",
        "\n",
        "    Args:\n",
        "        question (str): User's input question\n",
        "    Returns:\n",
        "        LLM-generated answer\n",
        "    \"\"\"\n",
        "\n",
        "    prompt = (\n",
        "        \"You are an assistant that can answer user questions given provided context. \"\n",
        "        \"Provide a conversational answer. \"\n",
        "        \"If you don't know the answer, or no documents are provided, \"\n",
        "        \"say 'I do not have enough context to answer the question.'\"\n",
        "    )\n",
        "\n",
        "    # retrieve documents using the simple retriever, 5 documents by default\n",
        "    relevant_documents = simple_retriever(question)\n",
        "\n",
        "    # add user question and the docs to the prompt\n",
        "    augmented_prompt = (\n",
        "        f\"{prompt}\"\n",
        "        f\"User question: {question}\\n\\n\"\n",
        "        f\"Retrieved documents to use as context:\\n\\n {relevant_documents}\"\n",
        "    )\n",
        "\n",
        "    # pass everything to the LLM to generate an answer\n",
        "    response = OPENAI_CLIENT.chat.completions.create(\n",
        "        messages=[\n",
        "            {'role': 'system', 'content': 'You answer users questions.'},\n",
        "            {'role': 'user', 'content': augmented_prompt},\n",
        "        ],\n",
        "        model=GENERATION_MODEL,\n",
        "        temperature=0,\n",
        "    )\n",
        "\n",
        "    return response.choices[0].message.content\n"
      ],
      "metadata": {
        "id": "hebIF2EqS3eN"
      },
      "execution_count": 19,
      "outputs": []
    },
    {
      "cell_type": "markdown",
      "source": [
        "Let's try it out with a simple question:"
      ],
      "metadata": {
        "id": "lTWEkjZg3wmT"
      }
    },
    {
      "cell_type": "code",
      "source": [
        "question = \"What are Costco's merchandise categories?\"\n",
        "vanilla_rag(question)"
      ],
      "metadata": {
        "colab": {
          "base_uri": "https://localhost:8080/",
          "height": 71
        },
        "id": "H2cNHWlfUGWQ",
        "outputId": "c29644de-b2b3-4a86-d4a4-f8377e3b3e42"
      },
      "execution_count": 43,
      "outputs": [
        {
          "output_type": "execute_result",
          "data": {
            "text/plain": [
              "\"Costco's merchandise categories include Foods and Sundries, Non-Foods, Fresh Foods, Warehouse Ancillary, and Other Businesses. These categories encompass a wide range of products such as groceries, electronics, health and beauty items, furniture, apparel, and more. Additionally, they offer services like gasoline, pharmacy, optical, and travel to complement their core warehouse operations.\""
            ],
            "application/vnd.google.colaboratory.intrinsic+json": {
              "type": "string"
            }
          },
          "metadata": {},
          "execution_count": 43
        }
      ]
    },
    {
      "cell_type": "markdown",
      "source": [
        "This worked just fine, because an answer to this question is located in a single paragraph that can be reliably retrieved with similarity search. Now that you've seen how Vanilla RAG works, let's talk about what's different in Agentic RAG."
      ],
      "metadata": {
        "id": "pAi9RH-m31I7"
      }
    },
    {
      "cell_type": "markdown",
      "source": [
        "## Agentic RAG\n",
        "\n",
        "There are many definitions of what an \"AI agent\" is, for example:\n",
        "\n",
        "* \"An AI agent is meant to accomplish tasks typically provided by the users. In an AI agent, AI is the brain that processes the task, plans a sequence of actions to achieve this task, and determines whether the task has been accomplished.\" by Chip Huyen\n",
        "* \"AI Agents are programs where LLM outputs control the workflow.\" by Hugging Face smolagents team\n",
        "\n",
        "An Agent typically has access to Tools which help it get additional information and/or also perform actions. This can be a retriever, or a function to do Web search, a calculator, and image generator, and so on.\n",
        "\n",
        "Tools help the LLM agent overcome some of its limitations. For example, are retriever tool, just like in Vanilla RAG, can help get additional information, and a calculator might be a useful, since AI models aren't great at math.\n",
        "\n",
        "We'll build an agent that can rephrase a query if needed, call the same simple retriever as before as a tool, but it will have an option to call this tool more than once to retrieve additional information to improve the answer.\n",
        "Let's see how we can do this with `smolagents`:"
      ],
      "metadata": {
        "id": "sOQ1vbwW4LgG"
      }
    },
    {
      "cell_type": "markdown",
      "source": [
        "## Agentic RAG with `smolagents`\n"
      ],
      "metadata": {
        "id": "M3D4k9F-HAkZ"
      }
    },
    {
      "cell_type": "markdown",
      "source": [
        "First, we'll create a RetrieverTool class.\n",
        "\n",
        "At the core of the tool is a function that an LLM can use in an agentic system.\n",
        "However, to use this function, the LLM will need to be given its API:\n",
        "* `name`: the name of the tool to give the LLM\n",
        "* `description`: is used to populate the agent's system prompt to inform about the tool's capabilities.\n",
        "* `forward` method: the \"main\" function to be executed.\n",
        "* `inputs`: what imputs can be given to the tool\n",
        "\n",
        "\n",
        "Note, that here we take all of the same functions as before (`get_embedding` & `simple_retriever`), and simply wrap them into a RetrieverTool class to make the same simple retriever usable as a tool for the Agent."
      ],
      "metadata": {
        "id": "TnfSMzVo_cVV"
      }
    },
    {
      "cell_type": "code",
      "source": [
        "from smolagents import Tool\n",
        "\n",
        "class RetrieverTool(Tool):\n",
        "    name = \"retriever_tool\"\n",
        "    description = \"Uses semantic search to retrieve documents that could be relevant to answer the query.\"\n",
        "    inputs = {\n",
        "        \"query\": {\n",
        "            \"type\": \"string\",\n",
        "            \"description\": \"The query to perform. This should be semantically close to the target documents. Use the affirmative form rather than a question.\",\n",
        "        }\n",
        "    }\n",
        "    output_type = \"string\"\n",
        "\n",
        "    def __init__(self, collection, openai_client, **kwargs):\n",
        "        super().__init__(**kwargs)\n",
        "        self.retriever = collection\n",
        "        self.embedder = openai_client\n",
        "\n",
        "    def get_embedding(self, text: str):\n",
        "        return self.embedder.embeddings.create(\n",
        "            input=text, model=EMBEDDING_MODEL\n",
        "            ).data[0].embedding\n",
        "\n",
        "    def simple_retriever(self, query, n=5):\n",
        "      query_embedding = get_embedding(query)\n",
        "      results = self.retriever.find(sort={\"$vector\": query_embedding}, limit=n)\n",
        "      docs = [doc[\"content\"] for doc in results]\n",
        "      return \"\\nRetrieved documents:\\n\" + \"\".join(\n",
        "            [\n",
        "                f\"\\n\\n===== Document {str(i)} =====\\n\" + doc\n",
        "                for i, doc in enumerate(docs)\n",
        "            ]\n",
        "        )\n",
        "\n",
        "    def forward(self, query: str) -> str:\n",
        "        assert isinstance(query, str), \"Your search query must be a string\"\n",
        "\n",
        "        docs = simple_retriever(query)\n",
        "\n",
        "        return docs\n",
        "\n",
        "retriever_tool = RetrieverTool(COLLECTION, OPENAI_CLIENT)"
      ],
      "metadata": {
        "id": "XauH5jahHDwC"
      },
      "execution_count": 47,
      "outputs": []
    },
    {
      "cell_type": "markdown",
      "source": [
        "To create an Agent, we have two options:\n",
        "* `ToolCallingAgent`, it generates tool calls as a JSON under the hood.\n",
        "* `CodeAgent`, a new type of `ToolCallingAgent` that generates its tool calls as blobs of code, which works really well for LLMs that have strong coding performance.\n",
        "\n",
        "In this example, we're using a rather old fashioned LLM (`\"gpt-3.5-turbo-0125\"`), so this works better with `ToolCallingAgent`.\n",
        "\n",
        "smolagents allow you to use models from the Hugging Face, but also integrate with OpenAI and Antropic via `LiteLLMModel`."
      ],
      "metadata": {
        "id": "vMxIKPFcCRvd"
      }
    },
    {
      "cell_type": "code",
      "source": [
        "from smolagents import ToolCallingAgent, LiteLLMModel\n",
        "\n",
        "model = LiteLLMModel(model_id=GENERATION_MODEL)\n",
        "\n",
        "agent = ToolCallingAgent(tools=[retriever_tool], model=model, verbose=True)"
      ],
      "metadata": {
        "id": "UF9eIq2x-AFm"
      },
      "execution_count": 49,
      "outputs": []
    },
    {
      "cell_type": "markdown",
      "source": [
        "That's all it takes to set it up! Now let's compare how it performs compared to Vanilla RAG on some slightly trickier questions."
      ],
      "metadata": {
        "id": "D3mx9ZJrD-o7"
      }
    },
    {
      "cell_type": "markdown",
      "source": [
        "## Question 1: How do employee incentive plans differ between Chevron and Walmart?"
      ],
      "metadata": {
        "id": "NfWFy1Z9IKd7"
      }
    },
    {
      "cell_type": "code",
      "source": [
        "question = \"How do employee incentive plans differ between Chevron and Walmart?\""
      ],
      "metadata": {
        "id": "1JZVZskMIN0U"
      },
      "execution_count": 44,
      "outputs": []
    },
    {
      "cell_type": "markdown",
      "source": [
        "First, let's get an answer from Vanilla RAG:"
      ],
      "metadata": {
        "id": "CxA6ENA5FGzM"
      }
    },
    {
      "cell_type": "code",
      "source": [
        "vanilla_rag(question)"
      ],
      "metadata": {
        "colab": {
          "base_uri": "https://localhost:8080/",
          "height": 107
        },
        "id": "60abuddaCjn3",
        "outputId": "e26b7937-1ce0-4d87-d5eb-c749174ddba2"
      },
      "execution_count": 28,
      "outputs": [
        {
          "output_type": "execute_result",
          "data": {
            "text/plain": [
              "\"Employee incentive plans at Chevron and Walmart differ in their structure and focus. Walmart's incentive plan includes stock options, restricted stock, and other equity compensation awards to align associates' interests with shareholders. On the other hand, Chevron emphasizes attracting, developing, and retaining talent through long-term employment models, leadership development programs, and succession planning. While Walmart offers incentives like Deferred Compensation and Deferred Bonuses for continuous employment, Chevron focuses on inclusive leadership development programs and employee networks to foster a diverse and inclusive work environment. Both companies prioritize employee engagement and growth, but their incentive plans reflect their unique organizational strategies and values.\""
            ],
            "application/vnd.google.colaboratory.intrinsic+json": {
              "type": "string"
            }
          },
          "metadata": {},
          "execution_count": 28
        }
      ]
    },
    {
      "cell_type": "markdown",
      "source": [
        "Now, let's see what the Agent does and how it answers:"
      ],
      "metadata": {
        "id": "V35tmneyFKMS"
      }
    },
    {
      "cell_type": "code",
      "source": [
        "agent_output = agent.run(question)\n",
        "\n",
        "print(\"Final answer:\")\n",
        "print(agent_output)"
      ],
      "metadata": {
        "colab": {
          "base_uri": "https://localhost:8080/",
          "height": 1000
        },
        "id": "bv6KWO0Z_-hG",
        "outputId": "8c09a6cb-891e-4daf-a9b2-a2f7b4eb8c88"
      },
      "execution_count": 50,
      "outputs": [
        {
          "output_type": "display_data",
          "data": {
            "text/plain": [
              "\u001b[38;2;212;183;2m╭─\u001b[0m\u001b[38;2;212;183;2m─────────────────────────────────────────────────────────────────────────────────────────────\u001b[0m\u001b[38;2;212;183;2m \u001b[0m\u001b[1;38;2;212;183;2mNew run\u001b[0m\u001b[38;2;212;183;2m \u001b[0m\u001b[38;2;212;183;2m──────────────────────────────────────────────────────────────────────────────────────────────\u001b[0m\u001b[38;2;212;183;2m─╮\u001b[0m\n",
              "\u001b[38;2;212;183;2m│\u001b[0m                                                                                                                                                                                                      \u001b[38;2;212;183;2m│\u001b[0m\n",
              "\u001b[38;2;212;183;2m│\u001b[0m \u001b[1mHow do employee incentive plans differ between Chevron and Walmart?\u001b[0m                                                                                                                                  \u001b[38;2;212;183;2m│\u001b[0m\n",
              "\u001b[38;2;212;183;2m│\u001b[0m                                                                                                                                                                                                      \u001b[38;2;212;183;2m│\u001b[0m\n",
              "\u001b[38;2;212;183;2m╰─\u001b[0m\u001b[38;2;212;183;2m LiteLLMModel - gpt-3.5-turbo-0125 \u001b[0m\u001b[38;2;212;183;2m─────────────────────────────────────────────────────────────────────────────────────────────────────────────────────────────────────────────────────────────────\u001b[0m\u001b[38;2;212;183;2m─╯\u001b[0m\n"
            ],
            "text/html": [
              "<pre style=\"white-space:pre;overflow-x:auto;line-height:normal;font-family:Menlo,'DejaVu Sans Mono',consolas,'Courier New',monospace\"><span style=\"color: #d4b702; text-decoration-color: #d4b702\">╭────────────────────────────────────────────────────────────────────────────────────────────── </span><span style=\"color: #d4b702; text-decoration-color: #d4b702; font-weight: bold\">New run</span><span style=\"color: #d4b702; text-decoration-color: #d4b702\"> ───────────────────────────────────────────────────────────────────────────────────────────────╮</span>\n",
              "<span style=\"color: #d4b702; text-decoration-color: #d4b702\">│</span>                                                                                                                                                                                                      <span style=\"color: #d4b702; text-decoration-color: #d4b702\">│</span>\n",
              "<span style=\"color: #d4b702; text-decoration-color: #d4b702\">│</span> <span style=\"font-weight: bold\">How do employee incentive plans differ between Chevron and Walmart?</span>                                                                                                                                  <span style=\"color: #d4b702; text-decoration-color: #d4b702\">│</span>\n",
              "<span style=\"color: #d4b702; text-decoration-color: #d4b702\">│</span>                                                                                                                                                                                                      <span style=\"color: #d4b702; text-decoration-color: #d4b702\">│</span>\n",
              "<span style=\"color: #d4b702; text-decoration-color: #d4b702\">╰─ LiteLLMModel - gpt-3.5-turbo-0125 ──────────────────────────────────────────────────────────────────────────────────────────────────────────────────────────────────────────────────────────────────╯</span>\n",
              "</pre>\n"
            ]
          },
          "metadata": {}
        },
        {
          "output_type": "display_data",
          "data": {
            "text/plain": [
              "\u001b[38;2;212;183;2m━━━━━━━━━━━━━━━━━━━━━━━━━━━━━━━━━━━━━━━━━━━━━━━━━━━━━━━━━━━━━━━━━━━━━━━━━━━━━━━━━━━━━━━━━━━━━━━━ \u001b[0m\u001b[1mStep \u001b[0m\u001b[1;36m0\u001b[0m\u001b[38;2;212;183;2m ━━━━━━━━━━━━━━━━━━━━━━━━━━━━━━━━━━━━━━━━━━━━━━━━━━━━━━━━━━━━━━━━━━━━━━━━━━━━━━━━━━━━━━━━━━━━━━━━\u001b[0m\n"
            ],
            "text/html": [
              "<pre style=\"white-space:pre;overflow-x:auto;line-height:normal;font-family:Menlo,'DejaVu Sans Mono',consolas,'Courier New',monospace\"><span style=\"color: #d4b702; text-decoration-color: #d4b702\">━━━━━━━━━━━━━━━━━━━━━━━━━━━━━━━━━━━━━━━━━━━━━━━━━━━━━━━━━━━━━━━━━━━━━━━━━━━━━━━━━━━━━━━━━━━━━━━━ </span><span style=\"font-weight: bold\">Step </span><span style=\"color: #008080; text-decoration-color: #008080; font-weight: bold\">0</span><span style=\"color: #d4b702; text-decoration-color: #d4b702\"> ━━━━━━━━━━━━━━━━━━━━━━━━━━━━━━━━━━━━━━━━━━━━━━━━━━━━━━━━━━━━━━━━━━━━━━━━━━━━━━━━━━━━━━━━━━━━━━━━</span>\n",
              "</pre>\n"
            ]
          },
          "metadata": {}
        },
        {
          "output_type": "display_data",
          "data": {
            "text/plain": [
              "╭──────────────────────────────────────────────────────────────────────────────────────────────────────────────────────────────────────────────────────────────────────────────────────────────────────╮\n",
              "│ Calling tool: 'retriever_tool' with arguments: {'query': 'Employee incentive plans at Chevron'}                                                                                                      │\n",
              "╰──────────────────────────────────────────────────────────────────────────────────────────────────────────────────────────────────────────────────────────────────────────────────────────────────────╯\n"
            ],
            "text/html": [
              "<pre style=\"white-space:pre;overflow-x:auto;line-height:normal;font-family:Menlo,'DejaVu Sans Mono',consolas,'Courier New',monospace\">╭──────────────────────────────────────────────────────────────────────────────────────────────────────────────────────────────────────────────────────────────────────────────────────────────────────╮\n",
              "│ Calling tool: 'retriever_tool' with arguments: {'query': 'Employee incentive plans at Chevron'}                                                                                                      │\n",
              "╰──────────────────────────────────────────────────────────────────────────────────────────────────────────────────────────────────────────────────────────────────────────────────────────────────────╯\n",
              "</pre>\n"
            ]
          },
          "metadata": {}
        },
        {
          "output_type": "display_data",
          "data": {
            "text/plain": [
              "Observations: Retrieved documents:\n",
              "\n",
              "\n",
              "===== Document \u001b[1;36m0\u001b[0m =====\n",
              "Employee Savings Investment Plan\n",
              "\n",
              "Eligible employees of Chevron and certain of its subsidiaries participate in the Chevron Employee Savings Investment Plan \u001b[1m(\u001b[0mESIP\u001b[1m)\u001b[0m. Compensation expense for the ESIP totaled $\u001b[1;36m320\u001b[0m, $\u001b[1;36m283\u001b[0m and $\u001b[1;36m252\u001b[0m in \u001b[1;36m2023\u001b[0m,\n",
              "\u001b[1;36m2022\u001b[0m and \u001b[1;36m2021\u001b[0m, respectively.\n",
              "\n",
              "\u001b[1;36m96\u001b[0m\n",
              "\n",
              "Notes to the Consolidated Financial Statements Millions of dollars, except per-share amounts\n",
              "\n",
              "Financial Table of Contents\n",
              "\n",
              "Benefit Plan Trusts\n",
              "\n",
              "Prior to its acquisition by Chevron, Texaco established a benefit plan trust for funding obligations under some of its benefit plans. At year-end \u001b[1;36m2023\u001b[0m, the trust contained \u001b[1;36m14.2\u001b[0m million shares of \n",
              "Chevron treasury stock. The trust will sell the shares or use the dividends from the shares to pay benefits only to the extent that the company does not pay such benefits. The company intends to \n",
              "continue to pay its obligations under the benefit plans. The trustee will vote the shares held in the trust as instructed by the trust's beneficiaries. The shares held in the trust are not considered \n",
              "outstanding for earnings-per-share purposes until distributed or sold by the trust in payment of benefit obligations.\n",
              "\n",
              "Employee Incentive Plan\n",
              "\n",
              "The Chevron Incentive Plan is an annual cash bonus plan for eligible employees that links awards to corporate and individual performance in the prior year. Charges to expense for cash bonuses were \n",
              "$\u001b[1;36m809\u001b[0m, $\u001b[1;36m1\u001b[0m,\u001b[1;36m169\u001b[0m and $\u001b[1;36m1\u001b[0m,\u001b[1;36m165\u001b[0m in \u001b[1;36m2023\u001b[0m, \u001b[1;36m2022\u001b[0m and \u001b[1;36m2021\u001b[0m, respectively. Chevron also has the LTIP for officers and other regular salaried employees of the company and its subsidiaries who hold positions of \n",
              "significant responsibility. Awards under the LTIP consist of stock options and other share-based compensation that are described in Note \u001b[1;36m22\u001b[0m Stock Options and Other Share-Based Compensation.\n",
              "\n",
              "Note \u001b[1;36m24\u001b[0m\n",
              "\n",
              "Other Contingencies and Commitments\n",
              "\n",
              "===== Document \u001b[1;36m1\u001b[0m =====\n",
              "Cash received in payment for option exercises under all share-based payment arrangements for \u001b[1;36m2023\u001b[0m, \u001b[1;36m2022\u001b[0m and \u001b[1;36m2021\u001b[0m was $\u001b[1;36m263\u001b[0m, $\u001b[1;36m5\u001b[0m,\u001b[1;36m835\u001b[0m and $\u001b[1;36m1\u001b[0m,\u001b[1;36m274\u001b[0m, respectively. Actual tax benefits realized for the tax \n",
              "deductions from option exercises were $\u001b[1;36m20\u001b[0m, $\u001b[1;36m216\u001b[0m and $\u001b[1m(\u001b[0m\u001b[1;36m15\u001b[0m\u001b[1m)\u001b[0m for \u001b[1;36m2023\u001b[0m, \u001b[1;36m2022\u001b[0m and \u001b[1;36m2021\u001b[0m, respectively. Cash paid to settle performance shares, restricted stock units and stock appreciation rights was $\u001b[1;36m566\u001b[0m, \n",
              "$\u001b[1;36m556\u001b[0m and $\u001b[1;36m163\u001b[0m for \u001b[1;36m2023\u001b[0m, \u001b[1;36m2022\u001b[0m and \u001b[1;36m2021\u001b[0m, respectively. On May \u001b[1;36m25\u001b[0m, \u001b[1;36m2022\u001b[0m, stockholders approved the Chevron \u001b[1;36m2022\u001b[0m Long-Term Incentive Plan \u001b[1m(\u001b[0m\u001b[1;36m2022\u001b[0m LTIP\u001b[1m)\u001b[0m. Awards under the \u001b[1;36m2022\u001b[0m LTIP may take the form of, but \n",
              "are not limited to, stock options, restricted stock, restricted stock units, stock appreciation rights, performance shares and non-stock grants. From May \u001b[1;36m2022\u001b[0m through May \u001b[1;36m2032\u001b[0m, no more than \u001b[1;36m104\u001b[0m \n",
              "million shares may be issued under the \u001b[1;36m2022\u001b[0m LTIP. For awards issued on or after May \u001b[1;36m25\u001b[0m, \u001b[1;36m2022\u001b[0m, no more than \u001b[1;36m48\u001b[0m million of those shares may be issued in the form of full value awards such as \n",
              "share-settled restricted stock, share-settled restricted stock units and share-settled performance shares and other share-settled awards that do not require full payment in cash or property for shares\n",
              "underlying such awards by the award recipient. For the major types of awards issued before January \u001b[1;36m1\u001b[0m, \u001b[1;36m2017\u001b[0m, the contractual terms vary between three years for the performance shares and restricted \n",
              "stock units, and \u001b[1;36m10\u001b[0m years for the stock options and stock appreciation rights. For awards issued after January \u001b[1;36m1\u001b[0m, \u001b[1;36m2017\u001b[0m, contractual terms vary between three years for the performance shares and \n",
              "special restricted stock units, five years for standard restricted stock units and \u001b[1;36m10\u001b[0m years for the stock options and stock appreciation rights. Commencing for grants issued in January \u001b[1;36m2023\u001b[0m and after,\n",
              "standard restricted stock units vest ratably on an annual basis over a three-year period. Forfeitures of performance shares, restricted stock units, and stock appreciation rights are recognized as \n",
              "they occur. Forfeitures of stock options are estimated using historical\n",
              "\n",
              "===== Document \u001b[1;36m2\u001b[0m =====\n",
              "\u001b[1;36m10.7\u001b[0m+ Long-Term Incentive Plan of Chevron Corporation, amended and restated effective October \u001b[1;36m2\u001b[0m, \u001b[1;36m2023\u001b[0m, filed as Exhibit \u001b[1;36m10.5\u001b[0m to Chevron Corporation's Quarterly Report on Form \u001b[1;36m10\u001b[0m-Q for the quarter \n",
              "ended September \u001b[1;36m30\u001b[0m, \u001b[1;36m2023\u001b[0m, and incorporated herein by reference. \u001b[1;36m10.8\u001b[0m+ Form of Performance Share Award Agreement under the Long-Term Incentive Plan of Chevron Corporation, filed as Exhibit \u001b[1;36m10.1\u001b[0m to \n",
              "Chevron Corporation's Current Report on Form \u001b[1;36m8\u001b[0m-K filed February \u001b[1;36m1\u001b[0m, \u001b[1;36m2021\u001b[0m, and incorporated herein by reference. \u001b[1;36m10.9\u001b[0m+ Form of Performance Share Award Agreement under the Long-Term Incentive Plan of \n",
              "Chevron Corporation, filed as Exhibit \u001b[1;36m10.1\u001b[0m to Chevron Corporation's Current Report on Form \u001b[1;36m8\u001b[0m-K filed February \u001b[1;36m3\u001b[0m, \u001b[1;36m2020\u001b[0m, and incorporated herein by reference. \u001b[1;36m10.10\u001b[0m+ Form of Standard Restricted Stock \n",
              "Unit Award Agreement under the Long-Term Incentive Plan of Chevron Corporation, filed as Exhibit \u001b[1;36m10.3\u001b[0m to Chevron Corporation's Current Report on Form \u001b[1;36m8\u001b[0m-K filed February \u001b[1;36m3\u001b[0m, \u001b[1;36m2020\u001b[0m, and incorporated \n",
              "herein by reference.\n",
              "\n",
              "===== Document \u001b[1;36m3\u001b[0m =====\n",
              "Hiring, Development and Retention\n",
              "\n",
              "The company's approach to attracting, developing and retaining a global, diverse workforce of high-performing talent is anchored in a long-term employment model that fosters an environment of personal\n",
              "growth and engagement. The company's philosophy is to offer compelling career opportunities and a competitive total compensation and benefits package linked to individual and enterprise performance. \n",
              "The company recruits new employees in part through partnerships with universities and diversity associations. In addition, the company recruits experienced hires to provide specialized skills. \n",
              "Chevron's learning and development programs are designed to help employees achieve their full potential by building technical, operating and leadership capabilities. The company's leadership regularly\n",
              "reviews metrics on employee training and development programs, which are refined on an ongoing basis to meet the needs of our business. The company invests in developing leadership at every level, \n",
              "including coaching programs for frontline supervisors, managers and individual contributors. In addition, leadership regularly reviews the talent pipeline, identifies and develops succession \n",
              "candidates, and builds succession plans for key positions. The Board of Directors provides oversight of CEO and executive succession planning. Management routinely reviews the retention of its \n",
              "professional population, which includes executives, all levels of management, and the majority of its regular employee population. The voluntary attrition for this population in \u001b[1;36m2023\u001b[0m was \u001b[1;36m2.9\u001b[0m percent, \n",
              "a decrease from five-year historical rates. The voluntary attrition rate generally excludes employee departures under restructuring programs. Chevron believes its low voluntary attrition rate is in \n",
              "part a result of the company's commitment to employee development, its long-term employment model, competitive pay and benefits, and its culture.\n",
              "\n",
              "\u001b[1;36m4\u001b[0m\n",
              "\n",
              "Table of Contents\n",
              "\n",
              "Diversity and Inclusion\n",
              "\n",
              "===== Document \u001b[1;36m4\u001b[0m =====\n",
              "Exhibit No. Description \u001b[1;36m10.30\u001b[0m+ Form of Performance Share Award Agreement \u001b[1m(\u001b[0mcash settled\u001b[1m)\u001b[0m under the \u001b[1;36m2022\u001b[0m Long-Term Incentive Plan of Chevron Corporation, filed as Exhibit \u001b[1;36m10.2\u001b[0m to Chevron Corporation's \n",
              "Current Report on Form \u001b[1;36m8\u001b[0m-K filed February \u001b[1;36m2\u001b[0m, \u001b[1;36m2024\u001b[0m, and incorporated herein by reference. \u001b[1;36m10.31\u001b[0m+ Form of Standard Restricted Stock Unit Award Agreement \u001b[1m(\u001b[0mshare settled\u001b[1m)\u001b[0m under the \u001b[1;36m2022\u001b[0m Long-Term \n",
              "Incentive Plan of Chevron Corporation, filed as Exhibit \u001b[1;36m10.3\u001b[0m to Chevron Corporation's Current Report on Form \u001b[1;36m8\u001b[0m-K filed February \u001b[1;36m2\u001b[0m, \u001b[1;36m2024\u001b[0m, and incorporated herein by reference. \u001b[1;36m10.32\u001b[0m+ Form of Standard \n",
              "Restricted Stock Unit Award Agreement \u001b[1m(\u001b[0mcash settled\u001b[1m)\u001b[0m under the \u001b[1;36m2022\u001b[0m Long-Term Incentive Plan of Chevron Corporation, filed as Exhibit \u001b[1;36m10.4\u001b[0m to Chevron Corporation's Current Report on Form \u001b[1;36m8\u001b[0m-K filed \n",
              "February \u001b[1;36m2\u001b[0m, \u001b[1;36m2024\u001b[0m, and incorporated herein by reference. \u001b[1;36m10.33\u001b[0m+ Form of Special Restricted Stock Unit Award Agreement \u001b[1m(\u001b[0mshare settled\u001b[1m)\u001b[0m under the \u001b[1;36m2022\u001b[0m Long-Term Incentive Plan of Chevron Corporation, \n",
              "filed as Exhibit \u001b[1;36m10.5\u001b[0m to Chevron Corporation's Current Report on Form \u001b[1;36m8\u001b[0m-K filed February \u001b[1;36m2\u001b[0m, \u001b[1;36m2024\u001b[0m, and incorporated herein by reference. \u001b[1;36m10.34\u001b[0m+ Form of Special Restricted Stock Unit Award Agreement \n",
              "\u001b[1m(\u001b[0mcash settled\u001b[1m)\u001b[0m under the \u001b[1;36m2022\u001b[0m Long-Term Incentive Plan of Chevron Corporation, filed as Exhibit \u001b[1;36m10.6\u001b[0m to Chevron Corporation's Current Report on Form \u001b[1;36m8\u001b[0m-K filed February \u001b[1;36m2\u001b[0m, \u001b[1;36m2024\u001b[0m, and incorporated herein\n",
              "by reference. \u001b[1;36m10.35\u001b[0m+ Form of Non-Qualified Stock Options Award Agreement under the \u001b[1;36m2022\u001b[0m Long-Term Incentive Plan of Chevron Corporation, filed as Exhibit \u001b[1;36m10.7\u001b[0m to Chevron Corporation's Current Report \n",
              "on Form \u001b[1;36m8\u001b[0m-K filed February \u001b[1;36m2\u001b[0m, \u001b[1;36m2024\u001b[0m, and incorporated herein by reference.\n"
            ],
            "text/html": [
              "<pre style=\"white-space:pre;overflow-x:auto;line-height:normal;font-family:Menlo,'DejaVu Sans Mono',consolas,'Courier New',monospace\">Observations: Retrieved documents:\n",
              "\n",
              "\n",
              "===== Document <span style=\"color: #008080; text-decoration-color: #008080; font-weight: bold\">0</span> =====\n",
              "Employee Savings Investment Plan\n",
              "\n",
              "Eligible employees of Chevron and certain of its subsidiaries participate in the Chevron Employee Savings Investment Plan <span style=\"font-weight: bold\">(</span>ESIP<span style=\"font-weight: bold\">)</span>. Compensation expense for the ESIP totaled $<span style=\"color: #008080; text-decoration-color: #008080; font-weight: bold\">320</span>, $<span style=\"color: #008080; text-decoration-color: #008080; font-weight: bold\">283</span> and $<span style=\"color: #008080; text-decoration-color: #008080; font-weight: bold\">252</span> in <span style=\"color: #008080; text-decoration-color: #008080; font-weight: bold\">2023</span>,\n",
              "<span style=\"color: #008080; text-decoration-color: #008080; font-weight: bold\">2022</span> and <span style=\"color: #008080; text-decoration-color: #008080; font-weight: bold\">2021</span>, respectively.\n",
              "\n",
              "<span style=\"color: #008080; text-decoration-color: #008080; font-weight: bold\">96</span>\n",
              "\n",
              "Notes to the Consolidated Financial Statements Millions of dollars, except per-share amounts\n",
              "\n",
              "Financial Table of Contents\n",
              "\n",
              "Benefit Plan Trusts\n",
              "\n",
              "Prior to its acquisition by Chevron, Texaco established a benefit plan trust for funding obligations under some of its benefit plans. At year-end <span style=\"color: #008080; text-decoration-color: #008080; font-weight: bold\">2023</span>, the trust contained <span style=\"color: #008080; text-decoration-color: #008080; font-weight: bold\">14.2</span> million shares of \n",
              "Chevron treasury stock. The trust will sell the shares or use the dividends from the shares to pay benefits only to the extent that the company does not pay such benefits. The company intends to \n",
              "continue to pay its obligations under the benefit plans. The trustee will vote the shares held in the trust as instructed by the trust's beneficiaries. The shares held in the trust are not considered \n",
              "outstanding for earnings-per-share purposes until distributed or sold by the trust in payment of benefit obligations.\n",
              "\n",
              "Employee Incentive Plan\n",
              "\n",
              "The Chevron Incentive Plan is an annual cash bonus plan for eligible employees that links awards to corporate and individual performance in the prior year. Charges to expense for cash bonuses were \n",
              "$<span style=\"color: #008080; text-decoration-color: #008080; font-weight: bold\">809</span>, $<span style=\"color: #008080; text-decoration-color: #008080; font-weight: bold\">1</span>,<span style=\"color: #008080; text-decoration-color: #008080; font-weight: bold\">169</span> and $<span style=\"color: #008080; text-decoration-color: #008080; font-weight: bold\">1</span>,<span style=\"color: #008080; text-decoration-color: #008080; font-weight: bold\">165</span> in <span style=\"color: #008080; text-decoration-color: #008080; font-weight: bold\">2023</span>, <span style=\"color: #008080; text-decoration-color: #008080; font-weight: bold\">2022</span> and <span style=\"color: #008080; text-decoration-color: #008080; font-weight: bold\">2021</span>, respectively. Chevron also has the LTIP for officers and other regular salaried employees of the company and its subsidiaries who hold positions of \n",
              "significant responsibility. Awards under the LTIP consist of stock options and other share-based compensation that are described in Note <span style=\"color: #008080; text-decoration-color: #008080; font-weight: bold\">22</span> Stock Options and Other Share-Based Compensation.\n",
              "\n",
              "Note <span style=\"color: #008080; text-decoration-color: #008080; font-weight: bold\">24</span>\n",
              "\n",
              "Other Contingencies and Commitments\n",
              "\n",
              "===== Document <span style=\"color: #008080; text-decoration-color: #008080; font-weight: bold\">1</span> =====\n",
              "Cash received in payment for option exercises under all share-based payment arrangements for <span style=\"color: #008080; text-decoration-color: #008080; font-weight: bold\">2023</span>, <span style=\"color: #008080; text-decoration-color: #008080; font-weight: bold\">2022</span> and <span style=\"color: #008080; text-decoration-color: #008080; font-weight: bold\">2021</span> was $<span style=\"color: #008080; text-decoration-color: #008080; font-weight: bold\">263</span>, $<span style=\"color: #008080; text-decoration-color: #008080; font-weight: bold\">5</span>,<span style=\"color: #008080; text-decoration-color: #008080; font-weight: bold\">835</span> and $<span style=\"color: #008080; text-decoration-color: #008080; font-weight: bold\">1</span>,<span style=\"color: #008080; text-decoration-color: #008080; font-weight: bold\">274</span>, respectively. Actual tax benefits realized for the tax \n",
              "deductions from option exercises were $<span style=\"color: #008080; text-decoration-color: #008080; font-weight: bold\">20</span>, $<span style=\"color: #008080; text-decoration-color: #008080; font-weight: bold\">216</span> and $<span style=\"font-weight: bold\">(</span><span style=\"color: #008080; text-decoration-color: #008080; font-weight: bold\">15</span><span style=\"font-weight: bold\">)</span> for <span style=\"color: #008080; text-decoration-color: #008080; font-weight: bold\">2023</span>, <span style=\"color: #008080; text-decoration-color: #008080; font-weight: bold\">2022</span> and <span style=\"color: #008080; text-decoration-color: #008080; font-weight: bold\">2021</span>, respectively. Cash paid to settle performance shares, restricted stock units and stock appreciation rights was $<span style=\"color: #008080; text-decoration-color: #008080; font-weight: bold\">566</span>, \n",
              "$<span style=\"color: #008080; text-decoration-color: #008080; font-weight: bold\">556</span> and $<span style=\"color: #008080; text-decoration-color: #008080; font-weight: bold\">163</span> for <span style=\"color: #008080; text-decoration-color: #008080; font-weight: bold\">2023</span>, <span style=\"color: #008080; text-decoration-color: #008080; font-weight: bold\">2022</span> and <span style=\"color: #008080; text-decoration-color: #008080; font-weight: bold\">2021</span>, respectively. On May <span style=\"color: #008080; text-decoration-color: #008080; font-weight: bold\">25</span>, <span style=\"color: #008080; text-decoration-color: #008080; font-weight: bold\">2022</span>, stockholders approved the Chevron <span style=\"color: #008080; text-decoration-color: #008080; font-weight: bold\">2022</span> Long-Term Incentive Plan <span style=\"font-weight: bold\">(</span><span style=\"color: #008080; text-decoration-color: #008080; font-weight: bold\">2022</span> LTIP<span style=\"font-weight: bold\">)</span>. Awards under the <span style=\"color: #008080; text-decoration-color: #008080; font-weight: bold\">2022</span> LTIP may take the form of, but \n",
              "are not limited to, stock options, restricted stock, restricted stock units, stock appreciation rights, performance shares and non-stock grants. From May <span style=\"color: #008080; text-decoration-color: #008080; font-weight: bold\">2022</span> through May <span style=\"color: #008080; text-decoration-color: #008080; font-weight: bold\">2032</span>, no more than <span style=\"color: #008080; text-decoration-color: #008080; font-weight: bold\">104</span> \n",
              "million shares may be issued under the <span style=\"color: #008080; text-decoration-color: #008080; font-weight: bold\">2022</span> LTIP. For awards issued on or after May <span style=\"color: #008080; text-decoration-color: #008080; font-weight: bold\">25</span>, <span style=\"color: #008080; text-decoration-color: #008080; font-weight: bold\">2022</span>, no more than <span style=\"color: #008080; text-decoration-color: #008080; font-weight: bold\">48</span> million of those shares may be issued in the form of full value awards such as \n",
              "share-settled restricted stock, share-settled restricted stock units and share-settled performance shares and other share-settled awards that do not require full payment in cash or property for shares\n",
              "underlying such awards by the award recipient. For the major types of awards issued before January <span style=\"color: #008080; text-decoration-color: #008080; font-weight: bold\">1</span>, <span style=\"color: #008080; text-decoration-color: #008080; font-weight: bold\">2017</span>, the contractual terms vary between three years for the performance shares and restricted \n",
              "stock units, and <span style=\"color: #008080; text-decoration-color: #008080; font-weight: bold\">10</span> years for the stock options and stock appreciation rights. For awards issued after January <span style=\"color: #008080; text-decoration-color: #008080; font-weight: bold\">1</span>, <span style=\"color: #008080; text-decoration-color: #008080; font-weight: bold\">2017</span>, contractual terms vary between three years for the performance shares and \n",
              "special restricted stock units, five years for standard restricted stock units and <span style=\"color: #008080; text-decoration-color: #008080; font-weight: bold\">10</span> years for the stock options and stock appreciation rights. Commencing for grants issued in January <span style=\"color: #008080; text-decoration-color: #008080; font-weight: bold\">2023</span> and after,\n",
              "standard restricted stock units vest ratably on an annual basis over a three-year period. Forfeitures of performance shares, restricted stock units, and stock appreciation rights are recognized as \n",
              "they occur. Forfeitures of stock options are estimated using historical\n",
              "\n",
              "===== Document <span style=\"color: #008080; text-decoration-color: #008080; font-weight: bold\">2</span> =====\n",
              "<span style=\"color: #008080; text-decoration-color: #008080; font-weight: bold\">10.7</span>+ Long-Term Incentive Plan of Chevron Corporation, amended and restated effective October <span style=\"color: #008080; text-decoration-color: #008080; font-weight: bold\">2</span>, <span style=\"color: #008080; text-decoration-color: #008080; font-weight: bold\">2023</span>, filed as Exhibit <span style=\"color: #008080; text-decoration-color: #008080; font-weight: bold\">10.5</span> to Chevron Corporation's Quarterly Report on Form <span style=\"color: #008080; text-decoration-color: #008080; font-weight: bold\">10</span>-Q for the quarter \n",
              "ended September <span style=\"color: #008080; text-decoration-color: #008080; font-weight: bold\">30</span>, <span style=\"color: #008080; text-decoration-color: #008080; font-weight: bold\">2023</span>, and incorporated herein by reference. <span style=\"color: #008080; text-decoration-color: #008080; font-weight: bold\">10.8</span>+ Form of Performance Share Award Agreement under the Long-Term Incentive Plan of Chevron Corporation, filed as Exhibit <span style=\"color: #008080; text-decoration-color: #008080; font-weight: bold\">10.1</span> to \n",
              "Chevron Corporation's Current Report on Form <span style=\"color: #008080; text-decoration-color: #008080; font-weight: bold\">8</span>-K filed February <span style=\"color: #008080; text-decoration-color: #008080; font-weight: bold\">1</span>, <span style=\"color: #008080; text-decoration-color: #008080; font-weight: bold\">2021</span>, and incorporated herein by reference. <span style=\"color: #008080; text-decoration-color: #008080; font-weight: bold\">10.9</span>+ Form of Performance Share Award Agreement under the Long-Term Incentive Plan of \n",
              "Chevron Corporation, filed as Exhibit <span style=\"color: #008080; text-decoration-color: #008080; font-weight: bold\">10.1</span> to Chevron Corporation's Current Report on Form <span style=\"color: #008080; text-decoration-color: #008080; font-weight: bold\">8</span>-K filed February <span style=\"color: #008080; text-decoration-color: #008080; font-weight: bold\">3</span>, <span style=\"color: #008080; text-decoration-color: #008080; font-weight: bold\">2020</span>, and incorporated herein by reference. <span style=\"color: #008080; text-decoration-color: #008080; font-weight: bold\">10.10</span>+ Form of Standard Restricted Stock \n",
              "Unit Award Agreement under the Long-Term Incentive Plan of Chevron Corporation, filed as Exhibit <span style=\"color: #008080; text-decoration-color: #008080; font-weight: bold\">10.3</span> to Chevron Corporation's Current Report on Form <span style=\"color: #008080; text-decoration-color: #008080; font-weight: bold\">8</span>-K filed February <span style=\"color: #008080; text-decoration-color: #008080; font-weight: bold\">3</span>, <span style=\"color: #008080; text-decoration-color: #008080; font-weight: bold\">2020</span>, and incorporated \n",
              "herein by reference.\n",
              "\n",
              "===== Document <span style=\"color: #008080; text-decoration-color: #008080; font-weight: bold\">3</span> =====\n",
              "Hiring, Development and Retention\n",
              "\n",
              "The company's approach to attracting, developing and retaining a global, diverse workforce of high-performing talent is anchored in a long-term employment model that fosters an environment of personal\n",
              "growth and engagement. The company's philosophy is to offer compelling career opportunities and a competitive total compensation and benefits package linked to individual and enterprise performance. \n",
              "The company recruits new employees in part through partnerships with universities and diversity associations. In addition, the company recruits experienced hires to provide specialized skills. \n",
              "Chevron's learning and development programs are designed to help employees achieve their full potential by building technical, operating and leadership capabilities. The company's leadership regularly\n",
              "reviews metrics on employee training and development programs, which are refined on an ongoing basis to meet the needs of our business. The company invests in developing leadership at every level, \n",
              "including coaching programs for frontline supervisors, managers and individual contributors. In addition, leadership regularly reviews the talent pipeline, identifies and develops succession \n",
              "candidates, and builds succession plans for key positions. The Board of Directors provides oversight of CEO and executive succession planning. Management routinely reviews the retention of its \n",
              "professional population, which includes executives, all levels of management, and the majority of its regular employee population. The voluntary attrition for this population in <span style=\"color: #008080; text-decoration-color: #008080; font-weight: bold\">2023</span> was <span style=\"color: #008080; text-decoration-color: #008080; font-weight: bold\">2.9</span> percent, \n",
              "a decrease from five-year historical rates. The voluntary attrition rate generally excludes employee departures under restructuring programs. Chevron believes its low voluntary attrition rate is in \n",
              "part a result of the company's commitment to employee development, its long-term employment model, competitive pay and benefits, and its culture.\n",
              "\n",
              "<span style=\"color: #008080; text-decoration-color: #008080; font-weight: bold\">4</span>\n",
              "\n",
              "Table of Contents\n",
              "\n",
              "Diversity and Inclusion\n",
              "\n",
              "===== Document <span style=\"color: #008080; text-decoration-color: #008080; font-weight: bold\">4</span> =====\n",
              "Exhibit No. Description <span style=\"color: #008080; text-decoration-color: #008080; font-weight: bold\">10.30</span>+ Form of Performance Share Award Agreement <span style=\"font-weight: bold\">(</span>cash settled<span style=\"font-weight: bold\">)</span> under the <span style=\"color: #008080; text-decoration-color: #008080; font-weight: bold\">2022</span> Long-Term Incentive Plan of Chevron Corporation, filed as Exhibit <span style=\"color: #008080; text-decoration-color: #008080; font-weight: bold\">10.2</span> to Chevron Corporation's \n",
              "Current Report on Form <span style=\"color: #008080; text-decoration-color: #008080; font-weight: bold\">8</span>-K filed February <span style=\"color: #008080; text-decoration-color: #008080; font-weight: bold\">2</span>, <span style=\"color: #008080; text-decoration-color: #008080; font-weight: bold\">2024</span>, and incorporated herein by reference. <span style=\"color: #008080; text-decoration-color: #008080; font-weight: bold\">10.31</span>+ Form of Standard Restricted Stock Unit Award Agreement <span style=\"font-weight: bold\">(</span>share settled<span style=\"font-weight: bold\">)</span> under the <span style=\"color: #008080; text-decoration-color: #008080; font-weight: bold\">2022</span> Long-Term \n",
              "Incentive Plan of Chevron Corporation, filed as Exhibit <span style=\"color: #008080; text-decoration-color: #008080; font-weight: bold\">10.3</span> to Chevron Corporation's Current Report on Form <span style=\"color: #008080; text-decoration-color: #008080; font-weight: bold\">8</span>-K filed February <span style=\"color: #008080; text-decoration-color: #008080; font-weight: bold\">2</span>, <span style=\"color: #008080; text-decoration-color: #008080; font-weight: bold\">2024</span>, and incorporated herein by reference. <span style=\"color: #008080; text-decoration-color: #008080; font-weight: bold\">10.32</span>+ Form of Standard \n",
              "Restricted Stock Unit Award Agreement <span style=\"font-weight: bold\">(</span>cash settled<span style=\"font-weight: bold\">)</span> under the <span style=\"color: #008080; text-decoration-color: #008080; font-weight: bold\">2022</span> Long-Term Incentive Plan of Chevron Corporation, filed as Exhibit <span style=\"color: #008080; text-decoration-color: #008080; font-weight: bold\">10.4</span> to Chevron Corporation's Current Report on Form <span style=\"color: #008080; text-decoration-color: #008080; font-weight: bold\">8</span>-K filed \n",
              "February <span style=\"color: #008080; text-decoration-color: #008080; font-weight: bold\">2</span>, <span style=\"color: #008080; text-decoration-color: #008080; font-weight: bold\">2024</span>, and incorporated herein by reference. <span style=\"color: #008080; text-decoration-color: #008080; font-weight: bold\">10.33</span>+ Form of Special Restricted Stock Unit Award Agreement <span style=\"font-weight: bold\">(</span>share settled<span style=\"font-weight: bold\">)</span> under the <span style=\"color: #008080; text-decoration-color: #008080; font-weight: bold\">2022</span> Long-Term Incentive Plan of Chevron Corporation, \n",
              "filed as Exhibit <span style=\"color: #008080; text-decoration-color: #008080; font-weight: bold\">10.5</span> to Chevron Corporation's Current Report on Form <span style=\"color: #008080; text-decoration-color: #008080; font-weight: bold\">8</span>-K filed February <span style=\"color: #008080; text-decoration-color: #008080; font-weight: bold\">2</span>, <span style=\"color: #008080; text-decoration-color: #008080; font-weight: bold\">2024</span>, and incorporated herein by reference. <span style=\"color: #008080; text-decoration-color: #008080; font-weight: bold\">10.34</span>+ Form of Special Restricted Stock Unit Award Agreement \n",
              "<span style=\"font-weight: bold\">(</span>cash settled<span style=\"font-weight: bold\">)</span> under the <span style=\"color: #008080; text-decoration-color: #008080; font-weight: bold\">2022</span> Long-Term Incentive Plan of Chevron Corporation, filed as Exhibit <span style=\"color: #008080; text-decoration-color: #008080; font-weight: bold\">10.6</span> to Chevron Corporation's Current Report on Form <span style=\"color: #008080; text-decoration-color: #008080; font-weight: bold\">8</span>-K filed February <span style=\"color: #008080; text-decoration-color: #008080; font-weight: bold\">2</span>, <span style=\"color: #008080; text-decoration-color: #008080; font-weight: bold\">2024</span>, and incorporated herein\n",
              "by reference. <span style=\"color: #008080; text-decoration-color: #008080; font-weight: bold\">10.35</span>+ Form of Non-Qualified Stock Options Award Agreement under the <span style=\"color: #008080; text-decoration-color: #008080; font-weight: bold\">2022</span> Long-Term Incentive Plan of Chevron Corporation, filed as Exhibit <span style=\"color: #008080; text-decoration-color: #008080; font-weight: bold\">10.7</span> to Chevron Corporation's Current Report \n",
              "on Form <span style=\"color: #008080; text-decoration-color: #008080; font-weight: bold\">8</span>-K filed February <span style=\"color: #008080; text-decoration-color: #008080; font-weight: bold\">2</span>, <span style=\"color: #008080; text-decoration-color: #008080; font-weight: bold\">2024</span>, and incorporated herein by reference.\n",
              "</pre>\n"
            ]
          },
          "metadata": {}
        },
        {
          "output_type": "display_data",
          "data": {
            "text/plain": [
              "\u001b[2m[Step 0: Duration 1.64 seconds| Input tokens: 1,041 | Output tokens: 20]\u001b[0m\n"
            ],
            "text/html": [
              "<pre style=\"white-space:pre;overflow-x:auto;line-height:normal;font-family:Menlo,'DejaVu Sans Mono',consolas,'Courier New',monospace\"><span style=\"color: #7f7f7f; text-decoration-color: #7f7f7f\">[Step 0: Duration 1.64 seconds| Input tokens: 1,041 | Output tokens: 20]</span>\n",
              "</pre>\n"
            ]
          },
          "metadata": {}
        },
        {
          "output_type": "display_data",
          "data": {
            "text/plain": [
              "\u001b[38;2;212;183;2m━━━━━━━━━━━━━━━━━━━━━━━━━━━━━━━━━━━━━━━━━━━━━━━━━━━━━━━━━━━━━━━━━━━━━━━━━━━━━━━━━━━━━━━━━━━━━━━━ \u001b[0m\u001b[1mStep \u001b[0m\u001b[1;36m1\u001b[0m\u001b[38;2;212;183;2m ━━━━━━━━━━━━━━━━━━━━━━━━━━━━━━━━━━━━━━━━━━━━━━━━━━━━━━━━━━━━━━━━━━━━━━━━━━━━━━━━━━━━━━━━━━━━━━━━\u001b[0m\n"
            ],
            "text/html": [
              "<pre style=\"white-space:pre;overflow-x:auto;line-height:normal;font-family:Menlo,'DejaVu Sans Mono',consolas,'Courier New',monospace\"><span style=\"color: #d4b702; text-decoration-color: #d4b702\">━━━━━━━━━━━━━━━━━━━━━━━━━━━━━━━━━━━━━━━━━━━━━━━━━━━━━━━━━━━━━━━━━━━━━━━━━━━━━━━━━━━━━━━━━━━━━━━━ </span><span style=\"font-weight: bold\">Step </span><span style=\"color: #008080; text-decoration-color: #008080; font-weight: bold\">1</span><span style=\"color: #d4b702; text-decoration-color: #d4b702\"> ━━━━━━━━━━━━━━━━━━━━━━━━━━━━━━━━━━━━━━━━━━━━━━━━━━━━━━━━━━━━━━━━━━━━━━━━━━━━━━━━━━━━━━━━━━━━━━━━</span>\n",
              "</pre>\n"
            ]
          },
          "metadata": {}
        },
        {
          "output_type": "display_data",
          "data": {
            "text/plain": [
              "╭──────────────────────────────────────────────────────────────────────────────────────────────────────────────────────────────────────────────────────────────────────────────────────────────────────╮\n",
              "│ Calling tool: 'retriever_tool' with arguments: {'query': 'Employee incentive plans at Walmart'}                                                                                                      │\n",
              "╰──────────────────────────────────────────────────────────────────────────────────────────────────────────────────────────────────────────────────────────────────────────────────────────────────────╯\n"
            ],
            "text/html": [
              "<pre style=\"white-space:pre;overflow-x:auto;line-height:normal;font-family:Menlo,'DejaVu Sans Mono',consolas,'Courier New',monospace\">╭──────────────────────────────────────────────────────────────────────────────────────────────────────────────────────────────────────────────────────────────────────────────────────────────────────╮\n",
              "│ Calling tool: 'retriever_tool' with arguments: {'query': 'Employee incentive plans at Walmart'}                                                                                                      │\n",
              "╰──────────────────────────────────────────────────────────────────────────────────────────────────────────────────────────────────────────────────────────────────────────────────────────────────────╯\n",
              "</pre>\n"
            ]
          },
          "metadata": {}
        },
        {
          "output_type": "display_data",
          "data": {
            "text/plain": [
              "Observations: Retrieved documents:\n",
              "\n",
              "\n",
              "===== Document \u001b[1;36m0\u001b[0m =====\n",
              "The Walmart Inc. Stock Incentive Plan of \u001b[1;36m2015\u001b[0m \u001b[1m(\u001b[0mthe \u001b[32m\"Plan\"\u001b[0m\u001b[1m)\u001b[0m, as subsequently amended and restated, was established to grant stock options, restricted \u001b[1m(\u001b[0mnon-vested\u001b[1m)\u001b[0m stock, restricted stock units, \n",
              "performance share units and other equity compensation\n",
              "\n",
              "\u001b[1;36m65\u001b[0m\n",
              "\n",
              "awards for which \u001b[1;36m260\u001b[0m million shares of Walmart common stock issued or to be issued under the Plan have been registered under the Securities Act of \u001b[1;36m1933\u001b[0m. The Company believes that such awards serve to \n",
              "align the interests of its associates with those of its shareholders. The Plan's award types are summarized as follows:\n",
              "\n",
              "===== Document \u001b[1;36m1\u001b[0m =====\n",
              "day of the first Plan Year in which the Participant had a Deferred Compensation or Deferred Bonus election in effect under this Plan or a Prior Agreement, and ending with the last day of the fifteenth\n",
              "\u001b[1m(\u001b[0m15th\u001b[1m)\u001b[0m Plan Year of such period, an Incentive Payment will be credited to the Participant's Account as of the last day of such fifteenth \u001b[1m(\u001b[0m15th\u001b[1m)\u001b[0m Plan Year. The Incentive Payment will be equal to ten \n",
              "percent \u001b[1m(\u001b[0m\u001b[1;36m10\u001b[0m%\u001b[1m)\u001b[0m of the Participant's recognized Deferred Compensation and Deferred Bonuses for fifteen \u001b[1m(\u001b[0m\u001b[1;36m15\u001b[0m\u001b[1m)\u001b[0m, but not less than ten \u001b[1m(\u001b[0m\u001b[1;36m10\u001b[0m\u001b[1m)\u001b[0m, Plan Years \u001b[1m(\u001b[0mi.e., the first six \u001b[1m(\u001b[0m\u001b[1;36m6\u001b[0m\u001b[1m)\u001b[0m Plan Years of such fifteen \n",
              "\u001b[1m(\u001b[0m\u001b[1;36m15\u001b[0m\u001b[1m)\u001b[0m-year period\u001b[1m)\u001b[0m, plus credited Plan earnings thereon through the award date. For each full Plan Year thereafter in which the Participant remains continuously employed with Walmart or any Employer, \n",
              "an Incentive Payment will be credited to the Participant's Account as of the last day of such Plan Year. Such Incentive Payment will be equal to ten percent \u001b[1m(\u001b[0m\u001b[1;36m10\u001b[0m%\u001b[1m)\u001b[0m of the Participant's recognized \n",
              "Deferred Compensation and Deferred Bonuses for the first Plan Year of the ten \u001b[1m(\u001b[0m\u001b[1;36m10\u001b[0m\u001b[1m)\u001b[0m-consecutive Plan Year period ending on the award date, plus credited Plan earnings thereon through the award date. \n",
              "The Incentive Payments provided in this Section \u001b[1;35m4.2\u001b[0m\u001b[1m(\u001b[0md\u001b[1m)\u001b[0m shall not take into account Incentive Payments credited under Section \u001b[1;35m4.2\u001b[0m\u001b[1m(\u001b[0mc\u001b[1m)\u001b[0m or credited Plan earnings thereon.\n",
              "\n",
              "===== Document \u001b[1;36m2\u001b[0m =====\n",
              "Year of February \u001b[1;36m1\u001b[0m, \u001b[1;36m1996\u001b[0m - March \u001b[1;36m31\u001b[0m, \u001b[1;36m1997\u001b[0m\u001b[1m)\u001b[0m. Credited Plan earnings on such nonrecognized Deferred Compensation or Deferred Bonuses are likewise not taken into account in determining the amount of an \n",
              "Incentive Payment. \u001b[1m(\u001b[0mc\u001b[1m)\u001b[0m If a Participant remains continuously employed with Walmart or its Related Affiliates for a period of ten \u001b[1m(\u001b[0m\u001b[1;36m10\u001b[0m\u001b[1m)\u001b[0m consecutive full Plan Years, beginning with the first day of the \n",
              "first Plan Year in which the Participant had a Deferred Compensation or Deferred Bonus election in effect under this Plan or a Prior Agreement, and ending with the last day of the tenth \u001b[1m(\u001b[0m10th\u001b[1m)\u001b[0m Plan \n",
              "Year of such period, an Incentive Payment will be credited to the Participant's Grandfathered Account as of the last day of such tenth Plan Year. The Incentive Payment will be equal to twenty percent \n",
              "\u001b[1m(\u001b[0m\u001b[1;36m20\u001b[0m%\u001b[1m)\u001b[0m of the Participant's recognized Deferred Compensation and Deferred Bonuses for ten \u001b[1m(\u001b[0m\u001b[1;36m10\u001b[0m\u001b[1m)\u001b[0m, but not less than five \u001b[1m(\u001b[0m\u001b[1;36m5\u001b[0m\u001b[1m)\u001b[0m, Plan Years \u001b[1m(\u001b[0mi.e., the first six \u001b[1m(\u001b[0m\u001b[1;36m6\u001b[0m\u001b[1m)\u001b[0m Plan Years of such ten \u001b[1m(\u001b[0m\u001b[1;36m10\u001b[0m\u001b[1m)\u001b[0m-year period\u001b[1m)\u001b[0m,\n",
              "plus credited Plan earnings thereon through the award date. For each full Plan Year thereafter in which the Participant remains continuously employed with Walmart or its Related Affiliates, an \n",
              "Incentive Payment will be credited to the Participant's Grandfathered Account as of the last day of such Plan Year. Such Incentive Payment will be equal to twenty percent \u001b[1m(\u001b[0m\u001b[1;36m20\u001b[0m%\u001b[1m)\u001b[0m of the Participant's \n",
              "recognized Deferred Compensation and Deferred Bonuses for the first Plan Year of the five \u001b[1m(\u001b[0m\u001b[1;36m5\u001b[0m\u001b[1m)\u001b[0m-consecutive Plan Year period ending on the award date, plus credited Plan earnings thereon through the \n",
              "award date. \u001b[1m(\u001b[0md\u001b[1m)\u001b[0m If a Participant remains continuously employed with Walmart or its Related Affiliates for a period of fifteen \u001b[1m(\u001b[0m\u001b[1;36m15\u001b[0m\u001b[1m)\u001b[0m consecutive full Plan Years, beginning with the first day of the \n",
              "first Plan Year in which the Participant had a Deferred Compensation or Deferred Bonuses election in effect under this Plan or a Prior Agreement, and ending with the last day of the fifteenth \u001b[1m(\u001b[0m15th\u001b[1m)\u001b[0m \n",
              "Plan Year of such period, an Incentive Payment will be credited to\n",
              "\n",
              "===== Document \u001b[1;36m3\u001b[0m =====\n",
              "Year. Credited Plan earnings on such nonrecognized Deferred Compensation or Deferred Bonuses are likewise not taken into account in determining the amount of an Incentive Payment. Further, in no event\n",
              "shall Deferred Special Bonuses, Deferred Retention Bonuses, Deferred Equity or any Employer Contribution Credits be taken into account in determining the amount of an Incentive Payment. \u001b[1m(\u001b[0mc\u001b[1m)\u001b[0m If a \n",
              "Participant remains continuously employed with Walmart or any Employer for a period of ten \u001b[1m(\u001b[0m\u001b[1;36m10\u001b[0m\u001b[1m)\u001b[0m consecutive full Plan Years, beginning with the first day of the first Plan Year in which the \n",
              "Participant had a Deferred Compensation or Deferred Bonus election in effect under this Plan or a Prior Agreement, and ending with the last day of the tenth \u001b[1m(\u001b[0m10th\u001b[1m)\u001b[0m Plan Year of such period, an \n",
              "Incentive Payment will be credited to the Participant's Account as of the last day of such tenth \u001b[1m(\u001b[0m10th\u001b[1m)\u001b[0m Plan Year. The Incentive Payment will be equal to twenty percent \u001b[1m(\u001b[0m\u001b[1;36m20\u001b[0m%\u001b[1m)\u001b[0m of the Participant's \n",
              "recognized Deferred Compensation and Deferred Bonuses for ten \u001b[1m(\u001b[0m\u001b[1;36m10\u001b[0m\u001b[1m)\u001b[0m, but not less than five \u001b[1m(\u001b[0m\u001b[1;36m5\u001b[0m\u001b[1m)\u001b[0m, Plan Years \u001b[1m(\u001b[0mi.e., the first six \u001b[1m(\u001b[0m\u001b[1;36m6\u001b[0m\u001b[1m)\u001b[0m Plan Years of such ten \u001b[1m(\u001b[0m\u001b[1;36m10\u001b[0m\u001b[1m)\u001b[0m-year period\u001b[1m)\u001b[0m, plus credited Plan \n",
              "earnings thereon through the award date. For each full Plan Year thereafter in which the Participant remains continuously employed with Walmart or any Employer, an Incentive Payment will be credited \n",
              "to the Participant's Account as of the last day of such Plan Year. Such Incentive Payment will be equal to twenty percent \u001b[1m(\u001b[0m\u001b[1;36m20\u001b[0m%\u001b[1m)\u001b[0m of the Participant's recognized Deferred Compensation and Deferred \n",
              "Bonuses for the first Plan Year of the five \u001b[1m(\u001b[0m\u001b[1;36m5\u001b[0m\u001b[1m)\u001b[0m-consecutive Plan Year period ending on the award date, plus credited Plan earnings thereon through the award date. \u001b[1m(\u001b[0md\u001b[1m)\u001b[0m If a Participant remains \n",
              "continuously employed with Walmart or any Employer for a period of fifteen \u001b[1m(\u001b[0m\u001b[1;36m15\u001b[0m\u001b[1m)\u001b[0m consecutive full Plan Years, beginning with the first day of the first Plan Year in which the Participant had a Deferred\n",
              "Compensation or Deferred Bonus election in effect under this Plan or a Prior Agreement, and\n",
              "\n",
              "===== Document \u001b[1;36m4\u001b[0m =====\n",
              "t under this Plan or a Prior Agreement, and ending with the last day of the fifteenth \u001b[1m(\u001b[0m15th\u001b[1m)\u001b[0m Plan Year of such period, an Incentive Payment will be credited to the Participant's Grandfathered Account \n",
              "as of the last day of such fifteenth \u001b[1m(\u001b[0m15th\u001b[1m)\u001b[0m Plan Year. The Incentive Payment will be equal to ten percent \u001b[1m(\u001b[0m\u001b[1;36m10\u001b[0m%\u001b[1m)\u001b[0m of the Participant's recognized Deferred Compensation and Deferred Bonuses for fifteen \n",
              "\u001b[1m(\u001b[0m\u001b[1;36m15\u001b[0m\u001b[1m)\u001b[0m, but not less than ten \u001b[1m(\u001b[0m\u001b[1;36m10\u001b[0m\u001b[1m)\u001b[0m, Plan Years \u001b[1m(\u001b[0mi.e., the first six \u001b[1m(\u001b[0m\u001b[1;36m6\u001b[0m\u001b[1m)\u001b[0m Plan Years of such fifteen \u001b[1m(\u001b[0m\u001b[1;36m15\u001b[0m\u001b[1m)\u001b[0m-year period\u001b[1m)\u001b[0m, plus credited Plan earnings thereon through the award date. For each full Plan Year \n",
              "thereafter in which the Participant remains continuously employed with Walmart or its Related Affiliates, an Incentive Payment will be credited to the Participant's Grandfathered Account as of the \n",
              "last day of such Plan Year. Such Incentive Payment will be equal to ten percent \u001b[1m(\u001b[0m\u001b[1;36m10\u001b[0m%\u001b[1m)\u001b[0m of the Participant's recognized Deferred Compensation and Deferred Bonuses for the first Plan Year of a ten \n",
              "\u001b[1m(\u001b[0m\u001b[1;36m10\u001b[0m\u001b[1m)\u001b[0m-consecutive Plan Year period ending on the award date, plus credited Plan earnings thereon through the award date. The Incentive Payments provided in this Section \u001b[1;35m4.2\u001b[0m\u001b[1m(\u001b[0md\u001b[1m)\u001b[0m shall not take into \n",
              "account Incentive Payments credited under Section \u001b[1;35m4.2\u001b[0m\u001b[1m(\u001b[0mc\u001b[1m)\u001b[0m or credited Plan earnings thereon. \u001b[1m(\u001b[0me\u001b[1m)\u001b[0m The Incentive Payments provided in this Section \u001b[1;35m4.2\u001b[0m\u001b[1m(\u001b[0me\u001b[1m)\u001b[0m only apply if a Participant has been a \n",
              "Participant under the Plan \u001b[1m(\u001b[0mor a Prior Agreement\u001b[1m)\u001b[0m for five \u001b[1m(\u001b[0m\u001b[1;36m5\u001b[0m\u001b[1m)\u001b[0m or more full Plan Years and if the Participant incurs a Retirement, Early Retirement, death or Disability before satisfaction of the ten \n",
              "\u001b[1m(\u001b[0m\u001b[1;36m10\u001b[0m\u001b[1m)\u001b[0m- or fifteen \u001b[1m(\u001b[0m\u001b[1;36m15\u001b[0m\u001b[1m)\u001b[0m-year periods\n"
            ],
            "text/html": [
              "<pre style=\"white-space:pre;overflow-x:auto;line-height:normal;font-family:Menlo,'DejaVu Sans Mono',consolas,'Courier New',monospace\">Observations: Retrieved documents:\n",
              "\n",
              "\n",
              "===== Document <span style=\"color: #008080; text-decoration-color: #008080; font-weight: bold\">0</span> =====\n",
              "The Walmart Inc. Stock Incentive Plan of <span style=\"color: #008080; text-decoration-color: #008080; font-weight: bold\">2015</span> <span style=\"font-weight: bold\">(</span>the <span style=\"color: #008000; text-decoration-color: #008000\">\"Plan\"</span><span style=\"font-weight: bold\">)</span>, as subsequently amended and restated, was established to grant stock options, restricted <span style=\"font-weight: bold\">(</span>non-vested<span style=\"font-weight: bold\">)</span> stock, restricted stock units, \n",
              "performance share units and other equity compensation\n",
              "\n",
              "<span style=\"color: #008080; text-decoration-color: #008080; font-weight: bold\">65</span>\n",
              "\n",
              "awards for which <span style=\"color: #008080; text-decoration-color: #008080; font-weight: bold\">260</span> million shares of Walmart common stock issued or to be issued under the Plan have been registered under the Securities Act of <span style=\"color: #008080; text-decoration-color: #008080; font-weight: bold\">1933</span>. The Company believes that such awards serve to \n",
              "align the interests of its associates with those of its shareholders. The Plan's award types are summarized as follows:\n",
              "\n",
              "===== Document <span style=\"color: #008080; text-decoration-color: #008080; font-weight: bold\">1</span> =====\n",
              "day of the first Plan Year in which the Participant had a Deferred Compensation or Deferred Bonus election in effect under this Plan or a Prior Agreement, and ending with the last day of the fifteenth\n",
              "<span style=\"font-weight: bold\">(</span>15th<span style=\"font-weight: bold\">)</span> Plan Year of such period, an Incentive Payment will be credited to the Participant's Account as of the last day of such fifteenth <span style=\"font-weight: bold\">(</span>15th<span style=\"font-weight: bold\">)</span> Plan Year. The Incentive Payment will be equal to ten \n",
              "percent <span style=\"font-weight: bold\">(</span><span style=\"color: #008080; text-decoration-color: #008080; font-weight: bold\">10</span>%<span style=\"font-weight: bold\">)</span> of the Participant's recognized Deferred Compensation and Deferred Bonuses for fifteen <span style=\"font-weight: bold\">(</span><span style=\"color: #008080; text-decoration-color: #008080; font-weight: bold\">15</span><span style=\"font-weight: bold\">)</span>, but not less than ten <span style=\"font-weight: bold\">(</span><span style=\"color: #008080; text-decoration-color: #008080; font-weight: bold\">10</span><span style=\"font-weight: bold\">)</span>, Plan Years <span style=\"font-weight: bold\">(</span>i.e., the first six <span style=\"font-weight: bold\">(</span><span style=\"color: #008080; text-decoration-color: #008080; font-weight: bold\">6</span><span style=\"font-weight: bold\">)</span> Plan Years of such fifteen \n",
              "<span style=\"font-weight: bold\">(</span><span style=\"color: #008080; text-decoration-color: #008080; font-weight: bold\">15</span><span style=\"font-weight: bold\">)</span>-year period<span style=\"font-weight: bold\">)</span>, plus credited Plan earnings thereon through the award date. For each full Plan Year thereafter in which the Participant remains continuously employed with Walmart or any Employer, \n",
              "an Incentive Payment will be credited to the Participant's Account as of the last day of such Plan Year. Such Incentive Payment will be equal to ten percent <span style=\"font-weight: bold\">(</span><span style=\"color: #008080; text-decoration-color: #008080; font-weight: bold\">10</span>%<span style=\"font-weight: bold\">)</span> of the Participant's recognized \n",
              "Deferred Compensation and Deferred Bonuses for the first Plan Year of the ten <span style=\"font-weight: bold\">(</span><span style=\"color: #008080; text-decoration-color: #008080; font-weight: bold\">10</span><span style=\"font-weight: bold\">)</span>-consecutive Plan Year period ending on the award date, plus credited Plan earnings thereon through the award date. \n",
              "The Incentive Payments provided in this Section <span style=\"color: #800080; text-decoration-color: #800080; font-weight: bold\">4.2</span><span style=\"font-weight: bold\">(</span>d<span style=\"font-weight: bold\">)</span> shall not take into account Incentive Payments credited under Section <span style=\"color: #800080; text-decoration-color: #800080; font-weight: bold\">4.2</span><span style=\"font-weight: bold\">(</span>c<span style=\"font-weight: bold\">)</span> or credited Plan earnings thereon.\n",
              "\n",
              "===== Document <span style=\"color: #008080; text-decoration-color: #008080; font-weight: bold\">2</span> =====\n",
              "Year of February <span style=\"color: #008080; text-decoration-color: #008080; font-weight: bold\">1</span>, <span style=\"color: #008080; text-decoration-color: #008080; font-weight: bold\">1996</span> - March <span style=\"color: #008080; text-decoration-color: #008080; font-weight: bold\">31</span>, <span style=\"color: #008080; text-decoration-color: #008080; font-weight: bold\">1997</span><span style=\"font-weight: bold\">)</span>. Credited Plan earnings on such nonrecognized Deferred Compensation or Deferred Bonuses are likewise not taken into account in determining the amount of an \n",
              "Incentive Payment. <span style=\"font-weight: bold\">(</span>c<span style=\"font-weight: bold\">)</span> If a Participant remains continuously employed with Walmart or its Related Affiliates for a period of ten <span style=\"font-weight: bold\">(</span><span style=\"color: #008080; text-decoration-color: #008080; font-weight: bold\">10</span><span style=\"font-weight: bold\">)</span> consecutive full Plan Years, beginning with the first day of the \n",
              "first Plan Year in which the Participant had a Deferred Compensation or Deferred Bonus election in effect under this Plan or a Prior Agreement, and ending with the last day of the tenth <span style=\"font-weight: bold\">(</span>10th<span style=\"font-weight: bold\">)</span> Plan \n",
              "Year of such period, an Incentive Payment will be credited to the Participant's Grandfathered Account as of the last day of such tenth Plan Year. The Incentive Payment will be equal to twenty percent \n",
              "<span style=\"font-weight: bold\">(</span><span style=\"color: #008080; text-decoration-color: #008080; font-weight: bold\">20</span>%<span style=\"font-weight: bold\">)</span> of the Participant's recognized Deferred Compensation and Deferred Bonuses for ten <span style=\"font-weight: bold\">(</span><span style=\"color: #008080; text-decoration-color: #008080; font-weight: bold\">10</span><span style=\"font-weight: bold\">)</span>, but not less than five <span style=\"font-weight: bold\">(</span><span style=\"color: #008080; text-decoration-color: #008080; font-weight: bold\">5</span><span style=\"font-weight: bold\">)</span>, Plan Years <span style=\"font-weight: bold\">(</span>i.e., the first six <span style=\"font-weight: bold\">(</span><span style=\"color: #008080; text-decoration-color: #008080; font-weight: bold\">6</span><span style=\"font-weight: bold\">)</span> Plan Years of such ten <span style=\"font-weight: bold\">(</span><span style=\"color: #008080; text-decoration-color: #008080; font-weight: bold\">10</span><span style=\"font-weight: bold\">)</span>-year period<span style=\"font-weight: bold\">)</span>,\n",
              "plus credited Plan earnings thereon through the award date. For each full Plan Year thereafter in which the Participant remains continuously employed with Walmart or its Related Affiliates, an \n",
              "Incentive Payment will be credited to the Participant's Grandfathered Account as of the last day of such Plan Year. Such Incentive Payment will be equal to twenty percent <span style=\"font-weight: bold\">(</span><span style=\"color: #008080; text-decoration-color: #008080; font-weight: bold\">20</span>%<span style=\"font-weight: bold\">)</span> of the Participant's \n",
              "recognized Deferred Compensation and Deferred Bonuses for the first Plan Year of the five <span style=\"font-weight: bold\">(</span><span style=\"color: #008080; text-decoration-color: #008080; font-weight: bold\">5</span><span style=\"font-weight: bold\">)</span>-consecutive Plan Year period ending on the award date, plus credited Plan earnings thereon through the \n",
              "award date. <span style=\"font-weight: bold\">(</span>d<span style=\"font-weight: bold\">)</span> If a Participant remains continuously employed with Walmart or its Related Affiliates for a period of fifteen <span style=\"font-weight: bold\">(</span><span style=\"color: #008080; text-decoration-color: #008080; font-weight: bold\">15</span><span style=\"font-weight: bold\">)</span> consecutive full Plan Years, beginning with the first day of the \n",
              "first Plan Year in which the Participant had a Deferred Compensation or Deferred Bonuses election in effect under this Plan or a Prior Agreement, and ending with the last day of the fifteenth <span style=\"font-weight: bold\">(</span>15th<span style=\"font-weight: bold\">)</span> \n",
              "Plan Year of such period, an Incentive Payment will be credited to\n",
              "\n",
              "===== Document <span style=\"color: #008080; text-decoration-color: #008080; font-weight: bold\">3</span> =====\n",
              "Year. Credited Plan earnings on such nonrecognized Deferred Compensation or Deferred Bonuses are likewise not taken into account in determining the amount of an Incentive Payment. Further, in no event\n",
              "shall Deferred Special Bonuses, Deferred Retention Bonuses, Deferred Equity or any Employer Contribution Credits be taken into account in determining the amount of an Incentive Payment. <span style=\"font-weight: bold\">(</span>c<span style=\"font-weight: bold\">)</span> If a \n",
              "Participant remains continuously employed with Walmart or any Employer for a period of ten <span style=\"font-weight: bold\">(</span><span style=\"color: #008080; text-decoration-color: #008080; font-weight: bold\">10</span><span style=\"font-weight: bold\">)</span> consecutive full Plan Years, beginning with the first day of the first Plan Year in which the \n",
              "Participant had a Deferred Compensation or Deferred Bonus election in effect under this Plan or a Prior Agreement, and ending with the last day of the tenth <span style=\"font-weight: bold\">(</span>10th<span style=\"font-weight: bold\">)</span> Plan Year of such period, an \n",
              "Incentive Payment will be credited to the Participant's Account as of the last day of such tenth <span style=\"font-weight: bold\">(</span>10th<span style=\"font-weight: bold\">)</span> Plan Year. The Incentive Payment will be equal to twenty percent <span style=\"font-weight: bold\">(</span><span style=\"color: #008080; text-decoration-color: #008080; font-weight: bold\">20</span>%<span style=\"font-weight: bold\">)</span> of the Participant's \n",
              "recognized Deferred Compensation and Deferred Bonuses for ten <span style=\"font-weight: bold\">(</span><span style=\"color: #008080; text-decoration-color: #008080; font-weight: bold\">10</span><span style=\"font-weight: bold\">)</span>, but not less than five <span style=\"font-weight: bold\">(</span><span style=\"color: #008080; text-decoration-color: #008080; font-weight: bold\">5</span><span style=\"font-weight: bold\">)</span>, Plan Years <span style=\"font-weight: bold\">(</span>i.e., the first six <span style=\"font-weight: bold\">(</span><span style=\"color: #008080; text-decoration-color: #008080; font-weight: bold\">6</span><span style=\"font-weight: bold\">)</span> Plan Years of such ten <span style=\"font-weight: bold\">(</span><span style=\"color: #008080; text-decoration-color: #008080; font-weight: bold\">10</span><span style=\"font-weight: bold\">)</span>-year period<span style=\"font-weight: bold\">)</span>, plus credited Plan \n",
              "earnings thereon through the award date. For each full Plan Year thereafter in which the Participant remains continuously employed with Walmart or any Employer, an Incentive Payment will be credited \n",
              "to the Participant's Account as of the last day of such Plan Year. Such Incentive Payment will be equal to twenty percent <span style=\"font-weight: bold\">(</span><span style=\"color: #008080; text-decoration-color: #008080; font-weight: bold\">20</span>%<span style=\"font-weight: bold\">)</span> of the Participant's recognized Deferred Compensation and Deferred \n",
              "Bonuses for the first Plan Year of the five <span style=\"font-weight: bold\">(</span><span style=\"color: #008080; text-decoration-color: #008080; font-weight: bold\">5</span><span style=\"font-weight: bold\">)</span>-consecutive Plan Year period ending on the award date, plus credited Plan earnings thereon through the award date. <span style=\"font-weight: bold\">(</span>d<span style=\"font-weight: bold\">)</span> If a Participant remains \n",
              "continuously employed with Walmart or any Employer for a period of fifteen <span style=\"font-weight: bold\">(</span><span style=\"color: #008080; text-decoration-color: #008080; font-weight: bold\">15</span><span style=\"font-weight: bold\">)</span> consecutive full Plan Years, beginning with the first day of the first Plan Year in which the Participant had a Deferred\n",
              "Compensation or Deferred Bonus election in effect under this Plan or a Prior Agreement, and\n",
              "\n",
              "===== Document <span style=\"color: #008080; text-decoration-color: #008080; font-weight: bold\">4</span> =====\n",
              "t under this Plan or a Prior Agreement, and ending with the last day of the fifteenth <span style=\"font-weight: bold\">(</span>15th<span style=\"font-weight: bold\">)</span> Plan Year of such period, an Incentive Payment will be credited to the Participant's Grandfathered Account \n",
              "as of the last day of such fifteenth <span style=\"font-weight: bold\">(</span>15th<span style=\"font-weight: bold\">)</span> Plan Year. The Incentive Payment will be equal to ten percent <span style=\"font-weight: bold\">(</span><span style=\"color: #008080; text-decoration-color: #008080; font-weight: bold\">10</span>%<span style=\"font-weight: bold\">)</span> of the Participant's recognized Deferred Compensation and Deferred Bonuses for fifteen \n",
              "<span style=\"font-weight: bold\">(</span><span style=\"color: #008080; text-decoration-color: #008080; font-weight: bold\">15</span><span style=\"font-weight: bold\">)</span>, but not less than ten <span style=\"font-weight: bold\">(</span><span style=\"color: #008080; text-decoration-color: #008080; font-weight: bold\">10</span><span style=\"font-weight: bold\">)</span>, Plan Years <span style=\"font-weight: bold\">(</span>i.e., the first six <span style=\"font-weight: bold\">(</span><span style=\"color: #008080; text-decoration-color: #008080; font-weight: bold\">6</span><span style=\"font-weight: bold\">)</span> Plan Years of such fifteen <span style=\"font-weight: bold\">(</span><span style=\"color: #008080; text-decoration-color: #008080; font-weight: bold\">15</span><span style=\"font-weight: bold\">)</span>-year period<span style=\"font-weight: bold\">)</span>, plus credited Plan earnings thereon through the award date. For each full Plan Year \n",
              "thereafter in which the Participant remains continuously employed with Walmart or its Related Affiliates, an Incentive Payment will be credited to the Participant's Grandfathered Account as of the \n",
              "last day of such Plan Year. Such Incentive Payment will be equal to ten percent <span style=\"font-weight: bold\">(</span><span style=\"color: #008080; text-decoration-color: #008080; font-weight: bold\">10</span>%<span style=\"font-weight: bold\">)</span> of the Participant's recognized Deferred Compensation and Deferred Bonuses for the first Plan Year of a ten \n",
              "<span style=\"font-weight: bold\">(</span><span style=\"color: #008080; text-decoration-color: #008080; font-weight: bold\">10</span><span style=\"font-weight: bold\">)</span>-consecutive Plan Year period ending on the award date, plus credited Plan earnings thereon through the award date. The Incentive Payments provided in this Section <span style=\"color: #800080; text-decoration-color: #800080; font-weight: bold\">4.2</span><span style=\"font-weight: bold\">(</span>d<span style=\"font-weight: bold\">)</span> shall not take into \n",
              "account Incentive Payments credited under Section <span style=\"color: #800080; text-decoration-color: #800080; font-weight: bold\">4.2</span><span style=\"font-weight: bold\">(</span>c<span style=\"font-weight: bold\">)</span> or credited Plan earnings thereon. <span style=\"font-weight: bold\">(</span>e<span style=\"font-weight: bold\">)</span> The Incentive Payments provided in this Section <span style=\"color: #800080; text-decoration-color: #800080; font-weight: bold\">4.2</span><span style=\"font-weight: bold\">(</span>e<span style=\"font-weight: bold\">)</span> only apply if a Participant has been a \n",
              "Participant under the Plan <span style=\"font-weight: bold\">(</span>or a Prior Agreement<span style=\"font-weight: bold\">)</span> for five <span style=\"font-weight: bold\">(</span><span style=\"color: #008080; text-decoration-color: #008080; font-weight: bold\">5</span><span style=\"font-weight: bold\">)</span> or more full Plan Years and if the Participant incurs a Retirement, Early Retirement, death or Disability before satisfaction of the ten \n",
              "<span style=\"font-weight: bold\">(</span><span style=\"color: #008080; text-decoration-color: #008080; font-weight: bold\">10</span><span style=\"font-weight: bold\">)</span>- or fifteen <span style=\"font-weight: bold\">(</span><span style=\"color: #008080; text-decoration-color: #008080; font-weight: bold\">15</span><span style=\"font-weight: bold\">)</span>-year periods\n",
              "</pre>\n"
            ]
          },
          "metadata": {}
        },
        {
          "output_type": "display_data",
          "data": {
            "text/plain": [
              "\u001b[2m[Step 1: Duration 1.36 seconds| Input tokens: 3,983 | Output tokens: 40]\u001b[0m\n"
            ],
            "text/html": [
              "<pre style=\"white-space:pre;overflow-x:auto;line-height:normal;font-family:Menlo,'DejaVu Sans Mono',consolas,'Courier New',monospace\"><span style=\"color: #7f7f7f; text-decoration-color: #7f7f7f\">[Step 1: Duration 1.36 seconds| Input tokens: 3,983 | Output tokens: 40]</span>\n",
              "</pre>\n"
            ]
          },
          "metadata": {}
        },
        {
          "output_type": "display_data",
          "data": {
            "text/plain": [
              "\u001b[38;2;212;183;2m━━━━━━━━━━━━━━━━━━━━━━━━━━━━━━━━━━━━━━━━━━━━━━━━━━━━━━━━━━━━━━━━━━━━━━━━━━━━━━━━━━━━━━━━━━━━━━━━ \u001b[0m\u001b[1mStep \u001b[0m\u001b[1;36m2\u001b[0m\u001b[38;2;212;183;2m ━━━━━━━━━━━━━━━━━━━━━━━━━━━━━━━━━━━━━━━━━━━━━━━━━━━━━━━━━━━━━━━━━━━━━━━━━━━━━━━━━━━━━━━━━━━━━━━━\u001b[0m\n"
            ],
            "text/html": [
              "<pre style=\"white-space:pre;overflow-x:auto;line-height:normal;font-family:Menlo,'DejaVu Sans Mono',consolas,'Courier New',monospace\"><span style=\"color: #d4b702; text-decoration-color: #d4b702\">━━━━━━━━━━━━━━━━━━━━━━━━━━━━━━━━━━━━━━━━━━━━━━━━━━━━━━━━━━━━━━━━━━━━━━━━━━━━━━━━━━━━━━━━━━━━━━━━ </span><span style=\"font-weight: bold\">Step </span><span style=\"color: #008080; text-decoration-color: #008080; font-weight: bold\">2</span><span style=\"color: #d4b702; text-decoration-color: #d4b702\"> ━━━━━━━━━━━━━━━━━━━━━━━━━━━━━━━━━━━━━━━━━━━━━━━━━━━━━━━━━━━━━━━━━━━━━━━━━━━━━━━━━━━━━━━━━━━━━━━━</span>\n",
              "</pre>\n"
            ]
          },
          "metadata": {}
        },
        {
          "output_type": "display_data",
          "data": {
            "text/plain": [
              "╭──────────────────────────────────────────────────────────────────────────────────────────────────────────────────────────────────────────────────────────────────────────────────────────────────────╮\n",
              "│ Calling tool: 'final_answer' with arguments: {'answer': \"Employee incentive plans at Chevron include the Chevron Incentive Plan, which is an annual cash bonus plan for eligible employees linked to │\n",
              "│ corporate and individual performance. The plan also includes the LTIP (Long-Term Incentive Plan) for officers and other regular salaried employees with significant positions. Awards under the LTIP │\n",
              "│ consist of stock options and other share-based compensation. On the other hand, Walmart's Employee Incentive Plan grants stock options, restricted stock, restricted stock units, performance share  │\n",
              "│ units, and other equity compensation. The Walmart Inc. Stock Incentive Plan of 2015 aligns associates' interests with shareholders' interests by granting these awards.\"}                            │\n",
              "╰──────────────────────────────────────────────────────────────────────────────────────────────────────────────────────────────────────────────────────────────────────────────────────────────────────╯\n"
            ],
            "text/html": [
              "<pre style=\"white-space:pre;overflow-x:auto;line-height:normal;font-family:Menlo,'DejaVu Sans Mono',consolas,'Courier New',monospace\">╭──────────────────────────────────────────────────────────────────────────────────────────────────────────────────────────────────────────────────────────────────────────────────────────────────────╮\n",
              "│ Calling tool: 'final_answer' with arguments: {'answer': \"Employee incentive plans at Chevron include the Chevron Incentive Plan, which is an annual cash bonus plan for eligible employees linked to │\n",
              "│ corporate and individual performance. The plan also includes the LTIP (Long-Term Incentive Plan) for officers and other regular salaried employees with significant positions. Awards under the LTIP │\n",
              "│ consist of stock options and other share-based compensation. On the other hand, Walmart's Employee Incentive Plan grants stock options, restricted stock, restricted stock units, performance share  │\n",
              "│ units, and other equity compensation. The Walmart Inc. Stock Incentive Plan of 2015 aligns associates' interests with shareholders' interests by granting these awards.\"}                            │\n",
              "╰──────────────────────────────────────────────────────────────────────────────────────────────────────────────────────────────────────────────────────────────────────────────────────────────────────╯\n",
              "</pre>\n"
            ]
          },
          "metadata": {}
        },
        {
          "output_type": "display_data",
          "data": {
            "text/plain": [
              "\u001b[1;38;2;212;183;2mFinal answer: Employee incentive plans at Chevron include the Chevron Incentive Plan, which is an annual cash bonus plan for eligible employees linked to corporate and individual performance. The plan\u001b[0m\n",
              "\u001b[1;38;2;212;183;2malso includes the LTIP (Long-Term Incentive Plan) for officers and other regular salaried employees with significant positions. Awards under the LTIP consist of stock options and other share-based \u001b[0m\n",
              "\u001b[1;38;2;212;183;2mcompensation. On the other hand, Walmart's Employee Incentive Plan grants stock options, restricted stock, restricted stock units, performance share units, and other equity compensation. The Walmart \u001b[0m\n",
              "\u001b[1;38;2;212;183;2mInc. Stock Incentive Plan of 2015 aligns associates' interests with shareholders' interests by granting these awards.\u001b[0m\n"
            ],
            "text/html": [
              "<pre style=\"white-space:pre;overflow-x:auto;line-height:normal;font-family:Menlo,'DejaVu Sans Mono',consolas,'Courier New',monospace\"><span style=\"color: #d4b702; text-decoration-color: #d4b702; font-weight: bold\">Final answer: Employee incentive plans at Chevron include the Chevron Incentive Plan, which is an annual cash bonus plan for eligible employees linked to corporate and individual performance. The plan</span>\n",
              "<span style=\"color: #d4b702; text-decoration-color: #d4b702; font-weight: bold\">also includes the LTIP (Long-Term Incentive Plan) for officers and other regular salaried employees with significant positions. Awards under the LTIP consist of stock options and other share-based </span>\n",
              "<span style=\"color: #d4b702; text-decoration-color: #d4b702; font-weight: bold\">compensation. On the other hand, Walmart's Employee Incentive Plan grants stock options, restricted stock, restricted stock units, performance share units, and other equity compensation. The Walmart </span>\n",
              "<span style=\"color: #d4b702; text-decoration-color: #d4b702; font-weight: bold\">Inc. Stock Incentive Plan of 2015 aligns associates' interests with shareholders' interests by granting these awards.</span>\n",
              "</pre>\n"
            ]
          },
          "metadata": {}
        },
        {
          "output_type": "display_data",
          "data": {
            "text/plain": [
              "\u001b[2m[Step 2: Duration 2.18 seconds| Input tokens: 8,654 | Output tokens: 186]\u001b[0m\n"
            ],
            "text/html": [
              "<pre style=\"white-space:pre;overflow-x:auto;line-height:normal;font-family:Menlo,'DejaVu Sans Mono',consolas,'Courier New',monospace\"><span style=\"color: #7f7f7f; text-decoration-color: #7f7f7f\">[Step 2: Duration 2.18 seconds| Input tokens: 8,654 | Output tokens: 186]</span>\n",
              "</pre>\n"
            ]
          },
          "metadata": {}
        },
        {
          "output_type": "stream",
          "name": "stdout",
          "text": [
            "Final answer:\n",
            "Employee incentive plans at Chevron include the Chevron Incentive Plan, which is an annual cash bonus plan for eligible employees linked to corporate and individual performance. The plan also includes the LTIP (Long-Term Incentive Plan) for officers and other regular salaried employees with significant positions. Awards under the LTIP consist of stock options and other share-based compensation. On the other hand, Walmart's Employee Incentive Plan grants stock options, restricted stock, restricted stock units, performance share units, and other equity compensation. The Walmart Inc. Stock Incentive Plan of 2015 aligns associates' interests with shareholders' interests by granting these awards.\n"
          ]
        }
      ]
    },
    {
      "cell_type": "markdown",
      "source": [
        "As you can see, the Agent decomposed the original question into two individual queries - `'Employee incentive plans at Chevron'` and `'Employee incentive plans at Walmart'`, and retrieved documents for each of them to generate the final answer that compares all of the information.  \n",
        "\n",
        "Let's take a closer look at the final answers.\n",
        "\n",
        "Agentic answer is more true to the source because it provides specific details about the incentive plans at each company, whereas Vanilla RAG answer makes generalizations and includes information that is **not directly stated** in the sources. Here's a breakdown of why Agentic answer is more accurate:\n",
        "\n",
        "* Agentic RAG references the \"Chevron Incentive Plan\" and the \"Long-Term Incentive Plan (LTIP)\" at Chevron it also specifically names \"Stock Incentive Plan of 2015\" at Walmart. These are precise names that are more accurate to the source. Vanilla RAG provides a general overview of incentive plans without using the specific names used in the source.\n",
        "\n",
        "* Specific types of compensation: Agentic RAG specifies that Chevron's LTIP includes \"stock options and other share-based compensation,\" and that Walmart's Stock Incentive Plan of 2015 includes \"stock options, restricted stock, restricted stock units, performance share units, and other equity compensation awards\". These details are in the source, which lists the types of awards offered in each plan, while Vanilla RAG only mentions the general types of compensation, such as \"stock options\" and \"restricted stock\".\n",
        "\n",
        "* Vanilla RAG makes broad statements and generalizations that are not directly stated in the sources, e.g. \"Chevron emphasizes attracting, developing, and retaining talent through long-term employment models, leadership development programs, and succession planning\" and \"Chevron's approach focuses on fostering an inclusive work environment through leadership development programs and employee networks\" which is not directly supported by the provided sources. Agentic RAG represents the plans as they are described in the source, avoiding generalization."
      ],
      "metadata": {
        "id": "Vnkds3xdIQon"
      }
    },
    {
      "cell_type": "markdown",
      "source": [
        "## Question 2: How does Costco manage its supply chain and what are the potential vulnerabilities and risks in this process?"
      ],
      "metadata": {
        "id": "WVv48JikJ4aM"
      }
    },
    {
      "cell_type": "markdown",
      "source": [
        "Let's try another question."
      ],
      "metadata": {
        "id": "AowpPlgaFPX3"
      }
    },
    {
      "cell_type": "code",
      "source": [
        "another_question = \"How does Costco manage its supply chain and what are the potential vulnerabilities and risks in this process?\""
      ],
      "metadata": {
        "id": "ZNNBbVdkJ8Fs"
      },
      "execution_count": 45,
      "outputs": []
    },
    {
      "cell_type": "code",
      "source": [
        "vanilla_rag(another_question)"
      ],
      "metadata": {
        "colab": {
          "base_uri": "https://localhost:8080/",
          "height": 107
        },
        "id": "q4L4_EjZABY-",
        "outputId": "6d4d842c-4e20-481c-f3ed-1f3bd9436b19"
      },
      "execution_count": 34,
      "outputs": [
        {
          "output_type": "execute_result",
          "data": {
            "text/plain": [
              "\"Costco manages its supply chain by utilizing a global network of suppliers, both domestic and international, to purchase merchandise for its stores, clubs, and online platforms. By establishing efficient relationships with suppliers and ensuring compliance with local laws and regulations, Costco is able to offer a wide range of high-quality products at competitive prices to its customers. However, potential vulnerabilities and risks in this process may include disruptions in the supply chain, such as delays in receiving products, logistical challenges, and compliance issues with regulations in different jurisdictions. These factors can impact Costco's in-stock levels, the attractiveness of its merchandise assortment, and ultimately, customer satisfaction.\""
            ],
            "application/vnd.google.colaboratory.intrinsic+json": {
              "type": "string"
            }
          },
          "metadata": {},
          "execution_count": 34
        }
      ]
    },
    {
      "cell_type": "code",
      "source": [
        "agent_output = agent.run(another_question)\n",
        "\n",
        "print(\"Final answer:\")\n",
        "print(agent_output)"
      ],
      "metadata": {
        "colab": {
          "base_uri": "https://localhost:8080/",
          "height": 1000
        },
        "id": "kZ12pN2gD1Lb",
        "outputId": "e1ab7b82-9332-41ae-a1cd-db5c6de2e7e6"
      },
      "execution_count": 35,
      "outputs": [
        {
          "output_type": "display_data",
          "data": {
            "text/plain": [
              "\u001b[38;2;212;183;2m╭─\u001b[0m\u001b[38;2;212;183;2m─────────────────────────────────────────────────────────────────────────────────────────────\u001b[0m\u001b[38;2;212;183;2m \u001b[0m\u001b[1;38;2;212;183;2mNew run\u001b[0m\u001b[38;2;212;183;2m \u001b[0m\u001b[38;2;212;183;2m──────────────────────────────────────────────────────────────────────────────────────────────\u001b[0m\u001b[38;2;212;183;2m─╮\u001b[0m\n",
              "\u001b[38;2;212;183;2m│\u001b[0m                                                                                                                                                                                                      \u001b[38;2;212;183;2m│\u001b[0m\n",
              "\u001b[38;2;212;183;2m│\u001b[0m \u001b[1mHow does Costco manage its supply chain and what are the potential vulnerabilities and risks in this process?\u001b[0m                                                                                        \u001b[38;2;212;183;2m│\u001b[0m\n",
              "\u001b[38;2;212;183;2m│\u001b[0m                                                                                                                                                                                                      \u001b[38;2;212;183;2m│\u001b[0m\n",
              "\u001b[38;2;212;183;2m╰─\u001b[0m\u001b[38;2;212;183;2m LiteLLMModel - gpt-3.5-turbo-0125 \u001b[0m\u001b[38;2;212;183;2m─────────────────────────────────────────────────────────────────────────────────────────────────────────────────────────────────────────────────────────────────\u001b[0m\u001b[38;2;212;183;2m─╯\u001b[0m\n"
            ],
            "text/html": [
              "<pre style=\"white-space:pre;overflow-x:auto;line-height:normal;font-family:Menlo,'DejaVu Sans Mono',consolas,'Courier New',monospace\"><span style=\"color: #d4b702; text-decoration-color: #d4b702\">╭────────────────────────────────────────────────────────────────────────────────────────────── </span><span style=\"color: #d4b702; text-decoration-color: #d4b702; font-weight: bold\">New run</span><span style=\"color: #d4b702; text-decoration-color: #d4b702\"> ───────────────────────────────────────────────────────────────────────────────────────────────╮</span>\n",
              "<span style=\"color: #d4b702; text-decoration-color: #d4b702\">│</span>                                                                                                                                                                                                      <span style=\"color: #d4b702; text-decoration-color: #d4b702\">│</span>\n",
              "<span style=\"color: #d4b702; text-decoration-color: #d4b702\">│</span> <span style=\"font-weight: bold\">How does Costco manage its supply chain and what are the potential vulnerabilities and risks in this process?</span>                                                                                        <span style=\"color: #d4b702; text-decoration-color: #d4b702\">│</span>\n",
              "<span style=\"color: #d4b702; text-decoration-color: #d4b702\">│</span>                                                                                                                                                                                                      <span style=\"color: #d4b702; text-decoration-color: #d4b702\">│</span>\n",
              "<span style=\"color: #d4b702; text-decoration-color: #d4b702\">╰─ LiteLLMModel - gpt-3.5-turbo-0125 ──────────────────────────────────────────────────────────────────────────────────────────────────────────────────────────────────────────────────────────────────╯</span>\n",
              "</pre>\n"
            ]
          },
          "metadata": {}
        },
        {
          "output_type": "display_data",
          "data": {
            "text/plain": [
              "\u001b[38;2;212;183;2m━━━━━━━━━━━━━━━━━━━━━━━━━━━━━━━━━━━━━━━━━━━━━━━━━━━━━━━━━━━━━━━━━━━━━━━━━━━━━━━━━━━━━━━━━━━━━━━━ \u001b[0m\u001b[1mStep \u001b[0m\u001b[1;36m0\u001b[0m\u001b[38;2;212;183;2m ━━━━━━━━━━━━━━━━━━━━━━━━━━━━━━━━━━━━━━━━━━━━━━━━━━━━━━━━━━━━━━━━━━━━━━━━━━━━━━━━━━━━━━━━━━━━━━━━\u001b[0m\n"
            ],
            "text/html": [
              "<pre style=\"white-space:pre;overflow-x:auto;line-height:normal;font-family:Menlo,'DejaVu Sans Mono',consolas,'Courier New',monospace\"><span style=\"color: #d4b702; text-decoration-color: #d4b702\">━━━━━━━━━━━━━━━━━━━━━━━━━━━━━━━━━━━━━━━━━━━━━━━━━━━━━━━━━━━━━━━━━━━━━━━━━━━━━━━━━━━━━━━━━━━━━━━━ </span><span style=\"font-weight: bold\">Step </span><span style=\"color: #008080; text-decoration-color: #008080; font-weight: bold\">0</span><span style=\"color: #d4b702; text-decoration-color: #d4b702\"> ━━━━━━━━━━━━━━━━━━━━━━━━━━━━━━━━━━━━━━━━━━━━━━━━━━━━━━━━━━━━━━━━━━━━━━━━━━━━━━━━━━━━━━━━━━━━━━━━</span>\n",
              "</pre>\n"
            ]
          },
          "metadata": {}
        },
        {
          "output_type": "display_data",
          "data": {
            "text/plain": [
              "╭──────────────────────────────────────────────────────────────────────────────────────────────────────────────────────────────────────────────────────────────────────────────────────────────────────╮\n",
              "│ Calling tool: 'retriever' with arguments: {'query': 'Costco supply chain management vulnerabilities and risks'}                                                                                      │\n",
              "╰──────────────────────────────────────────────────────────────────────────────────────────────────────────────────────────────────────────────────────────────────────────────────────────────────────╯\n"
            ],
            "text/html": [
              "<pre style=\"white-space:pre;overflow-x:auto;line-height:normal;font-family:Menlo,'DejaVu Sans Mono',consolas,'Courier New',monospace\">╭──────────────────────────────────────────────────────────────────────────────────────────────────────────────────────────────────────────────────────────────────────────────────────────────────────╮\n",
              "│ Calling tool: 'retriever' with arguments: {'query': 'Costco supply chain management vulnerabilities and risks'}                                                                                      │\n",
              "╰──────────────────────────────────────────────────────────────────────────────────────────────────────────────────────────────────────────────────────────────────────────────────────────────────────╯\n",
              "</pre>\n"
            ]
          },
          "metadata": {}
        },
        {
          "output_type": "display_data",
          "data": {
            "text/plain": [
              "Observations: Retrieved documents:\n",
              "\n",
              "\n",
              "===== Document \u001b[1;36m0\u001b[0m =====\n",
              "We depend heavily on our ability to purchase quality merchandise in sufficient quantities at competitive prices. As the quantities we require continue to grow, we have no assurances of continued \n",
              "supply, appropriate pricing or access to new products, and any supplier has the ability to change the terms upon which they sell to us or discontinue selling to us. Member demands may lead to \n",
              "out-of-stock positions causing a loss of sales and profits. We buy from numerous domestic and foreign suppliers and importers. Our inability to acquire suitable merchandise on acceptable terms or the \n",
              "loss of key suppliers could negatively affect us. We may not be able to develop relationships with new suppliers, and products from alternative sources, if any, may be of a lesser quality or more \n",
              "expensive. Because of our efforts to adhere to high-quality standards for which available supply may be limited, particularly for certain food items, the large volumes we demand may not be \n",
              "consistently available. Our efforts to secure supply could lead to commitments that prove to be unsuccessful in the short and long-term. Our suppliers \u001b[1m(\u001b[0mand those they depend upon for materials and \n",
              "services\u001b[1m)\u001b[0m are subject to risks, including labor disputes, union organizing activities, financial liquidity, natural disasters, extreme weather conditions, public health emergencies, supply constraints\n",
              "and general economic and political conditions and other risks similar to those we face that could limit their ability to timely provide us with acceptable merchandise. One or more of our suppliers \n",
              "might not adhere to our quality control, packaging, legal, regulatory, labor, environmental or animal welfare standards. These deficiencies may delay or preclude delivery of merchandise to us and \n",
              "might not be identified before we sell such merchandise to our members. This failure could lead to recalls and litigation and otherwise damage our reputation and our brands, increase costs, and \n",
              "otherwise adversely impact our business.\n",
              "\n",
              "===== Document \u001b[1;36m1\u001b[0m =====\n",
              "Suppliers and Supply Chain\n",
              "\n",
              "As a retailer and warehouse club operator, we utilize a global supply chain that includes both U.S. and international suppliers from whom we purchase the merchandise that we sell in our stores, clubs \n",
              "and online. In many instances, we purchase merchandise from producers located near the stores and clubs in which such merchandise will be sold, particularly products in the \u001b[32m\"fresh\"\u001b[0m category. \n",
              "Consistent with applicable laws, we offer our suppliers the opportunity to efficiently sell significant quantities of their products to us. These relationships enable us to obtain pricing that \n",
              "reflects the volume, certainty and cost-effectiveness these arrangements provide to such suppliers, which in turn enables us to provide low prices to our customers. Our suppliers are subject to \n",
              "standards of conduct, including requirements that they comply with local labor laws, local worker safety laws and other applicable laws. Our ability to acquire from our suppliers the assortment and \n",
              "volume of products we wish to offer to our customers, to receive those products within the required time through our supply chain and to distribute those products to our stores and clubs, determines, \n",
              "along with other supply chain logistics matters \u001b[1m(\u001b[0msuch as containers or port access for example\u001b[1m)\u001b[0m, in part, our in-stock levels in our stores and clubs and the attractiveness of our merchandise \n",
              "assortment we offer to our customers and members.\n",
              "\n",
              "Government Regulation\n",
              "\n",
              "As a company with global operations, we are subject to the laws of the United States and multiple foreign jurisdictions in which we operate and the rules and regulations of various governing bodies, \n",
              "which may differ among jurisdictions. For additional information, see the risk factors herein in \u001b[32m\"Item 1A. Risk Factors\"\u001b[0m under the sub-caption \u001b[32m\"Legal, Tax, Regulatory, Compliance, Reputational and \u001b[0m\n",
              "\u001b[32mOther Risks.\"\u001b[0m\n",
              "\n",
              "===== Document \u001b[1;36m2\u001b[0m =====\n",
              "merchandise through our depots and logistics operations, as well as through drop-ship and other delivery arrangements with our suppliers. Our average warehouse space is approximately \u001b[1;36m147\u001b[0m,\u001b[1;36m000\u001b[0m square \n",
              "feet, with newer units being slightly larger. Floor plans are designed for economy and efficiency in the use of selling space, the handling of merchandise, and the control of inventory. Because \n",
              "shoppers are attracted principally by the quality of merchandise and low prices, our warehouses are not elaborate. By strictly controlling the entrances and exits and using a membership format, we \n",
              "believe our inventory losses \u001b[1m(\u001b[0mshrinkage\u001b[1m)\u001b[0m are well below those of typical retail operations. Our warehouses on average operate on a seven-day, \u001b[1;36m70\u001b[0m-hour week. Gasoline operations generally have extended \n",
              "hours. Because the hours of operation are shorter than most other retailers, and due to other efficiencies inherent in a warehouse-type operation, labor costs are lower relative to the volume of \n",
              "sales. Merchandise is generally stored on racks above the sales floor and displayed on pallets containing large quantities, reducing labor required. In general, with variations by country, our \n",
              "warehouses accept certain credit cards, including Costco co-branded cards, debit cards, cash and checks, Executive member \u001b[1;36m2\u001b[0m% reward certificates, co-brand cardholder rebates, and our proprietary \n",
              "stored-value card \u001b[1m(\u001b[0mshop card\u001b[1m)\u001b[0m. Our strategy is to provide our members with a broad range of high-quality merchandise at prices we believe are consistently lower than elsewhere. We seek to limit most \n",
              "items to fast-selling models, sizes, and colors. We carry less than \u001b[1;36m4\u001b[0m,\u001b[1;36m000\u001b[0m active stock keeping units \u001b[1m(\u001b[0mSKUs\u001b[1m)\u001b[0m per warehouse in our core warehouse business, significantly less than other broadline \n",
              "retailers. We average anywhere from \u001b[1;36m9\u001b[0m,\u001b[1;36m000\u001b[0m to \u001b[1;36m11\u001b[0m,\u001b[1;36m000\u001b[0m SKUs online, some of which are also available in our warehouses. Many consumable products are offered for sale in case, carton, or multiple-pack \n",
              "quantities only. In keeping with our policy of member satisfaction, we generally\n",
              "\n",
              "===== Document \u001b[1;36m3\u001b[0m =====\n",
              "Commodity Price Risk\n",
              "\n",
              "We are exposed to fluctuations in prices for energy, particularly electricity and natural gas, and other commodities used in retail and manufacturing operations, which we seek to partially mitigate \n",
              "through fixed-price contracts for certain of our warehouses and other facilities, predominantly in the U.S. and Canada. We also enter into variable-priced contracts for some purchases of electricity \n",
              "and natural gas, in addition to some of the fuel for our gas stations, on an index basis. These contracts meet the characteristics of derivative instruments, but generally qualify for the \u001b[32m\"normal \u001b[0m\n",
              "\u001b[32mpurchases and normal sales\"\u001b[0m exception under authoritative guidance and require no mark-to-market adjustment.\n",
              "\n",
              "\u001b[1;36m29\u001b[0m\n",
              "\n",
              "Item \u001b[1;36m8\u001b[0m—Financial Statements and Supplementary Data\n",
              "\n",
              "COSTCO WHOLESALE CORPORATION\n",
              "\n",
              "INDEX TO CONSOLIDATED FINANCIAL STATEMENTS\n",
              "\n",
              "===== Document \u001b[1;36m4\u001b[0m =====\n",
              "uption in the transport of goods from overseas, the disruption or delay in the delivery of goods to our distribution and fulfillment centers or stores within a country in which we are operating, the \n",
              "reduction in the availability of products in our stores, increases in the costs of procuring products as a result of either reduced availability or economic sanctions, increased transportation costs \n",
              "\u001b[1m(\u001b[0mwhether due to fuel prices, fuel supply, or otherwise\u001b[1m)\u001b[0m, the disruption \u001b[1m(\u001b[0mwhether directly or indirectly\u001b[1m)\u001b[0m of critical infrastructure systems, banking systems, utility services or energy availability to\n",
              "our stores, clubs and our facilities, and the disruption in our communications with our stores, clubs and other facilities. Furthermore, the long-term impacts of climate change, whether involving \n",
              "physical risks \u001b[1m(\u001b[0msuch as extreme weather conditions, drought, or rising sea levels\u001b[1m)\u001b[0m or transition risks \u001b[1m(\u001b[0msuch as regulatory or technology changes\u001b[1m)\u001b[0m are expected to be widespread and unpredictable. \n",
              "Certain impacts of physical risk may include: temperature changes that increase the heating and cooling costs at stores, clubs, and distribution or fulfillment centers; extreme weather patterns that \n",
              "affect the production or sourcing of certain commodities; flooding and extreme storms that damage or destroy our buildings and inventory; and heat and extreme weather\n"
            ],
            "text/html": [
              "<pre style=\"white-space:pre;overflow-x:auto;line-height:normal;font-family:Menlo,'DejaVu Sans Mono',consolas,'Courier New',monospace\">Observations: Retrieved documents:\n",
              "\n",
              "\n",
              "===== Document <span style=\"color: #008080; text-decoration-color: #008080; font-weight: bold\">0</span> =====\n",
              "We depend heavily on our ability to purchase quality merchandise in sufficient quantities at competitive prices. As the quantities we require continue to grow, we have no assurances of continued \n",
              "supply, appropriate pricing or access to new products, and any supplier has the ability to change the terms upon which they sell to us or discontinue selling to us. Member demands may lead to \n",
              "out-of-stock positions causing a loss of sales and profits. We buy from numerous domestic and foreign suppliers and importers. Our inability to acquire suitable merchandise on acceptable terms or the \n",
              "loss of key suppliers could negatively affect us. We may not be able to develop relationships with new suppliers, and products from alternative sources, if any, may be of a lesser quality or more \n",
              "expensive. Because of our efforts to adhere to high-quality standards for which available supply may be limited, particularly for certain food items, the large volumes we demand may not be \n",
              "consistently available. Our efforts to secure supply could lead to commitments that prove to be unsuccessful in the short and long-term. Our suppliers <span style=\"font-weight: bold\">(</span>and those they depend upon for materials and \n",
              "services<span style=\"font-weight: bold\">)</span> are subject to risks, including labor disputes, union organizing activities, financial liquidity, natural disasters, extreme weather conditions, public health emergencies, supply constraints\n",
              "and general economic and political conditions and other risks similar to those we face that could limit their ability to timely provide us with acceptable merchandise. One or more of our suppliers \n",
              "might not adhere to our quality control, packaging, legal, regulatory, labor, environmental or animal welfare standards. These deficiencies may delay or preclude delivery of merchandise to us and \n",
              "might not be identified before we sell such merchandise to our members. This failure could lead to recalls and litigation and otherwise damage our reputation and our brands, increase costs, and \n",
              "otherwise adversely impact our business.\n",
              "\n",
              "===== Document <span style=\"color: #008080; text-decoration-color: #008080; font-weight: bold\">1</span> =====\n",
              "Suppliers and Supply Chain\n",
              "\n",
              "As a retailer and warehouse club operator, we utilize a global supply chain that includes both U.S. and international suppliers from whom we purchase the merchandise that we sell in our stores, clubs \n",
              "and online. In many instances, we purchase merchandise from producers located near the stores and clubs in which such merchandise will be sold, particularly products in the <span style=\"color: #008000; text-decoration-color: #008000\">\"fresh\"</span> category. \n",
              "Consistent with applicable laws, we offer our suppliers the opportunity to efficiently sell significant quantities of their products to us. These relationships enable us to obtain pricing that \n",
              "reflects the volume, certainty and cost-effectiveness these arrangements provide to such suppliers, which in turn enables us to provide low prices to our customers. Our suppliers are subject to \n",
              "standards of conduct, including requirements that they comply with local labor laws, local worker safety laws and other applicable laws. Our ability to acquire from our suppliers the assortment and \n",
              "volume of products we wish to offer to our customers, to receive those products within the required time through our supply chain and to distribute those products to our stores and clubs, determines, \n",
              "along with other supply chain logistics matters <span style=\"font-weight: bold\">(</span>such as containers or port access for example<span style=\"font-weight: bold\">)</span>, in part, our in-stock levels in our stores and clubs and the attractiveness of our merchandise \n",
              "assortment we offer to our customers and members.\n",
              "\n",
              "Government Regulation\n",
              "\n",
              "As a company with global operations, we are subject to the laws of the United States and multiple foreign jurisdictions in which we operate and the rules and regulations of various governing bodies, \n",
              "which may differ among jurisdictions. For additional information, see the risk factors herein in <span style=\"color: #008000; text-decoration-color: #008000\">\"Item 1A. Risk Factors\"</span> under the sub-caption <span style=\"color: #008000; text-decoration-color: #008000\">\"Legal, Tax, Regulatory, Compliance, Reputational and </span>\n",
              "<span style=\"color: #008000; text-decoration-color: #008000\">Other Risks.\"</span>\n",
              "\n",
              "===== Document <span style=\"color: #008080; text-decoration-color: #008080; font-weight: bold\">2</span> =====\n",
              "merchandise through our depots and logistics operations, as well as through drop-ship and other delivery arrangements with our suppliers. Our average warehouse space is approximately <span style=\"color: #008080; text-decoration-color: #008080; font-weight: bold\">147</span>,<span style=\"color: #008080; text-decoration-color: #008080; font-weight: bold\">000</span> square \n",
              "feet, with newer units being slightly larger. Floor plans are designed for economy and efficiency in the use of selling space, the handling of merchandise, and the control of inventory. Because \n",
              "shoppers are attracted principally by the quality of merchandise and low prices, our warehouses are not elaborate. By strictly controlling the entrances and exits and using a membership format, we \n",
              "believe our inventory losses <span style=\"font-weight: bold\">(</span>shrinkage<span style=\"font-weight: bold\">)</span> are well below those of typical retail operations. Our warehouses on average operate on a seven-day, <span style=\"color: #008080; text-decoration-color: #008080; font-weight: bold\">70</span>-hour week. Gasoline operations generally have extended \n",
              "hours. Because the hours of operation are shorter than most other retailers, and due to other efficiencies inherent in a warehouse-type operation, labor costs are lower relative to the volume of \n",
              "sales. Merchandise is generally stored on racks above the sales floor and displayed on pallets containing large quantities, reducing labor required. In general, with variations by country, our \n",
              "warehouses accept certain credit cards, including Costco co-branded cards, debit cards, cash and checks, Executive member <span style=\"color: #008080; text-decoration-color: #008080; font-weight: bold\">2</span>% reward certificates, co-brand cardholder rebates, and our proprietary \n",
              "stored-value card <span style=\"font-weight: bold\">(</span>shop card<span style=\"font-weight: bold\">)</span>. Our strategy is to provide our members with a broad range of high-quality merchandise at prices we believe are consistently lower than elsewhere. We seek to limit most \n",
              "items to fast-selling models, sizes, and colors. We carry less than <span style=\"color: #008080; text-decoration-color: #008080; font-weight: bold\">4</span>,<span style=\"color: #008080; text-decoration-color: #008080; font-weight: bold\">000</span> active stock keeping units <span style=\"font-weight: bold\">(</span>SKUs<span style=\"font-weight: bold\">)</span> per warehouse in our core warehouse business, significantly less than other broadline \n",
              "retailers. We average anywhere from <span style=\"color: #008080; text-decoration-color: #008080; font-weight: bold\">9</span>,<span style=\"color: #008080; text-decoration-color: #008080; font-weight: bold\">000</span> to <span style=\"color: #008080; text-decoration-color: #008080; font-weight: bold\">11</span>,<span style=\"color: #008080; text-decoration-color: #008080; font-weight: bold\">000</span> SKUs online, some of which are also available in our warehouses. Many consumable products are offered for sale in case, carton, or multiple-pack \n",
              "quantities only. In keeping with our policy of member satisfaction, we generally\n",
              "\n",
              "===== Document <span style=\"color: #008080; text-decoration-color: #008080; font-weight: bold\">3</span> =====\n",
              "Commodity Price Risk\n",
              "\n",
              "We are exposed to fluctuations in prices for energy, particularly electricity and natural gas, and other commodities used in retail and manufacturing operations, which we seek to partially mitigate \n",
              "through fixed-price contracts for certain of our warehouses and other facilities, predominantly in the U.S. and Canada. We also enter into variable-priced contracts for some purchases of electricity \n",
              "and natural gas, in addition to some of the fuel for our gas stations, on an index basis. These contracts meet the characteristics of derivative instruments, but generally qualify for the <span style=\"color: #008000; text-decoration-color: #008000\">\"normal </span>\n",
              "<span style=\"color: #008000; text-decoration-color: #008000\">purchases and normal sales\"</span> exception under authoritative guidance and require no mark-to-market adjustment.\n",
              "\n",
              "<span style=\"color: #008080; text-decoration-color: #008080; font-weight: bold\">29</span>\n",
              "\n",
              "Item <span style=\"color: #008080; text-decoration-color: #008080; font-weight: bold\">8</span>—Financial Statements and Supplementary Data\n",
              "\n",
              "COSTCO WHOLESALE CORPORATION\n",
              "\n",
              "INDEX TO CONSOLIDATED FINANCIAL STATEMENTS\n",
              "\n",
              "===== Document <span style=\"color: #008080; text-decoration-color: #008080; font-weight: bold\">4</span> =====\n",
              "uption in the transport of goods from overseas, the disruption or delay in the delivery of goods to our distribution and fulfillment centers or stores within a country in which we are operating, the \n",
              "reduction in the availability of products in our stores, increases in the costs of procuring products as a result of either reduced availability or economic sanctions, increased transportation costs \n",
              "<span style=\"font-weight: bold\">(</span>whether due to fuel prices, fuel supply, or otherwise<span style=\"font-weight: bold\">)</span>, the disruption <span style=\"font-weight: bold\">(</span>whether directly or indirectly<span style=\"font-weight: bold\">)</span> of critical infrastructure systems, banking systems, utility services or energy availability to\n",
              "our stores, clubs and our facilities, and the disruption in our communications with our stores, clubs and other facilities. Furthermore, the long-term impacts of climate change, whether involving \n",
              "physical risks <span style=\"font-weight: bold\">(</span>such as extreme weather conditions, drought, or rising sea levels<span style=\"font-weight: bold\">)</span> or transition risks <span style=\"font-weight: bold\">(</span>such as regulatory or technology changes<span style=\"font-weight: bold\">)</span> are expected to be widespread and unpredictable. \n",
              "Certain impacts of physical risk may include: temperature changes that increase the heating and cooling costs at stores, clubs, and distribution or fulfillment centers; extreme weather patterns that \n",
              "affect the production or sourcing of certain commodities; flooding and extreme storms that damage or destroy our buildings and inventory; and heat and extreme weather\n",
              "</pre>\n"
            ]
          },
          "metadata": {}
        },
        {
          "output_type": "display_data",
          "data": {
            "text/plain": [
              "\u001b[2m[Step 0: Duration 1.67 seconds| Input tokens: 1,046 | Output tokens: 22]\u001b[0m\n"
            ],
            "text/html": [
              "<pre style=\"white-space:pre;overflow-x:auto;line-height:normal;font-family:Menlo,'DejaVu Sans Mono',consolas,'Courier New',monospace\"><span style=\"color: #7f7f7f; text-decoration-color: #7f7f7f\">[Step 0: Duration 1.67 seconds| Input tokens: 1,046 | Output tokens: 22]</span>\n",
              "</pre>\n"
            ]
          },
          "metadata": {}
        },
        {
          "output_type": "display_data",
          "data": {
            "text/plain": [
              "\u001b[38;2;212;183;2m━━━━━━━━━━━━━━━━━━━━━━━━━━━━━━━━━━━━━━━━━━━━━━━━━━━━━━━━━━━━━━━━━━━━━━━━━━━━━━━━━━━━━━━━━━━━━━━━ \u001b[0m\u001b[1mStep \u001b[0m\u001b[1;36m1\u001b[0m\u001b[38;2;212;183;2m ━━━━━━━━━━━━━━━━━━━━━━━━━━━━━━━━━━━━━━━━━━━━━━━━━━━━━━━━━━━━━━━━━━━━━━━━━━━━━━━━━━━━━━━━━━━━━━━━\u001b[0m\n"
            ],
            "text/html": [
              "<pre style=\"white-space:pre;overflow-x:auto;line-height:normal;font-family:Menlo,'DejaVu Sans Mono',consolas,'Courier New',monospace\"><span style=\"color: #d4b702; text-decoration-color: #d4b702\">━━━━━━━━━━━━━━━━━━━━━━━━━━━━━━━━━━━━━━━━━━━━━━━━━━━━━━━━━━━━━━━━━━━━━━━━━━━━━━━━━━━━━━━━━━━━━━━━ </span><span style=\"font-weight: bold\">Step </span><span style=\"color: #008080; text-decoration-color: #008080; font-weight: bold\">1</span><span style=\"color: #d4b702; text-decoration-color: #d4b702\"> ━━━━━━━━━━━━━━━━━━━━━━━━━━━━━━━━━━━━━━━━━━━━━━━━━━━━━━━━━━━━━━━━━━━━━━━━━━━━━━━━━━━━━━━━━━━━━━━━</span>\n",
              "</pre>\n"
            ]
          },
          "metadata": {}
        },
        {
          "output_type": "display_data",
          "data": {
            "text/plain": [
              "╭──────────────────────────────────────────────────────────────────────────────────────────────────────────────────────────────────────────────────────────────────────────────────────────────────────╮\n",
              "│ Calling tool: 'final_answer' with arguments: {'answer': 'Costco manages its supply chain by purchasing quality merchandise from numerous domestic and foreign suppliers and importers, including     │\n",
              "│ both U.S. and international suppliers. They have relationships with suppliers to efficiently sell significant quantities of products and offer low prices to customers. The company faces risks and  │\n",
              "│ vulnerabilities in its supply chain, including uncertainties in supply, pricing, and access to new products, supplier compliance issues, risks related to labor disputes, natural disasters, public  │\n",
              "│ health emergencies, and economic and political conditions, as well as commodity price fluctuations and disruptions in transportation and delivery processes.'}                                       │\n",
              "╰──────────────────────────────────────────────────────────────────────────────────────────────────────────────────────────────────────────────────────────────────────────────────────────────────────╯\n"
            ],
            "text/html": [
              "<pre style=\"white-space:pre;overflow-x:auto;line-height:normal;font-family:Menlo,'DejaVu Sans Mono',consolas,'Courier New',monospace\">╭──────────────────────────────────────────────────────────────────────────────────────────────────────────────────────────────────────────────────────────────────────────────────────────────────────╮\n",
              "│ Calling tool: 'final_answer' with arguments: {'answer': 'Costco manages its supply chain by purchasing quality merchandise from numerous domestic and foreign suppliers and importers, including     │\n",
              "│ both U.S. and international suppliers. They have relationships with suppliers to efficiently sell significant quantities of products and offer low prices to customers. The company faces risks and  │\n",
              "│ vulnerabilities in its supply chain, including uncertainties in supply, pricing, and access to new products, supplier compliance issues, risks related to labor disputes, natural disasters, public  │\n",
              "│ health emergencies, and economic and political conditions, as well as commodity price fluctuations and disruptions in transportation and delivery processes.'}                                       │\n",
              "╰──────────────────────────────────────────────────────────────────────────────────────────────────────────────────────────────────────────────────────────────────────────────────────────────────────╯\n",
              "</pre>\n"
            ]
          },
          "metadata": {}
        },
        {
          "output_type": "display_data",
          "data": {
            "text/plain": [
              "\u001b[1;38;2;212;183;2mFinal answer: Costco manages its supply chain by purchasing quality merchandise from numerous domestic and foreign suppliers and importers, including both U.S. and international suppliers. They have \u001b[0m\n",
              "\u001b[1;38;2;212;183;2mrelationships with suppliers to efficiently sell significant quantities of products and offer low prices to customers. The company faces risks and vulnerabilities in its supply chain, including \u001b[0m\n",
              "\u001b[1;38;2;212;183;2muncertainties in supply, pricing, and access to new products, supplier compliance issues, risks related to labor disputes, natural disasters, public health emergencies, and economic and political \u001b[0m\n",
              "\u001b[1;38;2;212;183;2mconditions, as well as commodity price fluctuations and disruptions in transportation and delivery processes.\u001b[0m\n"
            ],
            "text/html": [
              "<pre style=\"white-space:pre;overflow-x:auto;line-height:normal;font-family:Menlo,'DejaVu Sans Mono',consolas,'Courier New',monospace\"><span style=\"color: #d4b702; text-decoration-color: #d4b702; font-weight: bold\">Final answer: Costco manages its supply chain by purchasing quality merchandise from numerous domestic and foreign suppliers and importers, including both U.S. and international suppliers. They have </span>\n",
              "<span style=\"color: #d4b702; text-decoration-color: #d4b702; font-weight: bold\">relationships with suppliers to efficiently sell significant quantities of products and offer low prices to customers. The company faces risks and vulnerabilities in its supply chain, including </span>\n",
              "<span style=\"color: #d4b702; text-decoration-color: #d4b702; font-weight: bold\">uncertainties in supply, pricing, and access to new products, supplier compliance issues, risks related to labor disputes, natural disasters, public health emergencies, and economic and political </span>\n",
              "<span style=\"color: #d4b702; text-decoration-color: #d4b702; font-weight: bold\">conditions, as well as commodity price fluctuations and disruptions in transportation and delivery processes.</span>\n",
              "</pre>\n"
            ]
          },
          "metadata": {}
        },
        {
          "output_type": "display_data",
          "data": {
            "text/plain": [
              "\u001b[2m[Step 1: Duration 2.01 seconds| Input tokens: 3,692 | Output tokens: 144]\u001b[0m\n"
            ],
            "text/html": [
              "<pre style=\"white-space:pre;overflow-x:auto;line-height:normal;font-family:Menlo,'DejaVu Sans Mono',consolas,'Courier New',monospace\"><span style=\"color: #7f7f7f; text-decoration-color: #7f7f7f\">[Step 1: Duration 2.01 seconds| Input tokens: 3,692 | Output tokens: 144]</span>\n",
              "</pre>\n"
            ]
          },
          "metadata": {}
        },
        {
          "output_type": "stream",
          "name": "stdout",
          "text": [
            "Final answer:\n",
            "Costco manages its supply chain by purchasing quality merchandise from numerous domestic and foreign suppliers and importers, including both U.S. and international suppliers. They have relationships with suppliers to efficiently sell significant quantities of products and offer low prices to customers. The company faces risks and vulnerabilities in its supply chain, including uncertainties in supply, pricing, and access to new products, supplier compliance issues, risks related to labor disputes, natural disasters, public health emergencies, and economic and political conditions, as well as commodity price fluctuations and disruptions in transportation and delivery processes.\n"
          ]
        }
      ]
    },
    {
      "cell_type": "markdown",
      "source": [
        "In this example, the only thing Agentic RAG did was modifying the query for the retriever."
      ],
      "metadata": {
        "id": "Mp2I165ZGf0r"
      }
    },
    {
      "cell_type": "markdown",
      "source": [
        "While both answers are quite good, just by modifying the query, the Agentic RAG managed to pull out docs that are more relevent even in a single retrieval step, and generate a slightly better response as a result.\n",
        "\n",
        "Agentic answer states that Costco buys from \"numerous domestic and foreign suppliers and importers\". This directly reflects the source's emphasis on not being reliant on any single supplier and seeking alternatives when needed. Vanilla RAG response only mentions a \"global network of suppliers\" which is less precise.\n",
        "\n",
        "Agentic answer lists specific supply chain risks that are directly stated in the source such as \"uncertainties in supply, pricing, and access to new products, supplier compliance issues, risks related to labor disputes, natural disasters, public health emergencies, and economic and political conditions\". It also mentions \"commodity price fluctuations and disruptions in transportation and delivery processes\". Vanilla RAG only mentions general \"disruptions in the supply chain,\" \"logistical challenges,\" and \"compliance issues,\" which is much less specific and not as true to the information in the source."
      ],
      "metadata": {
        "id": "UF4LBJgeFtL6"
      }
    },
    {
      "cell_type": "markdown",
      "source": [
        "## Conclusion\n",
        "\n",
        "As you have seen in this tutorial, by rephrasing the query, or decomposing it, and making multiple uses of the retriever, Agentic RAG is able to provide higher quality answers compared to Vanilla RAG, even though they use the exact same retriever over exact same documents, and the exact same generation LLM.\n",
        "\n",
        "Agentic RAG also requires a more powerful LLM compared to what you can get away with in non-agentic RAG, for the following reasons:\n",
        "* Long context is needed for the multiple steps\n",
        "* An agent may need to perform multiple step, and mistakes in steps can propagate and compound.\n",
        "\n",
        "You may also notice, that Vanilla RAG is faster, and uses fewer tokens. An AI agent can take multiple steps and deliver a good result but also quickly burn through your API credits. It's always a good idea to consider all methods available for you, the actual use case you're trying to solve, and what approach will yield the best result for your set of requirements.\n",
        "\n",
        "Next steps:\n",
        "\n",
        "Check out the default system prompt that `smolagents` uses for tool calling: [here on GitHub](https://github.com/huggingface/smolagents/blob/681758ae84a8075038dc676d8af7262077bd00c3/src/smolagents/prompts.py#L114C1-L219C4). You can provide a custom `system_prompt` when initializing your agent. Try it with examples that are more representative of your use case, and modified instructions.\n",
        "\n"
      ],
      "metadata": {
        "id": "sAWxsdBJKL4K"
      }
    }
  ]
}