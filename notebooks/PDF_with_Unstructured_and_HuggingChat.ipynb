{
  "nbformat": 4,
  "nbformat_minor": 0,
  "metadata": {
    "colab": {
      "provenance": []
    },
    "kernelspec": {
      "name": "python3",
      "display_name": "Python 3"
    },
    "language_info": {
      "name": "python"
    }
  },
  "cells": [
    {
      "cell_type": "markdown",
      "source": [
        "# PDF processing with Unstructured and querying with HuggingChat\n",
        "\n",
        "This sample notebook sends a PDF file to [Unstructured API services](https://docs.unstructured.io/api-reference/api-services/overview) for processing. Unstructured processes the PDF and extracts the PDF's content. The notebook then sends some of the content to [HuggingChat](https://huggingface.co/chat/), Hugging Face's open-source AI chatbot, along with some queries about this content."
      ],
      "metadata": {
        "id": "_RZcS5ZqayfA"
      }
    },
    {
      "cell_type": "markdown",
      "source": [
        "## Step 1: Install the Unstructured and HuggingChat libraries\n",
        "\n",
        "---\n",
        "\n"
      ],
      "metadata": {
        "id": "4ka1Nv0MC225"
      }
    },
    {
      "cell_type": "code",
      "execution_count": null,
      "metadata": {
        "id": "3RQf3-ZuXKG7"
      },
      "outputs": [],
      "source": [
        "%pip install -q \"unstructured\"\n",
        "%pip install -q hugchat"
      ]
    },
    {
      "cell_type": "markdown",
      "source": [
        "## Step 2: Set imports\n",
        "\n",
        "---"
      ],
      "metadata": {
        "id": "_bebZJLeDOxl"
      }
    },
    {
      "cell_type": "code",
      "source": [
        "from unstructured_client import UnstructuredClient\n",
        "from unstructured_client.models import operations, shared\n",
        "\n",
        "from hugchat import hugchat\n",
        "from hugchat.login import Login\n",
        "\n",
        "from google.colab import userdata\n",
        "\n",
        "import json, os"
      ],
      "metadata": {
        "id": "XDIm6joAX3dy"
      },
      "execution_count": null,
      "outputs": []
    },
    {
      "cell_type": "markdown",
      "source": [
        "## Step 3: Set your Unstructured API key and API URL\n",
        "\n",
        "---\n",
        "\n",
        "Get a key and URL:\n",
        "\n",
        "- Pay-as-you-go unlimited version: https://docs.unstructured.io/api-reference/api-services/saas-api-development-guide#get-started\n",
        "- Limited free version: https://docs.unstructured.io/api-reference/api-services/free-api#get-an-api-key\n",
        "\n",
        "Set the following secrets:\n",
        "\n",
        "- `UNSTRUCTURED_API_KEY` to your Unstructured API key.\n",
        "- `UNSTRUCTURED_API_URL` to your Unstructured API URL.\n",
        "\n",
        "To set these:\n",
        "\n",
        "1. On the left sidebar, click the **Secrets** icon.\n",
        "2. Enter each name/value pair above.\n",
        "3. Switch on the **Notebook access** toggle for each name/value pair."
      ],
      "metadata": {
        "id": "ksk0ORlfDVYE"
      }
    },
    {
      "cell_type": "markdown",
      "source": [
        "## Step 4: Set your Hugging Face account's email address and account password\n",
        "\n",
        "---\n",
        "\n",
        "Get a Hugging Face account: https://huggingface.co/join\n",
        "\n",
        "Set the following secrets:\n",
        "\n",
        "- `HUGGING_FACE_EMAIL` to your Hugging Face account's email address.\n",
        "- `HUGGING_FACE_PASSWORD` to your Hugging Face account's password.\n",
        "\n",
        "To set these:\n",
        "\n",
        "1. On the left sidebar, click the **Secrets** icon.\n",
        "2. Enter each name/value pair above.\n",
        "3. Switch on the **Notebook access** toggle for each name/value pair."
      ],
      "metadata": {
        "id": "N_MStmzPD5kk"
      }
    },
    {
      "cell_type": "markdown",
      "source": [
        "## Step 5: Upload a PDF file for Unstructured to process\n",
        "\n",
        "---\n",
        "\n",
        "Upload a PDF file before continuing.\n",
        "\n",
        "For example, you can run the following cell to upload a sample PDF file containing the text of the United States Constitution, from https://constitutioncenter.org/media/files/constitution.pdf, into Google Collab session storage.\n",
        "\n",
        "Or, you can upload a different file into Google Collab session storage:\n",
        "\n",
        "1. On the left sidebar, click the **Files** icon.\n",
        "2. Click the **Upload to session storage** icon.\n",
        "\n",
        "Then, provide the filename of the PDF file that was uploaded."
      ],
      "metadata": {
        "id": "ztuBZFDzEOsG"
      }
    },
    {
      "cell_type": "code",
      "source": [
        "!wget https://constitutioncenter.org/media/files/constitution.pdf"
      ],
      "metadata": {
        "colab": {
          "base_uri": "https://localhost:8080/"
        },
        "id": "XVOoxch1vasR",
        "outputId": "abff58af-c6a1-4bb2-8e15-952279f93ada"
      },
      "execution_count": null,
      "outputs": [
        {
          "output_type": "stream",
          "name": "stdout",
          "text": [
            "--2024-08-08 20:48:25--  https://constitutioncenter.org/media/files/constitution.pdf\n",
            "Resolving constitutioncenter.org (constitutioncenter.org)... 104.22.23.181, 104.22.22.181, 172.67.42.106, ...\n",
            "Connecting to constitutioncenter.org (constitutioncenter.org)|104.22.23.181|:443... connected.\n",
            "HTTP request sent, awaiting response... 200 OK\n",
            "Length: 413949 (404K) [application/pdf]\n",
            "Saving to: ‘constitution.pdf’\n",
            "\n",
            "constitution.pdf    100%[===================>] 404.25K  --.-KB/s    in 0.05s   \n",
            "\n",
            "2024-08-08 20:48:25 (7.82 MB/s) - ‘constitution.pdf’ saved [413949/413949]\n",
            "\n"
          ]
        }
      ]
    },
    {
      "cell_type": "code",
      "source": [
        "input_filepath = \"constitution.pdf\""
      ],
      "metadata": {
        "id": "L38pvfcuYuOm"
      },
      "execution_count": null,
      "outputs": []
    },
    {
      "cell_type": "markdown",
      "source": [
        "## Step 6: Provide a function to log in to your Hugging Face account\n",
        "\n",
        "---"
      ],
      "metadata": {
        "id": "svT9o8viE62X"
      }
    },
    {
      "cell_type": "code",
      "source": [
        "def log_in_to_hugging_face() -> hugchat.ChatBot:\n",
        "    sign = Login(email=userdata.get(\"HUGGING_FACE_EMAIL\"), passwd=userdata.get(\"HUGGING_FACE_PASSWORD\"))\n",
        "    cookies = sign.login(cookie_dir_path=\"./cookies/\")\n",
        "    return hugchat.ChatBot(cookies=cookies.get_dict())"
      ],
      "metadata": {
        "id": "fVN5TRcNYJJ7"
      },
      "execution_count": null,
      "outputs": []
    },
    {
      "cell_type": "markdown",
      "source": [
        "## Step 7: Process the PDF\n",
        "\n",
        "---\n",
        "\n",
        "This code:\n",
        "\n",
        "1. Sends the PDF to Unstructured for processing. Unstructured then sends the processed data back.\n",
        "2. Gathers all texts from the processed data that cover voting, such as texts that contain the strings \"vote\", \"voted\", and \"voting\"."
      ],
      "metadata": {
        "id": "xiKwJHjIFGDr"
      }
    },
    {
      "cell_type": "code",
      "source": [
        "print(\"Sending file to Unstructured for processing...\")\n",
        "\n",
        "client = UnstructuredClient(\n",
        "    api_key_auth=userdata.get(\"UNSTRUCTURED_API_KEY\"),\n",
        "    server_url=userdata.get(\"UNSTRUCTURED_API_URL\")\n",
        ")\n",
        "\n",
        "with open(input_filepath, \"rb\") as f:\n",
        "    files = shared.Files(\n",
        "        content=f.read(),\n",
        "        file_name=input_filepath\n",
        "    )\n",
        "\n",
        "req = operations.PartitionRequest(\n",
        "    shared.PartitionParameters(\n",
        "        files=files,\n",
        "        strategy=shared.Strategy.HI_RES\n",
        "    )\n",
        ")\n",
        "\n",
        "print(\"Getting processed data back from Unstructured. This might take a minute...\")\n",
        "res = client.general.partition(request=req)\n",
        "\n",
        "voting_texts = \"\"\n",
        "\n",
        "print(\"Gathering texts...\")\n",
        "\n",
        "for element in res.elements:\n",
        "    if \"vot\" in element[\"text\"]:\n",
        "        voting_texts += \" \" + element[\"text\"]\n",
        "\n",
        "print(\"Done.\")"
      ],
      "metadata": {
        "id": "1qokj3rLYxu4",
        "colab": {
          "base_uri": "https://localhost:8080/"
        },
        "outputId": "a368cb43-ca7e-4263-d23d-c6d3ef346fcb"
      },
      "execution_count": null,
      "outputs": [
        {
          "output_type": "stream",
          "name": "stdout",
          "text": [
            "Sending file to Unstructured for processing...\n",
            "Getting processed data back from Unstructured. This might take a minute...\n",
            "Gathering texts...\n",
            "Done.\n"
          ]
        }
      ]
    },
    {
      "cell_type": "markdown",
      "source": [
        "## Step 8: Send a query to HuggingChat\n",
        "\n",
        "---\n",
        "\n",
        "This code:\n",
        "\n",
        "1. Logs in to your Hugging Face account.\n",
        "2. Sends the matching texts to HuggingChat along with some queries about the text."
      ],
      "metadata": {
        "id": "c3ip2ZmeuBCy"
      }
    },
    {
      "cell_type": "code",
      "source": [
        "print(\"Logging in to your Hugging Face account...\")\n",
        "\n",
        "chatbot = log_in_to_hugging_face()\n",
        "\n",
        "print(\"Querying HuggingChat...\")\n",
        "print(\"\\n-----\\n\")\n",
        "\n",
        "req = f\"Given the following information, what is the minimum voting age in the United States? {voting_texts}\"\n",
        "print(req)\n",
        "print(\"\\n-----\\n\")\n",
        "print(chatbot.chat(text=req))"
      ],
      "metadata": {
        "id": "6vbW2Zc_aB5-",
        "colab": {
          "base_uri": "https://localhost:8080/"
        },
        "outputId": "c9ef13ea-816f-4648-99c5-eb83f32c6076"
      },
      "execution_count": null,
      "outputs": [
        {
          "output_type": "stream",
          "name": "stdout",
          "text": [
            "Logging in to your Hugging Face account...\n",
            "Querying HuggingChat...\n",
            "\n",
            "-----\n",
            "\n",
            "Given the following information, what is the minimum voting age in the United States?  Every Bill which shall have passed the House of Represen- tatives and the Senate, shall, before it become a Law, be presented to the President of the United States; If he ap- prove he shall sign it, but if not he shall return it, with his Objections to that House in which it shall have originated, who shall enter the Objections at large on their Journal, and proceed to reconsider it. If after such Reconsideration two thirds of that House shall agree to pass the Bill, it shall be sent, together with the Objections, to the other House, by which it shall likewise be reconsidered, and if approved by two thirds of that House, it shall become a Law. But in all such Cases the Votes of both Houses shall be determined by Yeas and Nays, and the Names of the Persons voting for and against the Bill shall be entered on the Journal of each House respectively, If any Bill shall not be returned by the President within ten Days (Sundays excepted) after it shall have been presented to him, the Same shall be a Law, in like Manner as if he had signed it, unless the Congress by their Adjournment prevent its Return, in which Case it shall not be a Law [The Electors shall meet in their respective States, and vote by Ballot for two Persons, of whom one at least shall not be an Inhabitant of the same State with themselves. And they shall make a List of all the Persons voted for, and of the Number of Votes for each; which List they shall sign and certify, and transmit sealed to the Seat of the Govern- ment of the United States, directed to the President of the Senate. The President of the Senate shall, in the Presence of the Senate and House of Representatives, open all the Certificates, and the Votes shall then be counted. The Person having the greatest Number of Votes shall be the President, if such Number be a Majority of the whole Number of Electors appointed; and if there be more than one who have such Majority, and have an equal Number of Votes, then the House of Representatives shall immediately chuse by Ballot one of them for President; and if no Person have a Majority, then from the five highest on the List the said House shall in like Manner chuse the President. But in chusing the President, the Votes shall be taken by States, the Representation from each State having one Vote; A quorum for this Purpose shall consist of a Member or Members from two thirds of the States, and a Majority of all the States shall be necessary to a Choice. In every Case, after the Choice of the President, the Person having the greatest Number of Votes of the Electors shall be the Vice President. But if there should remain two or more who have equal Votes, the Senate shall chuse from them by Bal- lot the Vice President.]* Resolved, That the preceeding Constitution be laid before the United States in Congress assembled, and that it is the Opinion of this Convention, that it should afterwards be submitted to a Convention of Delegates, chosen in each State by the People thereof, under the Recommendation of its Legisla- ture, for their Assent and Ratification; and that each Con- vention assenting to, and ratifying the Same, should give Notice thereof to the United States in Congress assembled. Resolved, That it is the Opinion of this Convention, that as soon as the Conventions of nine States shall have ratified this Constitution, the United States in Congress assembled should fix a Day on which Electors should be appointed by the States which shall have ratified the same, and a Day on which the Electors should assemble to vote for the Presi- dent, and the Time and Place for commencing Proceedings under this Constitution The Electors shall meet in their respective states, and vote by ballot for President and Vice-President, one of whom, at least, shall not be an inhabitant of the same state with themselves; they shall name in their ballots the person voted for as President, and in distinct ballots the person voted for as Vice-President, and they shall make distinct lists of all persons voted for as President, and of all persons voted for as Vice-President, and of the number of votes for each, which lists they shall sign and certify, and transmit sealed to the seat of the government of the United States, directed to the President of the Senate;-the President of the Senate shall, in the presence of the Senate and House of Represen- tatives, open all the certificates and the votes shall then be counted;-The person having the greatest number of votes for President, shall be the President, if such number be a majority of the whole number of Electors appointed; and if no person have such majority, then from the persons having the highest numbers not exceeding three on the list of those voted for as President, the House of Representatives shall choose immediately, by ballot, the President. But in choos- ing the President, the votes shall be taken by states, the representation from each state having one vote; a quorum for this purpose shall consist of a member or members from two-thirds of the states, and a majority of all the states shall be necessary to a choice. [And if the House of Representa- tives shall not choose a President whenever the right of choice shall devolve upon them, before the fourth day of March next following, then the Vice-President shall act as President, as in case of the death or other constitutional disability of the President.-]* The person having the greatest number of votes as Vice-President, shall be the Vice-Presi- dent, if such number be a majority of the whole number of Electors appointed, and if no person have a majority, then from the two highest numbers on the list, the Senate shall choose the Vice-President; a quorum for the purpose shall consist of two-thirds of the whole number of Senators, and a majority of the whole number shall be necessary to a choice. But no person constitutionally ineligible to the office of President shall be eligible to that of Vice-President of the United States. Representatives shall be apportioned among the several States according to their respective numbers, counting the whole number of persons in each State, excluding Indians not taxed. But when the right to vote at any election for the choice of electors for President and Vice President of the United States, Representatives in Congress, the Execu- tive and Judicial officers of a State, or the members of the Legislature thereof, is denied to any of the male inhabit- ants of such State, [being twenty-one years of age,]* and citizens of the United States, or in any way abridged, except for participation in rebellion, or other crime, the basis of representation therein shall be reduced in the proportion which the number of such male citizens shall bear to the whole number of male citizens twenty-one years of age in such State. No person shall be a Senator or Representative in Con- gress, or elector of President and Vice President, or hold any office, civil or military, under the United States, or under any State, who, having previously taken an oath, as a member of Congress, or as an officer of the United States, or as a member of any State legislature, or as an executive or judicial officer of any State, to support the Constitution of the United States, shall have engaged in insurrection or rebellion against the same, or given aid or comfort to the enemies thereof. But Congress may by a vote of two-thirds of each House, remove such disability. The right of citizens of the United States to vote shall not be denied or abridged by the United States or by any State on account of race, color, or previous condition of servitude. The Senate of the United States shall be composed of two Senators from each State, elected by the people thereof, for six years; and each Senator shall have one vote. The electors in each State shall have the qualifications requisite for elec- tors of the most numerous branch of the State legislatures. The right of citizens of the United States to vote shall not be denied or abridged by the United States or by any State on account of sex. The right of citizens of the United States to vote in any pri- mary or other election for President or Vice President, for electors for President or Vice President, or for Senator or Representative in Congress, shall not be denied or abridged by the United States or any State by reason of failure to pay poll tax or other tax. Whenever there is a vacancy in the office of the Vice Presi- dent, the President shall nominate a Vice President who shall take office upon confirmation by a majority vote of both Houses of Congress. Thereafter, when the President transmits to the President pro tempore of the Senate and the Speaker of the House of Representatives his written declaration that no inability ex- ists, he shall resume the powers and duties of his office un- less the Vice President and a majority of either the principal officers of the executive department or of such other body as Congress may by law provide, transmit within four days to the President pro tempore of the Senate and the Speaker of the House of Representatives their written declaration that the President is unable to discharge the powers and duties of his office. Thereupon Congress shall decide the issue, assembling within forty-eight hours for that purpose if not in session. If the Congress, within twenty-one days after receipt of the latter written declaration, or, if Congress is not in session, within twenty-one days after Congress is required to assemble, determines by two-thirds vote of both Houses that the President is unable to discharge the powers and duties of his office, the Vice President shall continue to discharge the same as Acting President; otherwise, the Presi- dent shall resume the powers and duties of his office. The right of citizens of the United States, who are eighteen years of age or older, to vote shall not be denied or abridged by the United States or by any State on account of age.\n",
            "\n",
            "-----\n",
            "\n",
            "The minimum voting age in the United States is 18 years old, as stated in the last section of the text:\n",
            "\n",
            "\"The right of citizens of the United States, who are eighteen years of age or older, to vote shall not be denied or abridged by the United States or by any State on account of age.\"\n",
            "\n",
            "Note that earlier in the text, it is mentioned that the right to vote is denied to male inhabitants under the age of 21, but this is superseded by the later provision setting the minimum voting age at 18.\n"
          ]
        }
      ]
    },
    {
      "cell_type": "markdown",
      "source": [
        "## Step 9: Send another related query to HuggingChat\n",
        "\n",
        "---\n",
        "\n",
        "This code makes another query that is related to the previous one."
      ],
      "metadata": {
        "id": "UaJ7FujjuUvL"
      }
    },
    {
      "cell_type": "code",
      "source": [
        "print(\"Querying HuggingChat again...\")\n",
        "print(\"\\n-----\\n\")\n",
        "\n",
        "follow_up = \"And when were women given the right to vote in the United States?\"\n",
        "print(follow_up)\n",
        "print(\"\\n-----\\n\")\n",
        "\n",
        "print(chatbot.chat(text=follow_up))"
      ],
      "metadata": {
        "id": "bHS9jLJ1gJAy",
        "colab": {
          "base_uri": "https://localhost:8080/"
        },
        "outputId": "75ad0f99-770f-495f-a304-4e7eaffe52f4"
      },
      "execution_count": null,
      "outputs": [
        {
          "output_type": "stream",
          "name": "stdout",
          "text": [
            "Querying HuggingChat again...\n",
            "\n",
            "-----\n",
            "\n",
            "And when were women given the right to vote in the United States?\n",
            "\n",
            "-----\n",
            "\n",
            "According to the text, women were given the right to vote in the United States when the following provision was added:\n",
            "\n",
            "\"The right of citizens of the United States to vote shall not be denied or abridged by the United States or by any State on account of sex.\"\n",
            "\n",
            "This provision, also known as the 19th Amendment to the United States Constitution, was ratified on August 18, 1920.\n"
          ]
        }
      ]
    }
  ]
}